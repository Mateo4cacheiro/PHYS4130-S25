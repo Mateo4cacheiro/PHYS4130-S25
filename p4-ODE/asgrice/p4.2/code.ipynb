{
 "cells": [
  {
   "attachments": {},
   "cell_type": "markdown",
   "metadata": {
    "id": "Sz5RpMPj_sW9"
   },
   "source": [
    "# Module 4.2: Ordinary Differential Equations (Runge-Kutta Method)\n",
    "\n",
    "Today, we'll learn about a better differential equation solver, and how not to reinvent the wheel.\n",
    "\n",
    "## Learning objectives:\n",
    "* Better algorithms > faster computers\n",
    "* Write a slightly more complex algorithm\n",
    "* Practice using external libraries"
   ]
  },
  {
   "attachments": {},
   "cell_type": "markdown",
   "metadata": {
    "id": "eMhfwLu2_sXE"
   },
   "source": [
    "# Pre-class\n",
    "\n",
    "Download the PDF of [TAK](https://catalog.lib.ncsu.edu/record/NCSU4441969) and read Sec 7.2. You will probably find it helpful to read along using a paper/pencil, and/or be able to draw on your PDF.\n",
    "\n",
    "Read through the module below, to familiarize yourself with the day's work. There is a lot of mathematical notation here, so come to class to prepared to ask questions about what you don't understand."
   ]
  },
  {
   "attachments": {},
   "cell_type": "markdown",
   "metadata": {
    "id": "iLnM_oAF_sXF"
   },
   "source": [
    "# In class"
   ]
  },
  {
   "attachments": {},
   "cell_type": "markdown",
   "metadata": {
    "id": "fV0ikk95_sXG"
   },
   "source": [
    "## Second order Runge-Kutta\n",
    "\n",
    "Recall that a system of ordinary differential equations (ODE’s) can be written as\n",
    "$$\n",
    "\\frac{du}{dt} = f (u, t)\n",
    "$$\n",
    "The vector of dependent variables is denoted $u$, and the independent variable is $t$. The right–hand side, $f(u,t)$, is a vector of functions of the dependent and independent variables. \n",
    "\n",
    "For the Euler method, we approximate the ODE’s at time $t = t_i \\equiv i\\Delta t$ by \n",
    "$$\n",
    "\\frac{du}{dt}\\approx (u_{i+1} - u_i)/\\Delta t = f(u_i,t_i)\\Delta t,\n",
    "$$\n",
    "where $u_i \\equiv u(t_i)$. Rearranging, we have the result\n",
    "$$\n",
    "u_{i+1} =u_i +f(u_i,t_i) \\Delta t\n",
    "$$\n",
    "which allows us to solve for $u_{i+1}$ given $u_i$. \n",
    "\n",
    "The Taylor series expansion of $u(t_i + \\Delta t)$ shows that the exact result is\n",
    "$$\n",
    "u_{i+1} =u_i +f(u_i,t_i)\\Delta t+\\mathcal{O}(\\Delta t^2)\n",
    "$$\n",
    "where $\\mathcal{O}(\\Delta t^2)$ denotes terms of order  t2. Thus, each step of the Euler method introduces truncation errors proportional to $\\Delta t^2$. Since the number of timesteps required to reach a finite time is proportional to $1/\\Delta t$, the cumulative error in the Euler method is order $\\Delta t$. We say that the Euler method is a _first order_ method, meaning that the errors are proportional to the first power of $\\Delta t$.\n",
    "\n",
    "Go back and look at your plots of error vs `dt` to confirm for yourself that this is the case."
   ]
  },
  {
   "attachments": {},
   "cell_type": "markdown",
   "metadata": {
    "id": "xP_vac0A_sXH"
   },
   "source": [
    "The second order Runge–Kutta method (RK2) is defined by the following two–substep process:\n",
    "$$\n",
    "\\begin{aligned}\n",
    "u_h &= u_i +f(u_i,t_i)\\Delta t/2 \\\\\n",
    "u_{i+1} &= u_i +f(u_h,t_h)\\Delta t\n",
    "\\end{aligned}\n",
    "$$\n",
    "where $t_h \\equiv t_i +  \\Delta t/2$. In the first substep, the Euler method is used to estimate the value of $u$ at the half timestep. That is, the value of $u$ at time $t_h \\equiv t_i + \\Delta t/2$. Here, this value is denoted $u_h$; sometimes it is denoted $u_{i+1/2}$. The second substep looks just like the Euler method, but instead of using $u_i$ and $t_i$ in the function $f$, we use the half–timestep values $u_h$ and $t_h$."
   ]
  },
  {
   "attachments": {},
   "cell_type": "markdown",
   "metadata": {
    "id": "4Rbhjzzt_sXI"
   },
   "source": [
    "__This algorithm identically reproduces the second order term in the Taylor expansion of $u(t+\\Delta t)$.  Thus, the error goes as $\\Delta t^2$!__\n",
    "\n",
    "## Exercise\n",
    "\n",
    "Implement the RK2 solver in the code below."
   ]
  },
  {
   "cell_type": "code",
   "execution_count": null,
   "metadata": {
    "id": "5JheJyf5_sXJ"
   },
   "outputs": [],
   "source": [
    "import numpy as np\n",
    "import pylab as p\n",
    "\n",
    "tau = 0.7        # mean lifetime, in gigayears\n",
    "N0 = 100.0 # initial number of nuclei\n",
    "\n",
    "tmin = 0.0\n",
    "tmax = 4.0\n",
    "\n",
    "nts=20\n",
    "\n",
    "# Create an array to hold the times\n",
    "t_array = np.linspace(tmin, tmax, nts, endpoint=False)  \n",
    "dt = t_array[1] - t_array[0]  #  This is an easy way to define dt that is not error prone\n",
    "\n",
    "# Empty array to hold the number of nuclei\n",
    "N_array = np.zeros( len(t_array) )\n",
    "\n",
    "# Empty array for Euler comparison\n",
    "N_euler = np.zeros( len(t_array) )\n",
    "\n",
    "\n",
    "# Do the simple Euler solution\n",
    "# Set the initial condition\n",
    "N_euler[0] = N0\n",
    "for it in range(0, len(t_array)-1 ):\n",
    "    N_euler[it+1] = N_euler[it] + dt * (-1./tau * N_euler[it])\n",
    "    \n",
    "# The above should have been familiar from Module 6.1\n",
    "\n",
    "# Do the RK2 solution\n",
    "N_array[0] = N0\n",
    "for it in range(0, len(t_array)-1 ):\n",
    "    t  = t_array[it]         # Don't necessarily need it but nice to have a simpler named variable\n",
    "    th = t_array[it] + dt/2  # Note: we don't need this for this particular ODE\n",
    "    \n",
    "    N_h           = N_array[it] + dt # FILL THIS IN\n",
    "    N_array[it+1] = N_array[it] + dt # FILL THIS IN\n",
    "    \n",
    "    \n",
    "# Make a plot (note the label for the curve)\n",
    "p.plot(t_array, N_euler, 'o', label=\"Euler Method with nts=\"+str(nts))\n",
    "p.plot(t_array, N_array, 'o', label=\"RK2 Method with nts=\"+str(nts))\n",
    "p.plot(t_array, N0*np.exp(-t_array/tau),'k:',label=\"Analytic result\")\n",
    "\n",
    "# Add a legend (based on the labels)\n",
    "p.legend()\n",
    "\n",
    "# Add a horizontal axis\n",
    "p.axhline(0.0, color='k', linestyle='--')\n",
    "\n",
    "# Show the plot\n",
    "p.show()"
   ]
  },
  {
   "attachments": {},
   "cell_type": "markdown",
   "metadata": {
    "id": "ZOJYYto0_sXM"
   },
   "source": [
    "A more usable differential equation solver\n",
    "------------------------------\n",
    "We’ve now used the Euler/RK2 methods to solve a few differential equations, and have probably either re-written the code or copied it previously. However, we can do better! We can re-write the code in a way that makes it usable for a variety of problems without changing the differential equation solver.  Consider the Euler solver we've been using:\n"
   ]
  },
  {
   "cell_type": "code",
   "execution_count": null,
   "metadata": {
    "id": "UUMPTc2d_sXM"
   },
   "outputs": [],
   "source": [
    "import numpy as np\n",
    "import pylab as p\n",
    "\n",
    "tau = 0.7        # mean lifetime\n",
    "N0 = 100.0       # initial number of nuclei\n",
    "tmin = 0.0       # start time\n",
    "tmax = 4.0       # end time\n",
    "nts=20           # number of points\n",
    "\n",
    "# Create an array to hold the times and number of nuclei\n",
    "t = np.linspace(tmin, tmax, nts + 1)  \n",
    "N = np.zeros( len(t_array) )\n",
    "\n",
    "dt = t[1] - t[0]  #  This is an easy way to define dt that is not error prone\n",
    "\n",
    "# Do the simple Euler solution\n",
    "N[0] = N0\n",
    "for it in range(0, len(t)-1 ):\n",
    "    N[it+1] = N[it] + dt* (-1./tau * N[it])"
   ]
  },
  {
   "attachments": {},
   "cell_type": "markdown",
   "metadata": {
    "id": "z_esFDUD_sXN"
   },
   "source": [
    "We can re-write the solver in its own function, and then pass in a separate function that knows how to compute the right hand side of the equation (the derivative):"
   ]
  },
  {
   "cell_type": "code",
   "execution_count": null,
   "metadata": {
    "id": "3pDG1wfh_sXO"
   },
   "outputs": [],
   "source": [
    "import numpy as np\n",
    "import pylab as p\n",
    "\n",
    "# This function calculates the RHS of the differential equation\n",
    "# for the decay problem: just -(1/tau) * N\n",
    "def decay_deriv(N,t):\n",
    "    # The derivative in principle may depend on N and t -- in this\n",
    "    # case, it only depends on N\n",
    "    return -(1./tau) * N\n",
    "\n",
    "# This function runs an Euler solver.  We have to tell it the initial\n",
    "# value, the min/max time range, the number of time points,\n",
    "# and how to compute the derivative (we pass in a function\n",
    "# for this).\n",
    "def Euler_solver(N_initial, tmin, tmax, nts, deriv):\n",
    "    N = np.zeros(nts+1)\n",
    "    t = np.linspace(tmin, tmax, nts+1)\n",
    "    \n",
    "    # Note: a way of defining dt that is less error-prone\n",
    "    dt = t[1] - t[0]\n",
    "    N[0] = N_initial\n",
    "    for it in range(0,nts):\n",
    "        N[it+1] = N[it] + dt * deriv(N[it], t[it])\n",
    "    return t, N\n",
    "\n",
    "tau = 0.7        # mean lifetime\n",
    "N0 = 100.0       # initial number of nuclei\n",
    "tmin = 0.0       # start time\n",
    "tmax = 4.0       # end time\n",
    "nts=20           # number of points\n",
    "\n",
    "t,N_euler = Euler_solver(N0, tmin, tmax, nts, decay_deriv)\n",
    "\n",
    "# I wonder what these things are?  Let's look at their shapes.\n",
    "print (\"Shapes:\",np.shape(t), np.shape(N_euler))\n",
    "\n",
    "p.plot(t,N_euler,'o-')\n",
    "p.show()"
   ]
  },
  {
   "attachments": {},
   "cell_type": "markdown",
   "metadata": {
    "id": "mA0kzBaX_sXO"
   },
   "source": [
    "## Digging in deeper \n",
    "\n",
    "Let's dissect the code above a little bit.  We've defined a few functions, we'll get to those in a minute.  Below those, we find the initial value (`N0`), the time axis parameters (`tmin, tmax, nts`) and the physics (`tau`). After that, we find this line:\n",
    "\n",
    "    t,N_euler = Euler_solver(N0, tmin, tmax, nts, decay_deriv)\n",
    "    \n",
    "This calls the `Euler_solver` function with a bunch of parameters, and assigns the return values (__note there are two return values__) to the `t` and `N_euler` variables.  We won't _a priori_ know what they are, but we can check with a call to `shape()`.  It turns out these are length-21 arrays -- that kind of makes sense since that's what I expect from an Euler solver. (Note, I could have written it so that it takes a t array as input as well).  \n",
    "\n",
    "As the last argument, we are passing in `decay_deriv`.  This is the name of the function that, given $N(t)$ and $t$, knows how to compute the derivative (i.e. it has the right hand side of the ODE in it).\n",
    "\n",
    "Within `Euler_solver`, we find the usual, now-familiar setup for an Euler solver.  One line is somewhat different:\n",
    "\n",
    "    N[it+1] = N[it] + dt * deriv(N[it], t[it])\n",
    "    \n",
    "In the past, we had the explicit form of the derivative for the nuclear decay problem at the end of that line.  Now, instead, we'll call yet another function which will compute it for us.  Just like the right hand side of a general ODE, it takes the function (here $N(t)$ and the independent variable $t$).\n",
    "\n",
    "Since we passed `decay_deriv` in to the variable `deriv` of the `Euler_solver` function, that's what will be called to compute the derivative.\n",
    "\n",
    "All of this structure is useful for a few things\n",
    "1. Replacing the derivative function without having to rewrite the whole code\n",
    "2. Understanding how to use better, pre-written differential equation solvers (next section)"
   ]
  },
  {
   "attachments": {},
   "cell_type": "markdown",
   "metadata": {
    "id": "RGAZLCSF_sXP"
   },
   "source": [
    "## Homework 4.2\n",
    "\n",
    "a) Well-commented code which uses your RK2 solver to compute the relative error at the last time point for at least four different resolutions (`nts`).\n",
    "\n",
    "b) Make a plot of log10(error) vs log10(nts), and explain how this shows that the relative errors are proportional to $\\Delta t^2$.\n",
    "\n",
    "c) Compute the relative error in your RK2 code when the number of time steps is set to `nts=100`. Use your Euler code to find the (approximate) number of time steps required for Euler to give a result with comparable error.   "
   ]
  },
  {
   "attachments": {},
   "cell_type": "markdown",
   "metadata": {
    "id": "TngO4WQB_sXP"
   },
   "source": [
    "## Homework 4.3\n",
    "\n",
    "Write a similar function as `Euler_solver` called `RK2_solver` that takes the same arguments and returns the same values. It should use the RK2 algorithm to do the differential equation solving. (Hint: it should only require the addition of a line or two.)\n",
    "\n",
    "Your uploaded code will just be the function `RK2_solver`\n",
    "\n",
    "This will be manually-graded, not autograded, but needs to run correctly inside the notebook. If everything is working, the correct plot will appear for me to grade quickly and give you full credit!"
   ]
  },
  {
   "attachments": {},
   "cell_type": "markdown",
   "metadata": {
    "id": "9K6vtZim_sXP"
   },
   "source": [
    "Someone else's differential equation solver\n",
    "============================\n",
    "There are quite a few ways of solving differential equations that are more complex (and more accurate) than both Euler and RK2 (for example, RK4). Fortunately for us, most of these have already been coded up, and we can simply call them rather than writing each and every one ourselves. Numpy doesn’t have any of these, but Scipy does. __Scipy__ is a large repository of scientific computing code, with many things already implemented, including differential equation solvers. Here, we will use odeint, which stands for Ordinary Differential Equation Integrator. You may find the documentation here: https://docs.scipy.org/doc/scipy/reference/generated/scipy.integrate.odeint.html. \n",
    "\n",
    "Have a look at the documentation, and the example at the bottom of the page. You’ll find that it takes about a million possible arguments, but only three are necessary: the function that computes the derivative, the initial value, and the time axis. We could thus define a function that looks like our Euler/RK2 solvers that calls the scipy integrator as follows:\n",
    "\n",
    "    # We need to make sure that the code has access to the odeint function\n",
    "    # so we import it\n",
    "    from scipy.integrate import odeint\n",
    "    def diffeq_solver_from_scipy(N_initial, tmin, tmax, nts, deriv):\n",
    "        t = np.linspace(tmin, tmax, nts)\n",
    "        \n",
    "        # Note that the order of arguments matches the documentation\n",
    "        N = odeint(deriv, N_initial, t)\n",
    "        \n",
    "        return t,N\n",
    "        \n",
    "Note the similarity to the code we wrote above in the `Euler_solver` function.  This was intentional -- this way, you should be able to simply exchange one function call for another.\n",
    "\n",
    "_Scipy_ by default uses something called the Adams method for differential equation solving.\n",
    "\n",
    "## Homework 4.4\n",
    "\n",
    "a) Write additional code to use the scipy `odeint` integrator to solve the nuclear decay problem. Please use the same parameters we've been using, with `nts=5`. \n",
    "\n",
    "b) Make a well-labelled plot comparing the analytic solution, SciPy odeint result,  RK2 result, and Euler result (all for `nts=5`).\n",
    "\n",
    "c) Comment on the accuracy and precision of the these three differential equation solvers, including pros/cons.\n",
    "\n",
    "d) How is scipy achieving its improved performance?\n",
    "\n",
    "*Hint:* This HW is not as long as it looks! You already have a function that computes each of the three solutions.  All you have to do is put these in one piece of code, call and plot them one by one. Your writeup does not need to repeat code already written for earlier problems, just the new parts."
   ]
  },
  {
   "attachments": {},
   "cell_type": "markdown",
   "metadata": {
    "id": "1ehONjpd_sXQ"
   },
   "source": [
    "# Post-class\n",
    "\n",
    "Between now and the next class meeting: finish the rest of the module on your own."
   ]
  },
  {
   "cell_type": "markdown",
   "metadata": {},
   "source": [
    "# Acknowledgements\n",
    "This workbook is from K.E. Daniels's _Introduction to Scientific Computing_ at NCSU"
   ]
  }
 ],
 "metadata": {
  "colab": {
   "provenance": []
  },
  "kernelspec": {
   "display_name": "Python 3 (ipykernel)",
   "language": "python",
   "name": "python3"
  },
  "language_info": {
   "codemirror_mode": {
    "name": "ipython",
    "version": 3
   },
   "file_extension": ".py",
   "mimetype": "text/x-python",
   "name": "python",
   "nbconvert_exporter": "python",
   "pygments_lexer": "ipython3",
   "version": "3.9.13"
  }
 },
 "nbformat": 4,
 "nbformat_minor": 0
}
