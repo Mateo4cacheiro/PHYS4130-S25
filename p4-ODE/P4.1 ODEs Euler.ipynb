{
 "cells": [
  {
   "cell_type": "markdown",
   "metadata": {
    "id": "TKJNnfCG2PYz"
   },
   "source": [
    "# Project 4: Ordinary Differential Equations\n",
    "## 4.1 (Euler's Method)\n",
    "\n",
    "Today we'll do use the tools we've built up to solve a physics problem: use python to compute the motion of a projectile in the presence of drag!\n",
    "\n",
    "## Learning Objectives\n",
    "* Practice with algorithms and functions\n",
    "* Learn how to discretize a differential equation\n",
    "* Do a few simple problems using the Euler method\n",
    "* Learn about numerical discretization error\n",
    "* Relate a mathematical solution to its physical interpretation"
   ]
  },
  {
   "cell_type": "markdown",
   "metadata": {
    "id": "-lCG2wnr2PY5"
   },
   "source": [
    "# Pre-class\n",
    "\n",
    "This [video](https://youtu.be/p_di4Zn4wz4) covers the basics of how to numerical solve a differential equation. Please watch the first 4:15 (after that it's more advanced but still useful).\n",
    "\n",
    "Download the PDF of [TAK](https://catalog.lib.ncsu.edu/record/NCSU4441969) and read Sec 7.1. You will probably find it helpful to read along using a paper/pencil, and/or be able to draw on your PDF.\n",
    "\n",
    "Read through the module below, to familiarize yourself with the day's work. There is a lot of mathematical notation here, so come to class to prepared to ask questions about what you don't understand.\n",
    "\n",
    "How did early computers at NASA solve differential equations? Read about these [Hidden Figures](https://www.insidescience.org/news/exploring-math-hidden-figures)"
   ]
  },
  {
   "cell_type": "markdown",
   "metadata": {
    "id": "fI32vHCw2PY5"
   },
   "source": [
    "# In-class\n",
    "\n",
    "For the adventurous: there is a newly-released method of combining the notebook format with a visual debugger. If you want to try it out sometime: <https://jupyterlab.readthedocs.io/en/stable/user/debugger.html>"
   ]
  },
  {
   "cell_type": "markdown",
   "metadata": {
    "id": "8RLpAZ4q2PY6"
   },
   "source": [
    "##  Nuclear decay\n",
    "\n",
    "As a warmup, let's calculate and plot the analytic solution of a nuclear decay problem.  \n",
    "\n",
    "Unstable nuclei like ${}^{235}$U, can undergo radioactive decay and break apart into two smaller nuclei along with other decay products. We cannot know precisely when a particular nu- cleus will decay due to the quantum mechanical uncertainty principle, but we can know the probability that it will have decayed after some time.\n",
    "\n",
    "Consider radioactive decay from another perspective. Rather than look at a single ${}^{235}$U nucleus, look at a very large number of nuclei. If we know the probability that a single nucleus will decay after some period of time, then given a large number of nuclei, we can determine the fraction that remain after that period of time. Because the number of nuclei that will decay after some time is proportional to the number that were there to begin with, the rate of change of the number of nuclei is proportional to the number of nuclei. That is, $dN(t)/dt$ is proportional to $N(t)$, where $N(t)$ is the number of nuclei present at time t. Thus, the evolution of $N(t)$ is given by\n",
    "\n",
    "$\\quad \\frac{dN(t)}{dt} = -\\frac{1}{\\tau} N(t)$\n",
    "\n",
    "where the minus sign indicates that the population decreases in time. The constant $\\tau$ is the mean lifetime (not the half–life) of the unstable nucleus.\n",
    "\n",
    "You may recall that the resulting decay is _exponential_, that is, given an initial number of nuclei $N(t=0)\\equiv N_0$,\n",
    "\n",
    "$\\quad N(t) = N_0 \\exp\\left(-\\frac{t}{\\tau}\\right)$\n",
    "\n",
    "This can be obtained via separation of variables.  We rewrite the differential equation as\n",
    "\n",
    "$\\quad \\frac{dN}{N} = -\\frac{dt}{\\tau}$\n",
    "\n",
    "integrate to find\n",
    "\n",
    "$\\quad \\ln(N) = -\\frac{t}{\\tau} + C$\n",
    "\n",
    "and solve for $N(t)$ obtaining the relation above.  The _half-life_ is related to $\\tau$: $t_h = \\tau \\ln 2$.\n",
    "\n",
    "## Exercise\n",
    "\n",
    "Let's plot this result. Below, make an array of times, and calculate the number of nuclei at each time point.  We'll use the initial value $N_0 = 100$ and a mean lifetime $\\tau=0.7$gy.  Given these, a time range from $t=0$gy to $t=4$gy seems reasonable for a plot. What's a gy? A giga-year!\n"
   ]
  },
  {
   "cell_type": "code",
   "execution_count": null,
   "metadata": {
    "id": "jonILRCv2PY7"
   },
   "outputs": [],
   "source": [
    "import numpy as np\n",
    "import pylab as p\n",
    "\n",
    "tmin = 0.0\n",
    "tmax = 4.0\n",
    "nts = 100\n",
    "\n",
    "N0 = 100.0  # Note:  I'm treating this as a floating point number even though the number of nuclei should probably\n",
    "            # be an integer.  We've assumed a large-ish number, so that any fraction of the initial is a whole number.\n",
    "tau = 0.7\n",
    "\n",
    "\n",
    "t_array = # Produce an array that runs from 0 to 4 (in units of gy) with 100-ish points\n",
    "N_array = # Compute the number of nuclei. This can be done directly with array math\n",
    "\n",
    "p.plot(t_array,N_array,'-')\n",
    "p.xlabel(\"Time [gy]\")\n",
    "p.show()\n"
   ]
  },
  {
   "cell_type": "markdown",
   "metadata": {
    "id": "MlJmQY552PY8"
   },
   "source": [
    "Nuclear decay with a numerical differential equation solver -- Euler's method\n",
    "------------------------------\n",
    "We can think about this process another way.  At any given time $t$, we know how to determine the\n",
    "number of nuclei at the next time:\n",
    "\n",
    "$\\quad\\frac{dN(t)}{dt} = -\\frac{1}{\\tau}N(t) \\quad\\rightarrow\\quad N(t+dt) = N(t) - \\frac{dt}{\\tau} N(t)$\n",
    "\n",
    "It is also useful to re-write this using an index notation -- instead of using the time $t$ as a continuous argument, we recall that we typically have an array of times (it has been _discretized_). We can index the times with $t_i$, and can also write the discretized differential equation as\n",
    "\n",
    "$N(t_{i+1}) = N(t_i) - \\frac{\\Delta t}{\\tau} N(t_i)$\n",
    "\n",
    "or even shorter\n",
    "\n",
    "$N_{i+1} = N_i - \\frac{\\Delta t}{\\tau} N_i$\n",
    "\n",
    "\n",
    "Let's try to imagine this as an algorithm:\n",
    "1. We know the initial value of N(t=0) -- let's index that by it=0\n",
    "2. Starting from it=0, determine N[it+1] from N[it] through the relation above\n",
    "3. Stop once we reach the maximum number of time points-1\n",
    "\n",
    "And, as pseudocode:\n",
    "\n",
    "    t_array := a time array that contains the time values we care about. it runs from tmin to tmax and \n",
    "               has N points in it.\n",
    "               \n",
    "    N_array := an array of the same size as t_array where we'll store the number of nuclei\n",
    "    \n",
    "    N[0] = N0  # set the initial value\n",
    "    for each i from 0 to N-1:\n",
    "        the next value of N (N[i+1]) is determined by the current one N[i] + dt * the slope\n",
    "        the slope is the RHS of the differential equation, namely -(1/tau) N\n",
    "\n",
    "The code below implements this approach: walk through it, making sense of each line as you go."
   ]
  },
  {
   "cell_type": "code",
   "execution_count": null,
   "metadata": {
    "id": "rjT_ah6c2PY9"
   },
   "outputs": [],
   "source": [
    "import numpy as np\n",
    "import pylab as p\n",
    "\n",
    "tau = 0.7        # mean lifetime\n",
    "N0 = 100.0 # initial number of nuclei\n",
    "\n",
    "tmin = 0.0\n",
    "tmax = 4.0\n",
    "\n",
    "nts=20\n",
    "\n",
    "# Create an array to hold the times\n",
    "t_array = np.linspace(tmin, tmax, nts, endpoint=False)  \n",
    "# NOTE ENDPOINT HERE: can you figure out what it does? \n",
    "\n",
    "dt = t_array[1] - t_array[0]  \n",
    "# This is an easy way to define dt that is not error prone\n",
    "# Should match (tmax-tmin)/nts if you're careful about \"endpoint\"\n",
    "        \n",
    "print(\"t_array:\",t_array)  # See what it looks like\n",
    "\n",
    "# Empty array to hold the number of nuclei\n",
    "N_array          = np.zeros( nts )\n",
    "\n",
    "# THIS IS THE ACTUAL ALGORITHM PART\n",
    "\n",
    "# Set the initial condition\n",
    "N_array[0] = N0\n",
    "\n",
    "#fill the rest of the solution, step by step\n",
    "for it in range(0, len(t_array)-1 ): # Note the -1: what happens if we don't have it?\n",
    "    \n",
    "    N_array[it+1] = N_array[it] + (-dt/tau) * N_array[it]\n",
    "    \n",
    "    # Some output so we can watch!\n",
    "    print('at time t = {:.3f}, N = {:.3f}'.format(t_array[it+1],N_array[it+1]))\n",
    "\n",
    "p.plot(t_array, N_array, 'x', label=\"Euler Method with nts=\"+str(nts))\n",
    "\n",
    "p.legend()\n",
    "p.axhline(0.0, color='k', linestyle='--')\n",
    "p.show()\n"
   ]
  },
  {
   "cell_type": "markdown",
   "metadata": {
    "id": "YYEohg7J2PY9"
   },
   "source": [
    "Exercise\n",
    "----------------\n",
    "* Make sure you understand how the above code works. \n",
    "* Run this code using various values of `nts`, and compare your answers to the exact answer (you can print this from the cell above).\n",
    "\n",
    "Note that your answers improve as the resolution is increased. (We say that the resolution increases as the number of timesteps `nts` increases for a given time interval `tmax - tmin`. Equivalently, the resolution increases as the timestep `dt` decreases.)\n",
    "\n",
    "* Add to the above code: **Plot the analytic solution on the same plot as the points from the differential equation solver.**"
   ]
  },
  {
   "cell_type": "markdown",
   "metadata": {
    "id": "Fc1sg-V82PY-"
   },
   "source": [
    "## Discretization error\n",
    "\n",
    "As you should have noticed above, when `nts` isn't very big, the numerical result doesn't quite match the analytic result.  This is because of _discretization error_.  It arises because we made the following approximation:\n",
    "\n",
    "$\\quad \\frac{dN(t)}{dt} \\approx \\frac{N(t+\\Delta t) - N(\\Delta t)}{\\Delta t}$\n",
    "\n",
    "Let's do a _Taylor expansion_ of $N(t+\\Delta t)$ around $\\Delta t=0$.\n",
    "\n",
    "$\\quad N(t + \\Delta t) = N(t) + \\left(\\frac{dN(t)}{dt}\\right) \\Delta t + \\frac{1}{2} \\left(\\frac{d^2 N(t)}{dt^2}\\right) \\Delta t^2 +\\ ...$\n",
    "\n",
    "Or, writing this with an index notation,\n",
    "\n",
    "$\\quad N_{i+1} = N_i + \\left(\\frac{dN(t)}{dt}\\right)\\bigg\\vert_{t_i} \\Delta t + \\frac{1}{2} \\left(\\frac{d^2 N(t)}{dt^2}\\right)\\bigg\\vert_{t_i} \\Delta t^2 +\\ ...$\n",
    "\n",
    "Putting in the expression we arrived at above,\n",
    "\n",
    "$\\quad N_{i+1} = \\left[ N_i - \\frac{1}{\\tau} N_i \\Delta t \\right] + \\frac{1}{2} \\left(\\frac{d^2 N(t)}{dt^2}\\right)\\bigg\\vert_{t_i} \\Delta t^2 +\\ ...$\n",
    "\n",
    "Notice that the thing we calculated above (the term in square brackets) isn't _quite_ the right answer, it misses the $2^\\mathrm{nd}$ order and above terms.  This leads to some error, which is known as _discretization_ error. Let's find out how bad this is.\n",
    "\n",
    "Exercise\n",
    "-------------\n",
    "\n",
    "* Using the code above, compare the Euler's method result to the exact analytic result at $t=4$. \n",
    "* Run the code using `nts=20,40,80,160,320`.  \n",
    "* Make a plot of the __relative__ error `(numerical-analytic)/analytic)` at the final time point for those values of `nts` versus `dt`. (you may wish to make an array or list to store the numbers in).  \n",
    "* How does the error change when you double the resolution?"
   ]
  },
  {
   "cell_type": "code",
   "execution_count": null,
   "metadata": {
    "id": "yRcQ-9p42PY-"
   },
   "outputs": [],
   "source": [
    "# You can copy the code above and work in this cell if needed"
   ]
  },
  {
   "cell_type": "markdown",
   "metadata": {
    "id": "HqSU0zFK2PY_"
   },
   "source": [
    "If all went well above, you should have found that the error is linearly proportional to `dt`. This is because of two factors:\n",
    "1. We have neglected terms of order $\\Delta t^2$ and up (because we have more than a single term the error isn't precisely linear).\n",
    "2. Each step accumulates this error, and we have to add all of them up. We have `nts` steps, and `nts` $\\propto$ `1/dt`.\n",
    "\n",
    "The product of these two leads to an error at the endpoint that is proportional to `dt`.\n",
    "\n"
   ]
  },
  {
   "cell_type": "markdown",
   "metadata": {
    "id": "1cvxJBTr2PY_"
   },
   "source": [
    "## An aside -- Euler's method in general\n",
    "\n",
    "\n",
    "Euler’s method can be applied to any system of first order ordinary differential equations (ODE’s). Let $u(t)$ denote a __vector__ of unknowns, and $F(u, t)$ denote a vector of right–hand sides. Then a system of ODE’s can be written as:\n",
    "\n",
    "$\\quad \\frac{d{\\bf u}(t)}{dt} = {\\bf F}({\\bf u},t)$\n",
    "\n",
    "The dependent variables are the components of ${\\bf u}$, and the independent variable is $t$.\n",
    "\n",
    "For example, let's take the system for the variables $x(t), y(t), z(t)$:\n",
    "\n",
    "$$\n",
    "\\begin{aligned}\n",
    "dx/dt &= x y - z + t \\\\\n",
    "dy/dt &= 2 z + x \\\\\n",
    "dz/dt &= t^2 - y z\n",
    "\\end{aligned}\n",
    "$$\n",
    "\n",
    "This can be written in the above notation using\n",
    "\n",
    "$$\n",
    "{\\bf u}(t) = \n",
    "\\left(\\begin{array}{c} \n",
    "x(t) \\\\\n",
    "y(t) \\\\\n",
    "z(t)\n",
    "\\end{array}\n",
    "\\right)\n",
    "$$\n",
    "and\n",
    "$$\n",
    "{\\bf F}({\\bf u},t) = \n",
    "\\left(\\begin{array}{c} \n",
    "x y - z + t \\\\\n",
    "2 z + x \\\\\n",
    "t^2 - y z\n",
    "\\end{array}\n",
    "\\right)\n",
    "$$\n",
    "\n",
    "Note that in this case, the RHS of the differential equation depends explicitly on $t$, which wasn't the case for nuclear decay.\n",
    "\n",
    "Discretizing these equations, and applying the Euler's method, we then find\n",
    "\n",
    "$$\n",
    "u^j_{i+1} = u^j_i + F^j(u_i,t) \\Delta t\n",
    "$$\n",
    "\n",
    "where $j$ is the $j^\\mathrm{th}$ component of ${\\bf u}$, and $i$ indexes the time variable (just as above).  Expanding this back out into $(x,y,z)$, we find:\n",
    "\n",
    "$$\n",
    "\\begin{aligned}\n",
    "x_{i+1} &= x_i + \\left( x_i y_i - z_i + t_i\\right) \\Delta t \\\\\n",
    "y_{i+1} &= y_i + \\left( 2 z_i + x_i\\right) \\Delta t \\\\\n",
    "z_{i+1} &= z_i + \\left(t_i^2 - y_i z_i\\right) \\Delta t\n",
    "\\end{aligned}\n",
    "$$\n",
    "\n",
    "The process of converting the continuous ODE's into discrete equations is called _discretization_."
   ]
  },
  {
   "cell_type": "markdown",
   "metadata": {
    "id": "rWShiFjJ2PZA"
   },
   "source": [
    "## Free Fall equations\n",
    "\n",
    "### Without drag\n",
    "\n",
    "Consider an object freely falling along the vertical $y$ axis under the influence of gravity. Newton’s second law tells us that the time rate of change of velocity is $dv/dt = -g$, where $g$ is the acceleration due to gravity. The velocity is defined as the time rate of change of position, $v = dy/dt$. Thus, the motion of the object is governed by the ODE’s\n",
    "\n",
    "$$\n",
    "\\begin{aligned}\n",
    "\\frac{dy}{dt} &= v \\\\\n",
    "\\frac{dv}{dt} &= -g\n",
    "\\end{aligned}\n",
    "$$\n",
    "\n",
    "We can combine these two into a single second order differential equation:\n",
    "$$\n",
    "\\frac{d^2 y}{dt^2} = -g\n",
    "$$\n",
    "but for numerical purposes, the first order form is easier to use."
   ]
  },
  {
   "cell_type": "markdown",
   "metadata": {
    "id": "xDC5aCa92PZA"
   },
   "source": [
    "### With drag\n",
    "\n",
    "The following image from the lab of Prof. [Lydia Bourouiba](http://lbourouiba.mit.edu) (MIT) was created by leaving a camera running during a cough, so that it shows the $x$ vs. $y$ trajectories of many cough droplets at once\n",
    "\n",
    "<img src=\"https://i.natgeofe.com/n/945f0bfb-c831-4c66-a639-e7ae556cfee2/stock_iow--sneeze_c_2x3.jpg\" alt=\"sneeze\" height=\"200px\">\n",
    "\n",
    "<!-- ![image](https://i.natgeofe.com/n/945f0bfb-c831-4c66-a639-e7ae556cfee2/stock_iow--sneeze_c_2x3.jpg) -->\n",
    "\n",
    "Note that these shapes are not the familiar, symmetric parabolas we are used to seeing for kinematic motion problems. We will model this behavior using a  _Stokes' drag force_ that is proportional to the speed of the droplet, an approximation that is valid only if the airflow isn't too turbulent. \n",
    "\n",
    "$$\n",
    "\\begin{aligned}\n",
    "\\frac{dy}{dt} &= v \\\\\n",
    "\\frac{dv}{dt} &= -g - \\beta v\n",
    "\\end{aligned}\n",
    "$$\n",
    "\n",
    "The pseudocode for the algorithm looks like:\n",
    "\n",
    "    set the initial values of y (y[0]) and v (v[0])\n",
    "    \n",
    "    for each time point i, use the information from that point to determine the position and \n",
    "    velocity at i+1:\n",
    "    \n",
    "        determine v[i+1] from v[i] and the derivative of velocity (acceleration)\n",
    "        determine y[i+1] from y[i] and the derivative of position (velocity, i.e. v[i])"
   ]
  },
  {
   "cell_type": "markdown",
   "metadata": {
    "id": "bmGCxmun2PZA"
   },
   "source": [
    "## Homework 4.1\n",
    "\n",
    "Complete the follow items (which you will then write up and turn in). The first 5 are with no drag, i.e. with $\\beta=0$ and you can check your work against the kinematic equations, and then in #6 you'll run some of the same code again with drag.\n",
    "\n",
    "1) Use Euler’s method to discretize the equations of motion for the position and velocity in the cell above (this is pen and paper math).\n",
    "\n",
    "2) Write a python code that uses Euler’s method to solve for the motion of an object in free fall.  Note that you should solve them *at the same time* -- you can't generally first solve for $v$ and then for $y$. Choose the initial conditions $y_0 = 12.0m$ and $v_0 = 35.0 m/s$ and set $g = 9.8 m/s^2$.\n",
    "\n",
    "3) Use your code to determine the height for times $0 \\leq t \\leq 8 s$, with evenly-spaced values of $t$. Plot a graph of y versus t. (Make sure your graph is properly labeled.)\n",
    "\n",
    "4) Solve for the height of the object analytically, and (for the given initial conditions) find the exact height at $t = 8 s$.\n",
    "\n",
    "5) Have your code compute the relative error |approximate-true|/|true| in the height at $t = 8 s$. Do this for at least four different _resolutions_ (aka number of points). Show that the error is approximately cut in half when the resolution is doubled.\n",
    "\n",
    "6) One of the big advantages of having a computer solve differential equations is that we can solve things that cannot be done easily analytically. To demonstrate this, add a term in the acceleration representing air friction.  Choose a resolution from part 5. that you're happy with. Make a plot of several trajectories with varying values of $\\beta$, including $\\beta= 0$, and also plot the analytic result for $\\beta=0$ (only). (Note: definitely copy your own code from earlier in the problem: the aim is to have all the curves on the same axes.)\n",
    "\n",
    "### Code\n",
    "\n",
    "Your code for item 2 of Problem 4.1, should be implemented as a function `freefall` so that it takes\n",
    "\n",
    "* **Input:** `t, y0, v0, g, beta` (in that order, where `t` is a numpy array of times at which to find $y(t)$ and the other 4 values are floating point numbers)\n",
    "* **Output:** numpy array `y` (together with `t`, this will make $y(t)$, so those two arrays therefore need to have the same length)\n",
    "* the function call for item 2 would therefore look like `y = freefall(t, 12.0, 35.0, 9.8, 0)` assuming that the array `t` had been previously defined \n",
    "* Check that your code works for a few values of $t$.\n",
    "\n",
    "### Writeup\n",
    "\n",
    "b) Discretized equations of motion \n",
    "\n",
    "c) A plot of $y(t)$ for the different resolutions you chose, properly labelled.\n",
    "\n",
    "d)  A plot of the error at $t_{max}$ vs $\\Delta t$ (i.e. for different resolutions), properly labelled.\n",
    "\n",
    "e) Plots of the $y(t)$ and $v(t)$ with drag, properly labelled (item #6 includes item #3. within it; just one plot is fine)\n",
    "\n",
    "f) Some thoughts as to whether your plots with drag make any sense.\n",
    "\n",
    "g) Some indication of which resolution you chose for #6, and why it's acceptable"
   ]
  },
  {
   "cell_type": "markdown",
   "metadata": {
    "id": "RKn3zVwH2PZB"
   },
   "source": [
    "# Post-class\n",
    "\n",
    "* before you leave class today, push your in-class work to the github.\n",
    "* before the next class meeting: you should finish the rest of the exercises on your own, since Module 6.2 builds on the work you did today\n",
    "* it will be helpful (but not required) to also complete much of the HW problem"
   ]
  },
  {
   "cell_type": "markdown",
   "metadata": {
    "id": "C-_YyOWa2PZB"
   },
   "source": [
    "# Acknowledgements\n",
    "This workbook is lightly modified from K.E. Daniels's _Introduction to Scientific Computing_ at NCSU"
   ]
  }
 ],
 "metadata": {
  "colab": {
   "collapsed_sections": [],
   "name": "Module 6.1 ODEs Euler.ipynb",
   "provenance": []
  },
  "kernelspec": {
   "display_name": "Python 3 (ipykernel)",
   "language": "python",
   "name": "python3"
  },
  "language_info": {
   "codemirror_mode": {
    "name": "ipython",
    "version": 3
   },
   "file_extension": ".py",
   "mimetype": "text/x-python",
   "name": "python",
   "nbconvert_exporter": "python",
   "pygments_lexer": "ipython3",
   "version": "3.11.4"
  }
 },
 "nbformat": 4,
 "nbformat_minor": 1
}
