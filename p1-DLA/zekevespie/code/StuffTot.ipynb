{
 "cells": [
  {
   "cell_type": "code",
   "execution_count": 23,
   "id": "3621ec41-45fa-401f-8042-c7e28d0622b7",
   "metadata": {},
   "outputs": [
    {
     "name": "stdout",
     "output_type": "stream",
     "text": [
      "N = 1000 | Time since last checkpoint: 1.39 | Time since start: 1.39\n",
      "N = 2000 | Time since last checkpoint: 3.41 | Time since start: 4.8\n",
      "N = 3000 | Time since last checkpoint: 5.81 | Time since start: 10.61\n",
      "N = 4000 | Time since last checkpoint: 10.1 | Time since start: 20.71\n",
      "N = 5000 | Time since last checkpoint: 13.64 | Time since start: 34.36\n",
      "N = 6000 | Time since last checkpoint: 19.46 | Time since start: 53.81\n",
      "N = 7000 | Time since last checkpoint: 19.23 | Time since start: 73.05\n",
      "N = 8000 | Time since last checkpoint: 22.1 | Time since start: 95.15\n",
      "N = 9000 | Time since last checkpoint: 24.86 | Time since start: 120.01\n",
      "N = 10000 | Time since last checkpoint: 26.35 | Time since start: 146.36\n"
     ]
    },
    {
     "ename": "KeyboardInterrupt",
     "evalue": "",
     "output_type": "error",
     "traceback": [
      "\u001b[0;31m---------------------------------------------------------------------------\u001b[0m",
      "\u001b[0;31mKeyboardInterrupt\u001b[0m                         Traceback (most recent call last)",
      "Cell \u001b[0;32mIn[23], line 79\u001b[0m\n\u001b[1;32m     77\u001b[0m     \u001b[38;5;28;01mbreak\u001b[39;00m\n\u001b[1;32m     78\u001b[0m \u001b[38;5;28;01melse\u001b[39;00m:\n\u001b[0;32m---> 79\u001b[0m     randx \u001b[38;5;241m=\u001b[39m random\u001b[38;5;241m.\u001b[39mrandrange(\u001b[38;5;241m-\u001b[39m\u001b[38;5;241m1\u001b[39m,\u001b[38;5;241m2\u001b[39m)\n\u001b[1;32m     80\u001b[0m     randy \u001b[38;5;241m=\u001b[39m random\u001b[38;5;241m.\u001b[39mrandrange(\u001b[38;5;241m-\u001b[39m\u001b[38;5;241m1\u001b[39m,\u001b[38;5;241m2\u001b[39m)\n\u001b[1;32m     81\u001b[0m     x \u001b[38;5;241m+\u001b[39m\u001b[38;5;241m=\u001b[39m randx\n",
      "File \u001b[0;32m~/miniconda3/envs/Phys4130/lib/python3.12/random.py:291\u001b[0m, in \u001b[0;36mRandom.randrange\u001b[0;34m(self, start, stop, step)\u001b[0m\n\u001b[1;32m    286\u001b[0m     \u001b[38;5;28;01mreturn\u001b[39;00m \u001b[38;5;28mself\u001b[39m\u001b[38;5;241m.\u001b[39mgetrandbits(n \u001b[38;5;241m*\u001b[39m \u001b[38;5;241m8\u001b[39m)\u001b[38;5;241m.\u001b[39mto_bytes(n, \u001b[38;5;124m'\u001b[39m\u001b[38;5;124mlittle\u001b[39m\u001b[38;5;124m'\u001b[39m)\n\u001b[1;32m    289\u001b[0m \u001b[38;5;66;03m## -------------------- integer methods  -------------------\u001b[39;00m\n\u001b[0;32m--> 291\u001b[0m \u001b[38;5;28;01mdef\u001b[39;00m \u001b[38;5;21mrandrange\u001b[39m(\u001b[38;5;28mself\u001b[39m, start, stop\u001b[38;5;241m=\u001b[39m\u001b[38;5;28;01mNone\u001b[39;00m, step\u001b[38;5;241m=\u001b[39m_ONE):\n\u001b[1;32m    292\u001b[0m \u001b[38;5;250m    \u001b[39m\u001b[38;5;124;03m\"\"\"Choose a random item from range(stop) or range(start, stop[, step]).\u001b[39;00m\n\u001b[1;32m    293\u001b[0m \n\u001b[1;32m    294\u001b[0m \u001b[38;5;124;03m    Roughly equivalent to ``choice(range(start, stop, step))`` but\u001b[39;00m\n\u001b[1;32m    295\u001b[0m \u001b[38;5;124;03m    supports arbitrarily large ranges and is optimized for common cases.\u001b[39;00m\n\u001b[1;32m    296\u001b[0m \n\u001b[1;32m    297\u001b[0m \u001b[38;5;124;03m    \"\"\"\u001b[39;00m\n\u001b[1;32m    299\u001b[0m     \u001b[38;5;66;03m# This code is a bit messy to make it fast for the\u001b[39;00m\n\u001b[1;32m    300\u001b[0m     \u001b[38;5;66;03m# common case while still doing adequate error checking.\u001b[39;00m\n",
      "\u001b[0;31mKeyboardInterrupt\u001b[0m: "
     ]
    }
   ],
   "source": [
    "import numpy as np\n",
    "import random\n",
    "import matplotlib.pyplot as plt\n",
    "import time\n",
    "#import numba\n",
    "\n",
    "t0 = time.time()\n",
    "tmid1 = t0\n",
    "particles = 1\n",
    "part_tot = 20000\n",
    "size = 1001 #size of the grid, must be odd for a center\n",
    "x0 = int((size - 1) / 2)\n",
    "e_radius = 15 #edge radius\n",
    "d_radius = 35 # death radius\n",
    "tree = np.zeros([size, size]) # n X n array means array center is [(n-1)/2,(n-1)/2] when n is odd\n",
    "tree[x0, x0] = 1\n",
    "spawn_overlap = 0\n",
    "\n",
    "def Spawn():\n",
    "    rand1 = random.randrange(36000) / 100\n",
    "    angle = rand1 * np.pi / 180\n",
    "    if 90 > rand1 >= 0:\n",
    "        x = -e_radius * np.cos(angle) - x0\n",
    "        y = e_radius * np.sin(angle) - x0\n",
    "    if 180 > rand1 >= 90:\n",
    "        x = e_radius * np.cos(angle) - x0\n",
    "        y = -e_radius * np.sin(angle) - x0\n",
    "    if 270 > rand1 >= 180:\n",
    "        x = -e_radius * np.cos(angle) - x0\n",
    "        y = e_radius * np.sin(angle) - x0\n",
    "    if 360 > rand1 >= 270:\n",
    "        x = e_radius * np.cos(angle) - x0\n",
    "        y = -e_radius * np.sin(angle) - x0\n",
    "    return round(x), round(y)\n",
    "\n",
    "\n",
    "i=0\n",
    "\n",
    "\"\"\" NEW MOVE ?\n",
    "def Move()\n",
    "    randx = random.randrange(-1,2)\n",
    "    randy = random.randrange(-1,2)\n",
    "    #tree[x,y] = 0\n",
    "    x += randx\n",
    "    y += randy\n",
    "    #tree[x,y] = 1\n",
    "\"\"\"\n",
    "spawn = 0\n",
    "while particles < part_tot:\n",
    "    x, y = Spawn()\n",
    "    spawn += 1\n",
    "    if tree[x, y] != 1:\n",
    "    #if tree[x, y] == 1:\n",
    "        #spawn_overlap += 1\n",
    "        #print(\"*** SPAWN OVERLAP ***\")\n",
    "        #if spawn_overlap > 5000:\n",
    "            #break\n",
    "    #else:\n",
    "        while i < 1:\n",
    "            if np.sqrt((x + x0)*(x + x0) + (y + x0)*(y + x0)) > d_radius: # Checking if particle is in death zone\n",
    "                #tree[x,y] = 0\n",
    "                break\n",
    "            elif (tree[x + 1, y] + tree[x - 1, y] + tree[x, y + 1] + tree[x, y - 1] + tree[x + 1, y + 1]  #Long statement checking if particle is near aggregate\n",
    "                   + tree[x + 1, y - 1] + tree[x - 1, y + 1] + tree[x - 1, y - 1] > 0):\n",
    "                tree[x, y] = 1\n",
    "                particles += 1\n",
    "                if (particles / 1000) == int(particles / 1000):\n",
    "                    tmid2 = time.time()\n",
    "                    print(\"N =\", particles, \"| Time since last checkpoint:\", round(tmid2 - tmid1, 2), \"| Time since start:\", round(tmid2 - t0, 2))\n",
    "                    tmid1 = tmid2\n",
    "                if d_radius > np.sqrt((x + x0)*(x + x0) + (y + x0)*(y + x0)) > e_radius and d_radius < x0:\n",
    "                    e_radius += 1\n",
    "                    d_radius += 1\n",
    "                    if d_radius == x0 - 1:\n",
    "                        print(\"*** DEATH RADIUS MAXXED ***\")\n",
    "                    #print(\"*** DEATH RADIUS INCREASED TO\", d_radius, \"***\")\n",
    "                break\n",
    "            else:\n",
    "                randx = random.randrange(-1,2)\n",
    "                randy = random.randrange(-1,2)\n",
    "                x += randx\n",
    "                y += randy\n",
    "                \n",
    "                \"\"\"OLD MOVE\n",
    "                rand2 = random.randrange(4)\n",
    "                if rand2 == 0:\n",
    "                    tree[x, y] = 0\n",
    "                    x += 1\n",
    "                    tree[x, y] = 1\n",
    "                    #print(\"down\")\n",
    "                elif rand2 == 1:\n",
    "                    tree[x, y] = 0\n",
    "                    x -= 1\n",
    "                    tree[x, y] = 1\n",
    "                    #print(\"up\")\n",
    "                elif rand2 == 2:\n",
    "                    tree[x, y] = 0\n",
    "                    y += 1\n",
    "                    tree[x, y] = 1\n",
    "                    #print(\"right\")\n",
    "                elif rand2 == 3:\n",
    "                    tree[x, y] = 0\n",
    "                    y -= 1\n",
    "                    tree[x, y] = 1\n",
    "                    #print(\"left\")\n",
    "                \"\"\"\n",
    "t1 = time.time()\n",
    "hours = int((t1 - t0) / 3600)\n",
    "minutes = int(((t1 - t0) / 3600 - hours) * 60)\n",
    "seconds = int(((((t1 - t0) / 3600 - hours) * 60) - minutes) * 60)\n",
    "print(\"*** TIME ELAPSED :\", hours, \"HOURS,\", minutes, \"MINUTES, AND\", seconds, \"SECONDS ***\")\n",
    "print(\"*** TOTAL PARTICLES =\", particles, \" ***\")\n",
    "plt.matshow(tree)"
   ]
  },
  {
   "cell_type": "code",
   "execution_count": 24,
   "id": "c92c0f6c-16cf-4e1e-a246-a9a426238640",
   "metadata": {},
   "outputs": [
    {
     "name": "stdout",
     "output_type": "stream",
     "text": [
      "10957\n",
      "1.65287136651338\n"
     ]
    },
    {
     "data": {
      "image/png": "[encoded data removed]",
      "text/plain": [
       "<Figure size 480x480 with 1 Axes>"
      ]
     },
     "metadata": {},
     "output_type": "display_data"
    }
   ],
   "source": [
    "print(particles)\n",
    "plt.matshow(tree)\n",
    "print(np.log(particles) / np.log(e_radius))\n",
    "#plt.matshow(tree[225:535, 0:535])"
   ]
  },
  {
   "cell_type": "code",
   "execution_count": 25,
   "id": "36415c65-bfd1-4e2d-84ff-9a4797390166",
   "metadata": {},
   "outputs": [
    {
     "name": "stdout",
     "output_type": "stream",
     "text": [
      "30525\n"
     ]
    }
   ],
   "source": [
    "print(spawn)\n",
    "#print(spawn_overlap)"
   ]
  },
  {
   "cell_type": "code",
   "execution_count": null,
   "id": "1e1d715e-74ae-4c89-bd1d-e6ae1c62fd64",
   "metadata": {},
   "outputs": [],
   "source": []
  }
 ],
 "metadata": {
  "kernelspec": {
   "display_name": "Python 3 (ipykernel)",
   "language": "python",
   "name": "python3"
  },
  "language_info": {
   "codemirror_mode": {
    "name": "ipython",
    "version": 3
   },
   "file_extension": ".py",
   "mimetype": "text/x-python",
   "name": "python",
   "nbconvert_exporter": "python",
   "pygments_lexer": "ipython3",
   "version": "3.12.8"
  }
 },
 "nbformat": 4,
 "nbformat_minor": 5
}
