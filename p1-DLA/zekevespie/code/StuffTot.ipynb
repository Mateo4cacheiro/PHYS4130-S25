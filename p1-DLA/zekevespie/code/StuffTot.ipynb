{
 "cells": [
  {
   "cell_type": "code",
   "execution_count": 14,
   "id": "3621ec41-45fa-401f-8042-c7e28d0622b7",
   "metadata": {},
   "outputs": [
    {
     "name": "stdout",
     "output_type": "stream",
     "text": [
      "N = 1000 | Time since last checkpoint: 8.32 | Time since start: 8.32\n",
      "N = 2000 | Time since last checkpoint: 23.68 | Time since start: 32.0\n",
      "N = 3000 | Time since last checkpoint: 34.64 | Time since start: 66.65\n",
      "N = 4000 | Time since last checkpoint: 49.99 | Time since start: 116.63\n",
      "N = 5000 | Time since last checkpoint: 73.54 | Time since start: 190.17\n",
      "N = 6000 | Time since last checkpoint: 90.04 | Time since start: 280.2\n",
      "N = 7000 | Time since last checkpoint: 109.04 | Time since start: 389.25\n",
      "N = 8000 | Time since last checkpoint: 135.56 | Time since start: 524.81\n",
      "N = 9000 | Time since last checkpoint: 184.66 | Time since start: 709.47\n"
     ]
    },
    {
     "ename": "KeyboardInterrupt",
     "evalue": "",
     "output_type": "error",
     "traceback": [
      "\u001b[0;31m---------------------------------------------------------------------------\u001b[0m",
      "\u001b[0;31mKeyboardInterrupt\u001b[0m                         Traceback (most recent call last)",
      "Cell \u001b[0;32mIn[14], line 61\u001b[0m\n\u001b[1;32m     53\u001b[0m \u001b[38;5;28;01mif\u001b[39;00m tree[x, y] \u001b[38;5;241m!=\u001b[39m \u001b[38;5;241m1\u001b[39m:\n\u001b[1;32m     54\u001b[0m \u001b[38;5;66;03m#if tree[x, y] == 1:\u001b[39;00m\n\u001b[1;32m     55\u001b[0m     \u001b[38;5;66;03m#spawn_overlap += 1\u001b[39;00m\n\u001b[0;32m   (...)\u001b[0m\n\u001b[1;32m     58\u001b[0m         \u001b[38;5;66;03m#break\u001b[39;00m\n\u001b[1;32m     59\u001b[0m \u001b[38;5;66;03m#else:\u001b[39;00m\n\u001b[1;32m     60\u001b[0m     \u001b[38;5;28;01mwhile\u001b[39;00m i \u001b[38;5;241m<\u001b[39m \u001b[38;5;241m1\u001b[39m:\n\u001b[0;32m---> 61\u001b[0m         \u001b[38;5;28;01mif\u001b[39;00m np\u001b[38;5;241m.\u001b[39msqrt((x \u001b[38;5;241m+\u001b[39m x0)\u001b[38;5;241m*\u001b[39m(x \u001b[38;5;241m+\u001b[39m x0) \u001b[38;5;241m+\u001b[39m (y \u001b[38;5;241m+\u001b[39m x0)\u001b[38;5;241m*\u001b[39m(y \u001b[38;5;241m+\u001b[39m x0)) \u001b[38;5;241m>\u001b[39m d_radius: \u001b[38;5;66;03m# Checking if particle is in death zone\u001b[39;00m\n\u001b[1;32m     62\u001b[0m             \u001b[38;5;66;03m#tree[x,y] = 0\u001b[39;00m\n\u001b[1;32m     63\u001b[0m             \u001b[38;5;28;01mbreak\u001b[39;00m\n\u001b[1;32m     65\u001b[0m         \u001b[38;5;28;01melif\u001b[39;00m (tree[x \u001b[38;5;241m+\u001b[39m \u001b[38;5;241m1\u001b[39m, y] \u001b[38;5;241m+\u001b[39m tree[x \u001b[38;5;241m-\u001b[39m \u001b[38;5;241m1\u001b[39m, y] \u001b[38;5;241m+\u001b[39m tree[x, y \u001b[38;5;241m+\u001b[39m \u001b[38;5;241m1\u001b[39m] \u001b[38;5;241m+\u001b[39m tree[x, y \u001b[38;5;241m-\u001b[39m \u001b[38;5;241m1\u001b[39m] \u001b[38;5;241m+\u001b[39m tree[x \u001b[38;5;241m+\u001b[39m \u001b[38;5;241m1\u001b[39m, y \u001b[38;5;241m+\u001b[39m \u001b[38;5;241m1\u001b[39m]  \u001b[38;5;66;03m#Long statement checking if particle is near aggregate\u001b[39;00m\n\u001b[1;32m     66\u001b[0m                \u001b[38;5;241m+\u001b[39m tree[x \u001b[38;5;241m+\u001b[39m \u001b[38;5;241m1\u001b[39m, y \u001b[38;5;241m-\u001b[39m \u001b[38;5;241m1\u001b[39m] \u001b[38;5;241m+\u001b[39m tree[x \u001b[38;5;241m-\u001b[39m \u001b[38;5;241m1\u001b[39m, y \u001b[38;5;241m+\u001b[39m \u001b[38;5;241m1\u001b[39m] \u001b[38;5;241m+\u001b[39m tree[x \u001b[38;5;241m-\u001b[39m \u001b[38;5;241m1\u001b[39m, y \u001b[38;5;241m-\u001b[39m \u001b[38;5;241m1\u001b[39m] \u001b[38;5;241m>\u001b[39m \u001b[38;5;241m0\u001b[39m):\n",
      "\u001b[0;31mKeyboardInterrupt\u001b[0m: "
     ]
    }
   ],
   "source": [
    "import numpy as np\n",
    "import random\n",
    "import matplotlib.pyplot as plt\n",
    "import time\n",
    "#import numba\n",
    "\n",
    "t0 = time.time()\n",
    "tmid1 = t0\n",
    "particles = 1\n",
    "part_tot = 20000\n",
    "size = 1001 #size of the grid, must be odd for a center\n",
    "x0 = int((size - 1) / 2)\n",
    "e_radius = 15 #edge radius\n",
    "d_radius = 35 # death radius\n",
    "tree = np.zeros([size, size]) # n X n array means array center is [(n-1)/2,(n-1)/2] when n is odd\n",
    "tree[x0, x0] = 1\n",
    "spawn_overlap = 0\n",
    "sticky = 0.5 #Chance that the particle sitcks to the aggregate\n",
    "\n",
    "def Spawn():\n",
    "    rand1 = random.randrange(36000) / 100\n",
    "    angle = rand1 * np.pi / 180\n",
    "    if 90 > rand1 >= 0:\n",
    "        x = -e_radius * np.cos(angle) - x0\n",
    "        y = e_radius * np.sin(angle) - x0\n",
    "    if 180 > rand1 >= 90:\n",
    "        x = e_radius * np.cos(angle) - x0\n",
    "        y = -e_radius * np.sin(angle) - x0\n",
    "    if 270 > rand1 >= 180:\n",
    "        x = -e_radius * np.cos(angle) - x0\n",
    "        y = e_radius * np.sin(angle) - x0\n",
    "    if 360 > rand1 >= 270:\n",
    "        x = e_radius * np.cos(angle) - x0\n",
    "        y = -e_radius * np.sin(angle) - x0\n",
    "    return round(x), round(y)\n",
    "\n",
    "\n",
    "i=0\n",
    "\n",
    "spawn = 0\n",
    "while particles < part_tot:\n",
    "    x, y = Spawn()\n",
    "    spawn += 1\n",
    "    if tree[x, y] != 1:\n",
    "    #if tree[x, y] == 1:\n",
    "        #spawn_overlap += 1\n",
    "        #print(\"*** SPAWN OVERLAP ***\")\n",
    "        #if spawn_overlap > 5000:\n",
    "            #break\n",
    "    #else:\n",
    "        while i < 1:\n",
    "            if np.sqrt((x + x0)*(x + x0) + (y + x0)*(y + x0)) > d_radius: # Checking if particle is in death zone\n",
    "                #tree[x,y] = 0\n",
    "                break\n",
    "                \n",
    "            elif (tree[x + 1, y] + tree[x - 1, y] + tree[x, y + 1] + tree[x, y - 1] + tree[x + 1, y + 1]  #Long statement checking if particle is near aggregate\n",
    "                   + tree[x + 1, y - 1] + tree[x - 1, y + 1] + tree[x - 1, y - 1] > 0):\n",
    "                rand2 = random.randrange(1,101) / 100\n",
    "                if rand2 < sticky: #Allows to stick\n",
    "                    tree[x, y] = 1\n",
    "                    particles += 1\n",
    "                    if (particles / 1000) == int(particles / 1000):\n",
    "                        tmid2 = time.time()\n",
    "                        print(\"N =\", particles, \"| Time since last checkpoint:\", round(tmid2 - tmid1, 2), \"| Time since start:\", round(tmid2 - t0, 2))\n",
    "                        tmid1 = tmid2\n",
    "                \"\"\"else: #Move that accounts for the possiblility of moving inside the aggregate\n",
    "                    while i < 1:\n",
    "                        randx = random.randrange(-1,2)\n",
    "                        randy = random.randrange(-1,2)\n",
    "                        if tree[x + randx, y + randy] == 0:\n",
    "                            x += randx\n",
    "                            y += randy\n",
    "                            break\"\"\"\n",
    "                    \n",
    "                if d_radius > np.sqrt((x + x0)*(x + x0) + (y + x0)*(y + x0)) > e_radius and d_radius < x0: #Radius updater for every movement\n",
    "                    e_radius += 1\n",
    "                    d_radius += 1\n",
    "                \n",
    "                break\n",
    "                \n",
    "            else: #Moves particle\n",
    "                randx = random.randrange(-1,2)\n",
    "                randy = random.randrange(-1,2)\n",
    "                x += randx\n",
    "                y += randy\n",
    "                \n",
    "t1 = time.time()\n",
    "hours = int((t1 - t0) / 3600)\n",
    "minutes = int(((t1 - t0) / 3600 - hours) * 60)\n",
    "seconds = int(((((t1 - t0) / 3600 - hours) * 60) - minutes) * 60)\n",
    "print(\"*** TIME ELAPSED :\", hours, \"HOURS,\", minutes, \"MINUTES, AND\", seconds, \"SECONDS ***\")\n",
    "print(\"*** TOTAL PARTICLES =\", particles, \" ***\")\n",
    "plt.matshow(tree)"
   ]
  },
  {
   "cell_type": "code",
   "execution_count": 15,
   "id": "c92c0f6c-16cf-4e1e-a246-a9a426238640",
   "metadata": {},
   "outputs": [
    {
     "name": "stdout",
     "output_type": "stream",
     "text": [
      "9672\n",
      "1.587510389835519\n"
     ]
    },
    {
     "data": {
      "image/png": "[encoded data removed]",
      "text/plain": [
       "<Figure size 480x480 with 1 Axes>"
      ]
     },
     "metadata": {},
     "output_type": "display_data"
    }
   ],
   "source": [
    "print(particles)\n",
    "print(spawn)\n",
    "plt.matshow(tree)\n",
    "print(np.log(particles) / np.log(e_radius))\n",
    "#plt.matshow(tree[225:535, 0:535])"
   ]
  },
  {
   "cell_type": "code",
   "execution_count": 25,
   "id": "36415c65-bfd1-4e2d-84ff-9a4797390166",
   "metadata": {},
   "outputs": [
    {
     "name": "stdout",
     "output_type": "stream",
     "text": [
      "30525\n"
     ]
    }
   ],
   "source": [
    "print(spawn)\n",
    "#print(spawn_overlap)"
   ]
  },
  {
   "cell_type": "code",
   "execution_count": null,
   "id": "1e1d715e-74ae-4c89-bd1d-e6ae1c62fd64",
   "metadata": {},
   "outputs": [],
   "source": []
  }
 ],
 "metadata": {
  "kernelspec": {
   "display_name": "Python 3 (ipykernel)",
   "language": "python",
   "name": "python3"
  },
  "language_info": {
   "codemirror_mode": {
    "name": "ipython",
    "version": 3
   },
   "file_extension": ".py",
   "mimetype": "text/x-python",
   "name": "python",
   "nbconvert_exporter": "python",
   "pygments_lexer": "ipython3",
   "version": "3.12.8"
  }
 },
 "nbformat": 4,
 "nbformat_minor": 5
}
