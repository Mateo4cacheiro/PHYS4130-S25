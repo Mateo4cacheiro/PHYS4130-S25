{
 "cells": [
  {
   "cell_type": "code",
   "execution_count": 72,
   "id": "3621ec41-45fa-401f-8042-c7e28d0622b7",
   "metadata": {},
   "outputs": [
    {
     "name": "stdout",
     "output_type": "stream",
     "text": [
      "N = 100\n",
      "*** DEATH RADIUS INCREASED TO 30 ***\n",
      "*** DEATH RADIUS INCREASED TO 35 ***\n",
      "N = 200\n",
      "*** DEATH RADIUS INCREASED TO 40 ***\n",
      "N = 300\n",
      "*** DEATH RADIUS INCREASED TO 45 ***\n",
      "N = 400\n",
      "*** SPAWN OVERLAP ***\n",
      "*** DEATH RADIUS INCREASED TO 50 ***\n",
      "N = 500\n",
      "N = 600\n",
      "*** DEATH RADIUS INCREASED TO 55 ***\n",
      "*** DEATH RADIUS INCREASED TO 60 ***\n",
      "N = 700\n",
      "*** DEATH RADIUS INCREASED TO 65 ***\n",
      "N = 800\n",
      "N = 900\n",
      "*** DEATH RADIUS INCREASED TO 70 ***\n",
      "N = 1000\n",
      "*** DEATH RADIUS INCREASED TO 75 ***\n",
      "N = 1100\n",
      "N = 1200\n",
      "*** DEATH RADIUS INCREASED TO 80 ***\n",
      "N = 1300\n",
      "N = 1400\n",
      "*** SPAWN OVERLAP ***\n",
      "*** DEATH RADIUS INCREASED TO 85 ***\n",
      "N = 1500\n",
      "N = 1600\n",
      "*** DEATH RADIUS INCREASED TO 90 ***\n",
      "N = 1700\n",
      "*** DEATH RADIUS INCREASED TO 95 ***\n",
      "N = 1800\n",
      "N = 1900\n",
      "*** SPAWN OVERLAP ***\n",
      "*** SPAWN OVERLAP ***\n",
      "*** DEATH RADIUS INCREASED TO 100 ***\n",
      "N = 2000\n",
      "N = 2100\n",
      "*** DEATH RADIUS INCREASED TO 105 ***\n",
      "N = 2200\n",
      "*** DEATH RADIUS INCREASED TO 110 ***\n",
      "N = 2300\n",
      "*** SPAWN OVERLAP ***\n",
      "*** SPAWN OVERLAP ***\n"
     ]
    },
    {
     "ename": "KeyboardInterrupt",
     "evalue": "",
     "output_type": "error",
     "traceback": [
      "\u001b[0;31m---------------------------------------------------------------------------\u001b[0m",
      "\u001b[0;31mKeyboardInterrupt\u001b[0m                         Traceback (most recent call last)",
      "Cell \u001b[0;32mIn[72], line 60\u001b[0m\n\u001b[1;32m     56\u001b[0m     \u001b[38;5;28;01mbreak\u001b[39;00m\n\u001b[1;32m     57\u001b[0m \u001b[38;5;28;01melse\u001b[39;00m:\n\u001b[1;32m     58\u001b[0m     \u001b[38;5;66;03m#print(\"##############################################################\")\u001b[39;00m\n\u001b[0;32m---> 60\u001b[0m     rand2 \u001b[38;5;241m=\u001b[39m random\u001b[38;5;241m.\u001b[39mrandrange(\u001b[38;5;241m4\u001b[39m)\n\u001b[1;32m     61\u001b[0m     \u001b[38;5;28;01mif\u001b[39;00m rand2 \u001b[38;5;241m==\u001b[39m \u001b[38;5;241m0\u001b[39m:\n\u001b[1;32m     62\u001b[0m         tree[x, y] \u001b[38;5;241m=\u001b[39m \u001b[38;5;241m0\u001b[39m\n",
      "File \u001b[0;32m~/miniconda3/envs/Phys4130/lib/python3.12/random.py:291\u001b[0m, in \u001b[0;36mRandom.randrange\u001b[0;34m(self, start, stop, step)\u001b[0m\n\u001b[1;32m    286\u001b[0m     \u001b[38;5;28;01mreturn\u001b[39;00m \u001b[38;5;28mself\u001b[39m\u001b[38;5;241m.\u001b[39mgetrandbits(n \u001b[38;5;241m*\u001b[39m \u001b[38;5;241m8\u001b[39m)\u001b[38;5;241m.\u001b[39mto_bytes(n, \u001b[38;5;124m'\u001b[39m\u001b[38;5;124mlittle\u001b[39m\u001b[38;5;124m'\u001b[39m)\n\u001b[1;32m    289\u001b[0m \u001b[38;5;66;03m## -------------------- integer methods  -------------------\u001b[39;00m\n\u001b[0;32m--> 291\u001b[0m \u001b[38;5;28;01mdef\u001b[39;00m \u001b[38;5;21mrandrange\u001b[39m(\u001b[38;5;28mself\u001b[39m, start, stop\u001b[38;5;241m=\u001b[39m\u001b[38;5;28;01mNone\u001b[39;00m, step\u001b[38;5;241m=\u001b[39m_ONE):\n\u001b[1;32m    292\u001b[0m \u001b[38;5;250m    \u001b[39m\u001b[38;5;124;03m\"\"\"Choose a random item from range(stop) or range(start, stop[, step]).\u001b[39;00m\n\u001b[1;32m    293\u001b[0m \n\u001b[1;32m    294\u001b[0m \u001b[38;5;124;03m    Roughly equivalent to ``choice(range(start, stop, step))`` but\u001b[39;00m\n\u001b[1;32m    295\u001b[0m \u001b[38;5;124;03m    supports arbitrarily large ranges and is optimized for common cases.\u001b[39;00m\n\u001b[1;32m    296\u001b[0m \n\u001b[1;32m    297\u001b[0m \u001b[38;5;124;03m    \"\"\"\u001b[39;00m\n\u001b[1;32m    299\u001b[0m     \u001b[38;5;66;03m# This code is a bit messy to make it fast for the\u001b[39;00m\n\u001b[1;32m    300\u001b[0m     \u001b[38;5;66;03m# common case while still doing adequate error checking.\u001b[39;00m\n",
      "\u001b[0;31mKeyboardInterrupt\u001b[0m: "
     ]
    }
   ],
   "source": [
    "import numpy as np\n",
    "import random\n",
    "import matplotlib.pyplot as plt\n",
    "import time\n",
    "\n",
    "t0 = time.time()\n",
    "particles = 1\n",
    "part_tot = 10000\n",
    "size = 751 #size of the grid, must be odd for a center\n",
    "x0 = int((size - 1) / 2)\n",
    "e_radius = 15 #edge radius\n",
    "d_radius = 25 # death radius\n",
    "tree = np.zeros([size, size]) # n X n array means array center is [(n-1)/2,(n-1)/2] when n is odd\n",
    "tree[x0, x0] = 1\n",
    "#print(\"Initial Tree:\\n\", tree)\n",
    "\n",
    "def Spawn():\n",
    "    rand1 = random.randrange(360)\n",
    "    angle = rand1 * np.pi / 180\n",
    "    x = e_radius * np.cos(angle) - x0 - 1\n",
    "    y = e_radius * np.sin(angle) - x0 - 1\n",
    "    #print(\"x =\", round(x), \"| y =\", round(y))\n",
    "    return round(x), round(y)\n",
    "\n",
    "i=0\n",
    "#print(tree)\n",
    "\n",
    "while particles <= part_tot:\n",
    "    x = 0\n",
    "    y = 0\n",
    "    x, y = Spawn()\n",
    "    if tree[x, y] == 1:\n",
    "        print(\"*** SPAWN OVERLAP ***\")\n",
    "    else:\n",
    "        tree[x, y] = 1\n",
    "        #print(\"##############################################################\")\n",
    "        #print(\"##############################################################\")\n",
    "        #print(\"##############################################################\")\n",
    "        #print(tree)\n",
    "        #print(\"##############################################################\")\n",
    "        #print(\"##############################################################\")\n",
    "        #print(\"##############################################################\")\n",
    "        while i < 1:\n",
    "            if np.sqrt((x + x0)*(x + x0) + (y + x0)*(y + x0)) > d_radius:\n",
    "                tree[x,y] = 0\n",
    "                #print(\"DEAD***********************************************\")\n",
    "                break\n",
    "            elif tree[x + 1, y] == 1 or tree[x - 1, y] == 1 or tree[x, y + 1] == 1 or tree[x, y - 1] == 1:\n",
    "                particles += 1\n",
    "                if (particles / 100) == int(particles /100):\n",
    "                    print(\"N =\", particles)\n",
    "                if d_radius > np.sqrt((x + x0)*(x + x0) + (y + x0)*(y + x0)) > e_radius and d_radius < x0:\n",
    "                    e_radius += 5\n",
    "                    d_radius += 5\n",
    "                    print(\"*** DEATH RADIUS INCREASED TO\", d_radius, \"***\")\n",
    "                break\n",
    "            else:\n",
    "                #print(\"##############################################################\")\n",
    "                \n",
    "                rand2 = random.randrange(4)\n",
    "                if rand2 == 0:\n",
    "                    tree[x, y] = 0\n",
    "                    x += 1\n",
    "                    tree[x, y] = 1\n",
    "                    #print(\"down\")\n",
    "                elif rand2 == 1:\n",
    "                    tree[x, y] = 0\n",
    "                    x -= 1\n",
    "                    tree[x, y] = 1\n",
    "                    #print(\"up\")\n",
    "                elif rand2 == 2:\n",
    "                    tree[x, y] = 0\n",
    "                    y += 1\n",
    "                    tree[x, y] = 1\n",
    "                    #print(\"right\")\n",
    "                elif rand2 == 3:\n",
    "                    tree[x, y] = 0\n",
    "                    y -= 1\n",
    "                    tree[x, y] = 1\n",
    "                    #print(\"left\")\n",
    "                \n",
    "                #print(tree)\n",
    "                #i+=1\n",
    "                #print(\"i =\", i)\n",
    "    #print(\"\\n\\n\", tree)\n",
    "t1 = time.time()\n",
    "print(\"*** TIME ELAPSED :\", t1 - t0, \"***\")\n",
    "plt.matshow(tree)"
   ]
  },
  {
   "cell_type": "code",
   "execution_count": 71,
   "id": "c92c0f6c-16cf-4e1e-a246-a9a426238640",
   "metadata": {},
   "outputs": [
    {
     "data": {
      "text/plain": [
       "<matplotlib.image.AxesImage at 0x7f97afbfe6f0>"
      ]
     },
     "execution_count": 71,
     "metadata": {},
     "output_type": "execute_result"
    },
    {
     "data": {
      "image/png": "[encoded data removed]",
      "text/plain": [
       "<Figure size 480x480 with 1 Axes>"
      ]
     },
     "metadata": {},
     "output_type": "display_data"
    }
   ],
   "source": [
    "plt.matshow(tree)\n",
    "#plt.matshow(tree[225:535, 0:535])"
   ]
  },
  {
   "cell_type": "code",
   "execution_count": null,
   "id": "3dc47b53-f54b-48ca-9b05-ad7a2f217174",
   "metadata": {},
   "outputs": [],
   "source": []
  }
 ],
 "metadata": {
  "kernelspec": {
   "display_name": "Python 3 (ipykernel)",
   "language": "python",
   "name": "python3"
  },
  "language_info": {
   "codemirror_mode": {
    "name": "ipython",
    "version": 3
   },
   "file_extension": ".py",
   "mimetype": "text/x-python",
   "name": "python",
   "nbconvert_exporter": "python",
   "pygments_lexer": "ipython3",
   "version": "3.12.8"
  }
 },
 "nbformat": 4,
 "nbformat_minor": 5
}
