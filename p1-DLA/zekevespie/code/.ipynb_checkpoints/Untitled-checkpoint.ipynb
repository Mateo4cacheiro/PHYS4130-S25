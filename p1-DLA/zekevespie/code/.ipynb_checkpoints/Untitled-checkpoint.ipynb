{
 "cells": [
  {
   "cell_type": "code",
   "execution_count": 99,
   "id": "49aa9ac5-0f78-4593-b64a-7a598f124d96",
   "metadata": {},
   "outputs": [
    {
     "name": "stdout",
     "output_type": "stream",
     "text": [
      "N = 250 | Time since last checkpoint: 5.33 | Time since start: 5.33\n",
      "N = 500 | Time since last checkpoint: 6.94 | Time since start: 12.27\n",
      "N = 750 | Time since last checkpoint: 8.98 | Time since start: 21.25\n",
      "N = 1000 | Time since last checkpoint: 10.57 | Time since start: 31.83\n",
      "N = 1250 | Time since last checkpoint: 14.19 | Time since start: 46.02\n",
      "N = 1500 | Time since last checkpoint: 18.72 | Time since start: 64.74\n",
      "N = 1750 | Time since last checkpoint: 22.87 | Time since start: 87.61\n",
      "N = 2000 | Time since last checkpoint: 32.65 | Time since start: 120.26\n",
      "N = 2250 | Time since last checkpoint: 32.87 | Time since start: 153.13\n",
      "N = 2500 | Time since last checkpoint: 36.25 | Time since start: 189.38\n",
      "N = 2750 | Time since last checkpoint: 40.13 | Time since start: 229.5\n",
      "N = 3000 | Time since last checkpoint: 42.01 | Time since start: 271.51\n",
      "*** TIME ELAPSED : 0 HOURS, 4 MINUTES, AND 31 SECONDS ***\n",
      "*** TOTAL PARTICLES = 3000  ***\n"
     ]
    },
    {
     "data": {
      "text/plain": [
       "<matplotlib.image.AxesImage at 0x7fe0a5677e60>"
      ]
     },
     "execution_count": 99,
     "metadata": {},
     "output_type": "execute_result"
    },
    {
     "data": {
      "image/png": "[encoded data removed]",
      "text/plain": [
       "<Figure size 480x480 with 1 Axes>"
      ]
     },
     "metadata": {},
     "output_type": "display_data"
    }
   ],
   "source": [
    "import numpy as np\n",
    "import random\n",
    "import matplotlib.pyplot as plt\n",
    "import time\n",
    "#import numba\n",
    "\n",
    "t0 = time.time()\n",
    "tmid1 = t0\n",
    "particles = 1\n",
    "part_tot = 3000\n",
    "size = 401 #size of the grid, must be odd for a center\n",
    "x0 = int((size - 1) / 2)\n",
    "e_radius = 15 #edge radius\n",
    "d_radius = 35 # death radius\n",
    "tree = np.zeros([size, size]) # n X n array means array center is [(n-1)/2,(n-1)/2] when n is odd\n",
    "tree[x0, x0] = 1\n",
    "spawn_overlap = 0\n",
    "sticky = .1 #Chance that the particle sitcks to the aggregate\n",
    "\n",
    "def Spawn():\n",
    "    rand1 = random.randrange(36000) / 100\n",
    "    angle = rand1 * np.pi / 180\n",
    "    if 90 > rand1 >= 0:\n",
    "        x = -e_radius * np.cos(angle) - x0\n",
    "        y = e_radius * np.sin(angle) - x0\n",
    "    if 180 > rand1 >= 90:\n",
    "        x = e_radius * np.cos(angle) - x0\n",
    "        y = -e_radius * np.sin(angle) - x0\n",
    "    if 270 > rand1 >= 180:\n",
    "        x = -e_radius * np.cos(angle) - x0\n",
    "        y = e_radius * np.sin(angle) - x0\n",
    "    if 360 > rand1 >= 270:\n",
    "        x = e_radius * np.cos(angle) - x0\n",
    "        y = -e_radius * np.sin(angle) - x0\n",
    "    return round(x), round(y)\n",
    "\n",
    "\n",
    "i=0\n",
    "\n",
    "\"\"\" NEW MOVE ?\n",
    "def Move()\n",
    "    randx = random.randrange(-1,2)\n",
    "    randy = random.randrange(-1,2)\n",
    "    #tree[x,y] = 0\n",
    "    x += randx\n",
    "    y += randy\n",
    "    #tree[x,y] = 1\n",
    "\"\"\"\n",
    "spawn = 0\n",
    "while particles < part_tot:\n",
    "    x, y = Spawn()\n",
    "    spawn += 1\n",
    "    if tree[x, y] == 0:\n",
    "        while (tree[x + 1, y] + tree[x - 1, y] + tree[x, y + 1] + tree[x, y - 1] + tree[x + 1, y + 1]  \n",
    "               + tree[x + 1, y - 1] + tree[x - 1, y + 1] + tree[x - 1, y - 1] == 0): #NOT NEAR AGGREGATE\n",
    "\n",
    "            randx = random.randrange(-1,2)\n",
    "            randy = random.randrange(-1,2)\n",
    "            x += randx\n",
    "            y += randy\n",
    "            \n",
    "            if np.sqrt((x + x0)*(x + x0) + (y + x0)*(y + x0)) > d_radius: # Checking if particle is in death zone\n",
    "                break\n",
    "                \n",
    "            elif (tree[x + 1, y] + tree[x - 1, y] + tree[x, y + 1] + tree[x, y - 1] + tree[x + 1, y + 1]  #Long statement checking if particle is near aggregate\n",
    "                   + tree[x + 1, y - 1] + tree[x - 1, y + 1] + tree[x - 1, y - 1] > 0):\n",
    "                rand2 = random.randrange(1,1001) / 1000\n",
    "                if rand2 < sticky: #Allows to stick\n",
    "                    tree[x, y] = 1\n",
    "                    particles += 1\n",
    "                    if (particles / 250) == int(particles / 250):\n",
    "                        tmid2 = time.time()\n",
    "                        print(\"N =\", particles, \"| Time since last checkpoint:\", round(tmid2 - tmid1, 2), \"| Time since start:\", round(tmid2 - t0, 2))\n",
    "                        tmid1 = tmid2\n",
    "                else: #Move that accounts for the possiblility of moving inside the aggregate\n",
    "                    while i < 1:\n",
    "                        randx = random.randrange(-1,2)\n",
    "                        randy = random.randrange(-1,2)\n",
    "                        if tree[x + randx, y + randy] == 0:\n",
    "                            x += randx\n",
    "                            y += randy\n",
    "                            break\n",
    "                    \n",
    "                if d_radius > np.sqrt((x + x0)*(x + x0) + (y + x0)*(y + x0)) > e_radius and d_radius < x0: #Radius updater for every movement\n",
    "                    e_radius += 1\n",
    "                    d_radius += 1\n",
    "                \n",
    "                break\n",
    "                \n",
    "            \"\"\"else: #Moves particle\n",
    "                randx = random.randrange(-1,2)\n",
    "                randy = random.randrange(-1,2)\n",
    "                x += randx\n",
    "                y += randy\"\"\"\n",
    "                \n",
    "t1 = time.time()\n",
    "hours = int((t1 - t0) / 3600)\n",
    "minutes = int(((t1 - t0) / 3600 - hours) * 60)\n",
    "seconds = int(((((t1 - t0) / 3600 - hours) * 60) - minutes) * 60)\n",
    "print(\"*** TIME ELAPSED :\", hours, \"HOURS,\", minutes, \"MINUTES, AND\", seconds, \"SECONDS ***\")\n",
    "print(\"*** TOTAL PARTICLES =\", particles, \" ***\")\n",
    "plt.matshow(tree)"
   ]
  },
  {
   "cell_type": "code",
   "execution_count": 100,
   "id": "10fc68a5-89bc-46d6-a0d1-a4c2db800011",
   "metadata": {},
   "outputs": [
    {
     "name": "stdout",
     "output_type": "stream",
     "text": [
      "68308\n",
      "1.639707629878493\n"
     ]
    }
   ],
   "source": [
    "#print(particles)\n",
    "print(spawn)\n",
    "#plt.matshow(tree)\n",
    "print(np.log(particles) / np.log(e_radius))"
   ]
  },
  {
   "cell_type": "code",
   "execution_count": null,
   "id": "35fae4bb-0e46-468b-9d94-1954956297cf",
   "metadata": {},
   "outputs": [],
   "source": []
  }
 ],
 "metadata": {
  "kernelspec": {
   "display_name": "Python 3 (ipykernel)",
   "language": "python",
   "name": "python3"
  },
  "language_info": {
   "codemirror_mode": {
    "name": "ipython",
    "version": 3
   },
   "file_extension": ".py",
   "mimetype": "text/x-python",
   "name": "python",
   "nbconvert_exporter": "python",
   "pygments_lexer": "ipython3",
   "version": "3.12.8"
  }
 },
 "nbformat": 4,
 "nbformat_minor": 5
}
