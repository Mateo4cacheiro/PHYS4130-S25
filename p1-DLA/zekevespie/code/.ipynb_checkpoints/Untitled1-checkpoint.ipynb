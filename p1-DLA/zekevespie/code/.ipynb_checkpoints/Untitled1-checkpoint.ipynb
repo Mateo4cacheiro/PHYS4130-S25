{
 "cells": [
  {
   "cell_type": "code",
   "execution_count": 73,
   "id": "c578e2c7-cf9e-40c8-8efa-63a70759c1b2",
   "metadata": {},
   "outputs": [
    {
     "name": "stdout",
     "output_type": "stream",
     "text": [
      "N = 100\n",
      "****** TOO MANY SPAWN OVERLAPS ******\n",
      "*** TIME ELAPSED : 0.8070096969604492 ***\n",
      "*** TOTAL PARTICLES = 100  ***\n"
     ]
    },
    {
     "data": {
      "text/plain": [
       "<matplotlib.image.AxesImage at 0x7fa09d0098e0>"
      ]
     },
     "execution_count": 73,
     "metadata": {},
     "output_type": "execute_result"
    },
    {
     "data": {
      "image/png": "[encoded data removed]",
      "text/plain": [
       "<Figure size 480x480 with 1 Axes>"
      ]
     },
     "metadata": {},
     "output_type": "display_data"
    }
   ],
   "source": [
    "import numpy as np\n",
    "import random\n",
    "import matplotlib.pyplot as plt\n",
    "import time\n",
    "\n",
    "t0 = time.time()\n",
    "spawn_overlap = 0\n",
    "particles = 1\n",
    "part_tot = 10000\n",
    "size = 401 #size of the grid, must be odd for a center\n",
    "x0 = int((size - 1) / 2)\n",
    "\n",
    "e_radius_array = np.zeros([8])\n",
    "i=0\n",
    "while i < 8:\n",
    "    e_radius_array[i] = 15\n",
    "    i+=1\n",
    "\n",
    "i=0\n",
    "d_radius_array = np.zeros([8])\n",
    "while i < 8:\n",
    "    d_radius_array[i] = 25\n",
    "    i+=1\n",
    "\n",
    "#e_radius_Q1 = 15 #edge radius of quadrant 1\n",
    "#e_radius_Q2 = 15 #edge radius of q2\n",
    "#e_radius_Q3 = 15 #edge radius of q3\n",
    "#e_radius_Q4 = 15 #edge radius of q4\n",
    "#d_radius_Q1 = 25 # death radius of q1\n",
    "#d_radius_Q2 = 25 # death radius of q2\n",
    "#d_radius_Q3 = 25 # death radius of q3\n",
    "#d_radius_Q4 = 25 # death radius of q4\n",
    "\n",
    "tree = np.zeros([size, size]) # n X n array means array center is [(n-1)/2,(n-1)/2] when n is odd\n",
    "tree[x0, x0] = 1\n",
    "#print(\"Initial Tree:\\n\", tree)\n",
    "\n",
    "def Spawn():\n",
    "    rand1 = random.randrange(270,360)\n",
    "    angle = rand1 * np.pi / 180 + np.pi / 2 #I don't know why, but there appears to be a wierd phase shift here. It makes it work though.\n",
    "    \n",
    "    if 45 > rand1 >= 0:\n",
    "        x = e_radius_array[0] * np.cos(angle) - x0 - 1\n",
    "        y = e_radius_array[0] * np.sin(angle) - x0 - 1\n",
    "        return round(x), round(y), 0\n",
    "    elif 90 > rand1 >= 45:\n",
    "        x = e_radius_array[1] * np.cos(angle) - x0 - 1\n",
    "        y = e_radius_array[1] * np.sin(angle) - x0 - 1\n",
    "        return round(x), round(y), 1\n",
    "    elif 135 > rand1 >= 90:\n",
    "        x = e_radius_array[2] * np.cos(angle) - x0 - 1\n",
    "        y = e_radius_array[2] * np.sin(angle) - x0 - 1\n",
    "        return round(x), round(y), 2\n",
    "    elif 180 > rand1 >= 135:\n",
    "        x = e_radius_array[3] * np.cos(angle) - x0 - 1\n",
    "        y = e_radius_array[3] * np.sin(angle) - x0 - 1\n",
    "        return round(x), round(y), 3\n",
    "    elif 225 > rand1 >= 180:\n",
    "        x = e_radius_array[4] * np.cos(angle) - x0 - 1\n",
    "        y = e_radius_array[4] * np.sin(angle) - x0 - 1\n",
    "        return round(x), round(y), 4\n",
    "    elif 270 > rand1 >= 225:\n",
    "        x = e_radius_array[5] * np.cos(angle) - x0 - 1\n",
    "        y = e_radius_array[5] * np.sin(angle) - x0 - 1\n",
    "        return round(x), round(y), 5\n",
    "    elif 315 > rand1 >= 270:\n",
    "        x = e_radius_array[6] * np.cos(angle) - x0 - 1\n",
    "        y = e_radius_array[6] * np.sin(angle) - x0 - 1\n",
    "        return round(x), round(y), 6\n",
    "    elif 360 > rand1 >= 315:\n",
    "        x = e_radius_array[7] * np.cos(angle) - x0 - 1\n",
    "        y = e_radius_array[7] * np.sin(angle) - x0 - 1\n",
    "        return round(x), round(y), 7\n",
    "\n",
    "i=0\n",
    "#print(tree)\n",
    "\n",
    "while particles < part_tot:\n",
    "    x = 0\n",
    "    y = 0\n",
    "    q = 0 #quadrant\n",
    "    x, y, q = Spawn()\n",
    "        \n",
    "    if tree[x, y] == 1:\n",
    "        #print(\"*** SPAWN OVERLAP ***\")\n",
    "        spawn_overlap += 1\n",
    "        if spawn_overlap >= 50000:\n",
    "            print(\"****** TOO MANY SPAWN OVERLAPS ******\")\n",
    "            break\n",
    "        \n",
    "    else:\n",
    "        tree[x, y] = 1\n",
    "        #e_radius = 0\n",
    "        #d_radius = 0\n",
    "        \n",
    "        #if q == 1:\n",
    "        #    d_radius = d_radius_Q1\n",
    "        #    e_radius = e_radius_Q1\n",
    "        #elif q == 2:\n",
    "        #    d_radius = d_radius_Q2\n",
    "        #    e_radius = e_radius_Q2\n",
    "        #elif q == 3:\n",
    "        #    d_radius = d_radius_Q3\n",
    "        #    e_radius = e_radius_Q3\n",
    "        #elif q == 4:\n",
    "        #    d_radius = d_radius_Q4\n",
    "        #    e_radius = e_radius_Q4\n",
    "            \n",
    "        while i < 1:\n",
    "            if np.sqrt((x + x0)*(x + x0) + (y + x0)*(y + x0)) > d_radius_array[q]:\n",
    "                tree[x,y] = 0\n",
    "                #print(\"DEAD***********************************************\")\n",
    "                break\n",
    "                \n",
    "            elif tree[x + 1, y] == 1 or tree[x - 1, y] == 1 or tree[x, y + 1] == 1 or tree[x, y - 1] == 1:\n",
    "                \n",
    "                particles += 1\n",
    "                if (particles / 100) == int(particles /100):\n",
    "                    print(\"N =\", particles)\n",
    "                    \n",
    "                if d_radius_array[q] > np.sqrt((x + x0)*(x + x0) + (y + x0)*(y + x0)) > e_radius_array[q] and d_radius_array[q] < x0:\n",
    "                    \n",
    "                    d_radius_array[q] += 5\n",
    "                    e_radius_array[q] += 5\n",
    "                    \n",
    "                    #if q == 1:\n",
    "                    #    d_radius_Q1 += 5 \n",
    "                    #    e_radius_Q1 += 5\n",
    "                    #    d_radius += 5\n",
    "                    #    e_radius += 5\n",
    "                    print(\"*** DEATH RADIUS IN QUADRANT\", q + 1, \"INCREASED TO\", d_radius_array[q], \"***\")\n",
    "                    \n",
    "                break\n",
    "            \n",
    "            else:\n",
    "                rand2 = random.randrange(4)\n",
    "                if rand2 == 0:\n",
    "                    tree[x, y] = 0\n",
    "                    x += 1\n",
    "                    tree[x, y] = 1\n",
    "                    #print(\"down\")\n",
    "                elif rand2 == 1:\n",
    "                    tree[x, y] = 0\n",
    "                    x -= 1\n",
    "                    tree[x, y] = 1\n",
    "                    #print(\"up\")\n",
    "                elif rand2 == 2:\n",
    "                    tree[x, y] = 0\n",
    "                    y += 1\n",
    "                    tree[x, y] = 1\n",
    "                    #print(\"right\")\n",
    "                elif rand2 == 3:\n",
    "                    tree[x, y] = 0\n",
    "                    y -= 1\n",
    "                    tree[x, y] = 1\n",
    "                    #print(\"left\")\n",
    "                \n",
    "t1 = time.time()\n",
    "print(\"*** TIME ELAPSED :\", t1 - t0, \"***\")\n",
    "print(\"*** TOTAL PARTICLES =\", particles, \" ***\")\n",
    "plt.matshow(tree)"
   ]
  },
  {
   "cell_type": "code",
   "execution_count": 67,
   "id": "1ff733b5-edfd-4da2-8e9b-d04675e12f82",
   "metadata": {},
   "outputs": [
    {
     "name": "stdout",
     "output_type": "stream",
     "text": [
      "1\n"
     ]
    },
    {
     "data": {
      "text/plain": [
       "<matplotlib.image.AxesImage at 0x7fa09d32b9b0>"
      ]
     },
     "execution_count": 67,
     "metadata": {},
     "output_type": "execute_result"
    },
    {
     "data": {
      "image/png": "[encoded data removed]",
      "text/plain": [
       "<Figure size 480x480 with 1 Axes>"
      ]
     },
     "metadata": {},
     "output_type": "display_data"
    }
   ],
   "source": [
    "print(particles)\n",
    "plt.matshow(tree)\n",
    "#plt.matshow(tree[50:675, 150:700])"
   ]
  },
  {
   "cell_type": "code",
   "execution_count": null,
   "id": "77a72de1-49ce-4c79-8fe4-a9bac259a875",
   "metadata": {},
   "outputs": [],
   "source": []
  }
 ],
 "metadata": {
  "kernelspec": {
   "display_name": "Python 3 (ipykernel)",
   "language": "python",
   "name": "python3"
  },
  "language_info": {
   "codemirror_mode": {
    "name": "ipython",
    "version": 3
   },
   "file_extension": ".py",
   "mimetype": "text/x-python",
   "name": "python",
   "nbconvert_exporter": "python",
   "pygments_lexer": "ipython3",
   "version": "3.12.8"
  }
 },
 "nbformat": 4,
 "nbformat_minor": 5
}
