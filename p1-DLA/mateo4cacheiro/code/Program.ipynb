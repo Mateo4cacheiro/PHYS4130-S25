{
 "cells": [
  {
   "cell_type": "code",
   "execution_count": 1,
   "id": "bc19e0cd-3533-4503-b2c7-859df6269452",
   "metadata": {},
   "outputs": [
    {
     "name": "stdout",
     "output_type": "stream",
     "text": [
      "500\n",
      "1000\n",
      "1500\n",
      "2000\n",
      "2500\n",
      "3000\n",
      "3500\n",
      "4000\n",
      "4500\n",
      "5000\n"
     ]
    }
   ],
   "source": [
    "#******************************************************************************************\n",
    "#\t Title:  \tprogram.py\n",
    "# \t Date:\t\t1/30/2025   \n",
    "#    Class:     PHYS 4130\n",
    "#\t\n",
    "#\tPurpose:    Make random diffussion structure\n",
    "#******************************************************************************************\n",
    "\n",
    "\n",
    "\n",
    "\n",
    "\n",
    "#import libraries\n",
    "import Functions\n",
    "import numpy as np\n",
    "import random as ran\n",
    "import math\n",
    "import matplotlib.pyplot as plt\n",
    "from PIL import Image\n",
    "\n",
    "#Set Important Variables\n",
    "ArraySize=500                                                         #Matrix Size\n",
    "Size = 5000                                                              #Total Particles                                                                    \n",
    "MaxArm = 0                                                              #Set longest arm length to zero\n",
    "CreationRadius = 5                                                     #Creation radius will start at 10 units\n",
    "DeathRadius= CreationRadius + 1                                     #Death Radius will start 20 units larger than creation ring\n",
    "rng = np.random.default_rng()\n",
    "\n",
    "\n",
    "#Create a array to represent a 2D space with a stationary particle at the center\n",
    "Functions.CreateArray(ArraySize)                                        \n",
    "\n",
    "\n",
    "#Loop until the structure has \"Size\" number of particles\n",
    "while Functions.NotFull(Size) == True:      \n",
    "\n",
    "    #Creates a new particle \n",
    "    Functions.CreateParticle(CreationRadius)\n",
    "    Distance=CreationRadius\n",
    "    Attached = False\n",
    "\n",
    "    #Move particle until it attaches or goes out of bounds\n",
    "    while not Attached and Distance < DeathRadius**2:\n",
    "\n",
    "        #Determine if particle is attatched \n",
    "        Attached = Functions.CheckAttached()\n",
    "\n",
    "        #if particle is not attached, move particle.\n",
    "        if Attached == False:\n",
    "            #roll rand walk direction\n",
    "            moveDir = rng.integers(0,4)            #move particle\n",
    "            Functions.move(moveDir)\n",
    "            Distance = Functions.dis() \n",
    "\n",
    "        #if particle is attached properly attach it    \n",
    "        else:\n",
    "            Functions.increment()\n",
    "            #Adjust MaxArm length and creation radius\n",
    "            ArmLength = Distance\n",
    "            if ArmLength >= CreationRadius**2:\n",
    "                CreationRadius += 50\n",
    "                DeathRadius +=50\n",
    "            '''\n",
    "            if ArmLength > MaxArm**2:\n",
    "                MaxArm = math.sqrt(ArmLength)\n",
    "                CreationRadius = 5 + MaxArm\n",
    "                DeathRadius = 1 + CreationRadius \n",
    "                '''\n",
    "\n",
    "    if Distance >= DeathRadius**2:\n",
    "        Functions.des()\n",
    "\n"
   ]
  },
  {
   "cell_type": "code",
   "execution_count": 2,
   "id": "097b9c9d-16bb-415d-87fa-cb3473e2df48",
   "metadata": {},
   "outputs": [
    {
     "data": {
      "image/png": "[encoded data removed]",
      "text/plain": [
       "<Figure size 480x480 with 1 Axes>"
      ]
     },
     "metadata": {},
     "output_type": "display_data"
    }
   ],
   "source": [
    "Functions.ShowStructure()\n"
   ]
  },
  {
   "cell_type": "code",
   "execution_count": null,
   "id": "e1d58457-ab46-4f7d-ad7c-908bbb1adb52",
   "metadata": {},
   "outputs": [],
   "source": []
  },
  {
   "cell_type": "code",
   "execution_count": null,
   "id": "4c4585d6-14d1-4218-9aff-56340912a0d7",
   "metadata": {},
   "outputs": [],
   "source": []
  }
 ],
 "metadata": {
  "kernelspec": {
   "display_name": "Python 3 (ipykernel)",
   "language": "python",
   "name": "python3"
  },
  "language_info": {
   "codemirror_mode": {
    "name": "ipython",
    "version": 3
   },
   "file_extension": ".py",
   "mimetype": "text/x-python",
   "name": "python",
   "nbconvert_exporter": "python",
   "pygments_lexer": "ipython3",
   "version": "3.12.8"
  }
 },
 "nbformat": 4,
 "nbformat_minor": 5
}
