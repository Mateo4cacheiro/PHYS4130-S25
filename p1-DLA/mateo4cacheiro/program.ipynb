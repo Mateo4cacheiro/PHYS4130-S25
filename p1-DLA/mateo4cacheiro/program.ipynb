{
 "cells": [
  {
   "cell_type": "code",
   "execution_count": null,
   "id": "884e1177-6957-4d29-aa14-10fe1d891191",
   "metadata": {},
   "outputs": [],
   "source": [
    "#******************************************************************************************\n",
    "#\t Title:  \tprogram.py\n",
    "# \t Date:\t\t1/30/2025   \n",
    "#    Class:     PHYS 4130\n",
    "#\t\n",
    "#\tPurpose:    Make random diffussion structure\n",
    "#******************************************************************************************"
   ]
  },
  {
   "cell_type": "code",
   "execution_count": null,
   "id": "c73f0900-6842-466d-9bfb-c23213d2e31d",
   "metadata": {},
   "outputs": [],
   "source": [
    "#import libraries\n",
    "import numpy as np\n",
    "import random as ran\n",
    "import math\n",
    "from PIL import Image\n"
   ]
  },
  {
   "cell_type": "code",
   "execution_count": null,
   "id": "43ebc2f3-1cec-488a-859c-1e385eeeed77",
   "metadata": {},
   "outputs": [],
   "source": [
    "#define function for summing neighbors\n",
    "def SumNeighbors(arr, row, col):\n",
    "    total = 0 \n",
    "    wide = len(arr)\n",
    "    height = len(arr[0])\n",
    "\n",
    "    if 0 < row-1 < wide and 0 <= col < height:\n",
    "            total += arr[row-1][col]\n",
    "            \n",
    "    if 0 < row+1 < wide and 0 <= col < height:\n",
    "            total += arr[row+1][col]\n",
    "            \n",
    "    if 0 < row < wide and 0 <= col-1 < height:\n",
    "            total += arr[row][col-1]\n",
    "\n",
    "    if 0 < row < wide and 0 <= col+1 < height:\n",
    "            total += arr[row][col+1]\n",
    "\n",
    "    return round(total)"
   ]
  },
  {
   "cell_type": "code",
   "execution_count": null,
   "id": "480fef4a-0fdf-4af2-9993-77ae448406b6",
   "metadata": {},
   "outputs": [],
   "source": [
    "#Create a array to represent a 2D space with a stationary particle at the center\n",
    "xMax=22\n",
    "yMax=xMax\n",
    "crystal = np.array([xMax+1,yMax+1])\n",
    "crystal = np.zeros([xMax+1,yMax+1])\n",
    "crystal[round(xMax/2),round(yMax/2)]=1\n",
    "Size = 50\n",
    "N=1"
   ]
  },
  {
   "cell_type": "code",
   "execution_count": null,
   "id": "8f8dba85-efc1-43b3-af83-854d60083494",
   "metadata": {},
   "outputs": [],
   "source": [
    "while N < Size:\n",
    "    #Randomly create a particle on ring\n",
    "    CreateionRadius = xMax/2\n",
    "    CreationAngle = ran.uniform(0,2*math.pi)\n",
    "    x = round(xMax/2)+round(CreateionRadius*math.cos(CreationAngle))\n",
    "    y = round(yMax/2)+round(CreateionRadius*math.sin(CreationAngle))\n",
    "    if crystal[x,y] == 1:\n",
    "        attached = True\n",
    "    else:\n",
    "        crystal[x,y] = 1\n",
    "    attached = False\n",
    "\n",
    "    #ensure particle is in bounds\n",
    "    while 0<=x<xMax+1 and 0<=y<yMax+1 and not attached:\n",
    "        #find sum of surrounding spaces \n",
    "        AdjSum = SumNeighbors(crystal, x, y) #crystal[x+1,y]+crystal[x-1,y]+crystal[x,y+1]+crystal[x,y-1]\n",
    "        if AdjSum == 0:\n",
    "            moveDir = ran.randint(1,4)\n",
    "            if moveDir == 1:\n",
    "                #move right\n",
    "                #print(\"right\")\n",
    "                crystal[x,y]=0\n",
    "                if y+1<yMax:\n",
    "                    crystal[x,y+1] =1\n",
    "                y=y+1\n",
    "                \n",
    "            elif moveDir == 2:\n",
    "                #move down\n",
    "                #print(\"down\")\n",
    "                crystal[x,y]=0\n",
    "                if x+1<xMax:\n",
    "                    crystal[x+1,y] =1\n",
    "                x=x+1\n",
    "            elif moveDir == 3:\n",
    "                #move left\n",
    "                #print(\"left\")\n",
    "                crystal[x,y]=0\n",
    "                if y-1>0:\n",
    "                    crystal[x,y-1] =1\n",
    "                y=y-1\n",
    "\n",
    "            else:\n",
    "                #move up\n",
    "                #print(\"up\")\n",
    "                crystal[x,y]=0\n",
    "                if x-1>0:\n",
    "                    crystal[x-1,y] =1\n",
    "                x=x-1\n",
    "\n",
    "        elif AdjSum > 0:\n",
    "            #increment N because a particle attaches to the crystal\n",
    "            N = N+1\n",
    "            #print(\"connect\")\n",
    "            attached = True"
   ]
  },
  {
   "cell_type": "code",
   "execution_count": null,
   "id": "2b554960-512c-4590-835f-491f24437519",
   "metadata": {},
   "outputs": [],
   "source": [
    "print(N)\n",
    "print(crystal)\n",
    "#im = Image.new(mode=\"?\", size=(xMax, yMax))\n",
    "#im.show()"
   ]
  }
 ],
 "metadata": {
  "kernelspec": {
   "display_name": "Python 3 (ipykernel)",
   "language": "python",
   "name": "python3"
  },
  "language_info": {
   "codemirror_mode": {
    "name": "ipython",
    "version": 3
   },
   "file_extension": ".py",
   "mimetype": "text/x-python",
   "name": "python",
   "nbconvert_exporter": "python",
   "pygments_lexer": "ipython3",
   "version": "3.12.8"
  }
 },
 "nbformat": 4,
 "nbformat_minor": 5
}
