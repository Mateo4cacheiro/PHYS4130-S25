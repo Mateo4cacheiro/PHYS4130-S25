{
 "cells": [
  {
   "cell_type": "code",
   "execution_count": 76,
   "id": "45af3be9-186a-4ea7-b207-e9ac8c0a550f",
   "metadata": {},
   "outputs": [
    {
     "name": "stdout",
     "output_type": "stream",
     "text": [
      "[1, 2, 3, 4, 5, 6, 7, 8, 9, 10]\n",
      "55\n"
     ]
    }
   ],
   "source": [
    "#METHOD 1:\n",
    "xarray = [1,2,3,4,5,6,7,8,9,10]\n",
    "print(xarray)\n",
    "\n",
    "# Prepare a variable to store the sum\n",
    "mysum=0\n",
    "\n",
    "# Loop over indices\n",
    "for i in range(len(xarray)):\n",
    "    mysum = mysum + xarray[i]\n",
    "\n",
    "print(mysum)"
   ]
  },
  {
   "cell_type": "code",
   "execution_count": 14,
   "id": "bc507ba8-f98f-421d-8a6f-77f94a4fd04d",
   "metadata": {},
   "outputs": [
    {
     "name": "stdout",
     "output_type": "stream",
     "text": [
      "[1, 2, 3, 4, 5, 6, 7, 8, 9, 10]\n",
      "0\n"
     ]
    }
   ],
   "source": [
    "#METHOD 2:\n",
    "xarray = [1,2,3,4,5,6,7,8,9,10]\n",
    "print(xarray)\n",
    "\n",
    "# Prepare a variable to store the sum\n",
    "mysum=0\n",
    "\n",
    "# Loop over values\n",
    "def func():\n",
    "    mysum = 0\n",
    "    for x in xarray: mysum = mysum + x\n",
    "\n",
    "print(mysum)"
   ]
  },
  {
   "cell_type": "code",
   "execution_count": 5,
   "id": "4ec16a24-6462-4fcd-8f5d-1db68b7e9340",
   "metadata": {},
   "outputs": [
    {
     "name": "stdout",
     "output_type": "stream",
     "text": [
      "[1, 2, 3, 4, 5, 6, 7, 8, 9, 10]\n",
      "55\n"
     ]
    }
   ],
   "source": [
    "#METHOD 3:\n",
    "import numpy as np\n",
    "xarray = [1,2,3,4,5,6,7,8,9,10]\n",
    "print(xarray)\n",
    "\n",
    "mysum = np.sum( xarray )\n",
    "\n",
    "print(mysum)"
   ]
  },
  {
   "cell_type": "code",
   "execution_count": 87,
   "id": "4768e166-af6b-4cde-8ed7-bbc5278ed5f4",
   "metadata": {},
   "outputs": [
    {
     "name": "stdout",
     "output_type": "stream",
     "text": [
      "The result of the integral for 1000 intervals is 0.9992143962198362\n"
     ]
    }
   ],
   "source": [
    "#SAMPLE LEFTPOINT\n",
    "import numpy as np\n",
    "\n",
    "# Hint: for development/debugging,\n",
    "# you may want to pick a set of $x_i$ that you know.  Print them to the screen to ensure\n",
    "# you know that x-axis is correct. For example, a=1, b=2, N = 10.\n",
    "\n",
    "a = 0\n",
    "b = np.pi/2\n",
    "N = 1000\n",
    "\n",
    "def leftpoint(f,a,b,N):\n",
    "    h   = (b - a) / N #So x_n = a + n*h for some integer n\n",
    "    mysum = 0\n",
    "    n = 0\n",
    "    while n < N:\n",
    "        mysum += f(a + n*h)*h\n",
    "        n += 1\n",
    "    return mysum   # Note that we need this to tell the code outside of the function about the result\n",
    "    \n",
    "N = 1000\n",
    "result=leftpoint(np.sin,0,np.pi/2,N)\n",
    "print(\"The result of the integral for\", N,\"intervals is\", result)"
   ]
  },
  {
   "cell_type": "markdown",
   "id": "b8e9f75e-113e-420e-8c2a-c2a554c0972b",
   "metadata": {},
   "source": [
    "Now I will do homework 3.1 below, with steps labeled at the top:"
   ]
  },
  {
   "cell_type": "code",
   "execution_count": 213,
   "id": "cfc5355c-db64-419c-abb6-0e62278d120c",
   "metadata": {},
   "outputs": [
    {
     "name": "stdout",
     "output_type": "stream",
     "text": [
      "The result of the integral for 1000 intervals is 1.0000001028083867\n"
     ]
    }
   ],
   "source": [
    "#part a)\n",
    "%reset -f\n",
    "import pylab as py\n",
    "import numpy as np\n",
    "\n",
    "a = 0\n",
    "b = np.pi/2\n",
    "N = 3392\n",
    "\n",
    "def midpoint(f,a,b,N):\n",
    "    h   = (b - a) / N #So x_n = a + n*h for some integer n\n",
    "    mysum = 0\n",
    "    n = 0\n",
    "    while n < N:\n",
    "        mysum += f(a + (n + 0.5) * h) * h\n",
    "        n += 1\n",
    "    return mysum\n",
    "    \n",
    "N = 1000\n",
    "result=midpoint(np.sin,0,np.pi/2,N)\n",
    "print(f\"The result of the integral for {N} intervals is {result}\")"
   ]
  },
  {
   "cell_type": "code",
   "execution_count": 193,
   "id": "1abfa433-ce8b-42f9-b617-9360337c9b52",
   "metadata": {},
   "outputs": [
    {
     "name": "stdout",
     "output_type": "stream",
     "text": [
      "SLOPE = -2.003711486063887\n"
     ]
    },
    {
     "data": {
      "image/png": "[encoded data removed]",
      "text/plain": [
       "<Figure size 640x480 with 1 Axes>"
      ]
     },
     "metadata": {},
     "output_type": "display_data"
    },
    {
     "name": "stdout",
     "output_type": "stream",
     "text": [
      "SLOPE = -2.003711486063887\n"
     ]
    }
   ],
   "source": [
    "#parts b) and d)\n",
    "import pylab as py\n",
    "import numpy as np\n",
    "\n",
    "a = 0\n",
    "b = np.pi/2\n",
    "N_arr = [2,4,8,16,32,64,128,264]\n",
    "\n",
    "def midpoint(f,a,b,N):\n",
    "    h   = (b - a) / N #So x_n = a + n*h for some integer n\n",
    "    mysum = 0\n",
    "    n = 0\n",
    "    while n < N:\n",
    "        mysum += f(a + (n + 0.5) * h) * h\n",
    "        n += 1\n",
    "    return mysum\n",
    "\n",
    "def leftpoint(f,a,b,N):\n",
    "    h   = (b - a) / N #So x_n = a + n*h for some integer n\n",
    "    mysum = 0\n",
    "    n = 0\n",
    "    while n < N:\n",
    "        mysum += f(a + n*h)*h\n",
    "        n += 1\n",
    "    return mysum\n",
    "\n",
    "#First, do midpoint integral approximation\n",
    "\n",
    "result_arr = np.zeros([8])\n",
    "\n",
    "for i, N in enumerate(N_arr):\n",
    "    result_arr[i] = midpoint(np.sin,a,b,N_arr[i])\n",
    "\n",
    "#Now, log-log midpoint and display it with its slope\n",
    "\n",
    "x = np.zeros([8])\n",
    "yM = np.zeros([8])\n",
    "\n",
    "for i, N in enumerate(N_arr):\n",
    "    x[i] = np.log10(N_arr[i])\n",
    "    yM[i] = np.log10(np.abs(1 - result_arr[i]))\n",
    "\n",
    "py.plot(x, yM,'o-')\n",
    "slope = (y[7] - y[0]) / (x[7] - x[0])\n",
    "print(f\"SLOPE = {slope}\")\n",
    "\n",
    "#Now, do it again with leftpoint\n",
    "\n",
    "result_arr = np.zeros([8])\n",
    "\n",
    "for i, N in enumerate(N_arr):\n",
    "    result_arr[i] = leftpoint(np.sin, a, b, N_arr[i])\n",
    "\n",
    "yL = np.zeros([8])\n",
    "\n",
    "for i, N in enumerate(N_arr):\n",
    "    yL[i] = np.log10(np.abs(1 - result_arr[i]))\n",
    "\n",
    "py.plot(x, yL,'-o')\n",
    "py.xlabel('log(N)')\n",
    "py.ylabel('log(Error)')\n",
    "py.show()\n",
    "slope = (y[7] - y[0]) / (x[7] - x[0])\n",
    "print(f\"SLOPE = {slope}\")"
   ]
  },
  {
   "cell_type": "markdown",
   "id": "887672f2-29e4-4d8f-8e8b-cc25dda649e9",
   "metadata": {},
   "source": [
    "part c) : Since log(Error) = -2*log(N) = log(1/(N^2)) for midpoint, \n",
    "it is clear that the error is inversely proportional to N squared"
   ]
  },
  {
   "cell_type": "markdown",
   "id": "51ef9845-bc16-448b-b736-71a7cb8845fa",
   "metadata": {},
   "source": [
    "part e) : Since the slope for leftpoint is a less negative number, for N > 1 (which logically must be the case)\n",
    "leftpoint is less effective, since its error is larger (smaller power of N in the denominator makes larger error).\n",
    "For larger N, this difference in power of N is very significant."
   ]
  },
  {
   "cell_type": "markdown",
   "id": "b695694c-5d79-4d37-9e01-504af3927cfe",
   "metadata": {},
   "source": [
    "Now I will do the homework for 3.2 below:"
   ]
  },
  {
   "cell_type": "code",
   "execution_count": 276,
   "id": "2fce1427-1168-4bce-bdd2-df1fcd678009",
   "metadata": {},
   "outputs": [
    {
     "name": "stdout",
     "output_type": "stream",
     "text": [
      "0.631420009194518\n"
     ]
    }
   ],
   "source": [
    "#part a)\n",
    "%reset -f\n",
    "\n",
    "import pylab as py\n",
    "import numpy as np\n",
    "\n",
    "a = 0\n",
    "b = 100\n",
    "N = 195000\n",
    "\n",
    "def midpoint(f,a,b,N):\n",
    "    h   = (b - a) / N\n",
    "    mysum = 0\n",
    "    n = 0\n",
    "    while n < N:\n",
    "        xn = a + n * h\n",
    "        mysum += f(pow(xn, 2) + xn * h + pow(h, 2) / 4) * h\n",
    "        n += 1\n",
    "    return mysum\n",
    "    \n",
    "result = midpoint(np.sin, a, b, N)\n",
    "\n",
    "print(result)"
   ]
  },
  {
   "cell_type": "markdown",
   "id": "8c865862-900a-4a06-8828-6477eefcb706",
   "metadata": {},
   "source": [
    "The true answer (to at least 18 sig-figs) is 0.63141792186693373360 according to Maple, so this is kinda close"
   ]
  },
  {
   "cell_type": "code",
   "execution_count": 31,
   "id": "b6dd3eea-d6c7-40dc-b87f-8ff5c956d8d8",
   "metadata": {},
   "outputs": [
    {
     "name": "stdout",
     "output_type": "stream",
     "text": [
      "  N                 I\n",
      "1000.0     -2.587284263475512\n",
      "2000.0     2.2638817523185653\n",
      "3000.0     -0.42256416590552587\n",
      "4000.0     0.6465488199497526\n",
      "5000.0     0.6371288752099554\n",
      "6000.0     0.6346284818234188\n",
      "7000.0     0.63352766622238\n",
      "8000.0     0.6329280471120348\n",
      "9000.0     0.6325596307367137\n",
      "10000.0     0.6323148353521281\n"
     ]
    }
   ],
   "source": [
    "#part b)\n",
    "%reset -f\n",
    "\n",
    "import pylab as py\n",
    "import numpy as np\n",
    "import pandas as pd\n",
    "\n",
    "a = 0\n",
    "b = 100\n",
    "N = 1\n",
    "N_Max = 10000\n",
    "Chart_Div = 1000\n",
    "N_arr = np.zeros([N_Max])\n",
    "\n",
    "for i, n in enumerate(N_arr):\n",
    "    N_arr[i] = N\n",
    "    N += 1\n",
    "\n",
    "def midpoint(f,a,b,N):\n",
    "    h   = (b - a) / N\n",
    "    mysum = 0\n",
    "    n = 0\n",
    "    while n < N:\n",
    "        xn = a + n * h\n",
    "        mysum += f(pow(xn, 2) + xn * h + pow(h, 2) / 4) * h\n",
    "        n += 1\n",
    "    return mysum\n",
    "\n",
    "result_arr = np.zeros([N_Max])\n",
    "\n",
    "for i, n in enumerate(N_arr):\n",
    "    result_arr[i] = midpoint(np.sin, a, b, N_arr[i])\n",
    "        \n",
    "\"\"\" DOES FULL TABLE\n",
    "df = pd.DataFrame({'N': N_arr, 'I': result_arr})\n",
    "\n",
    "with pd.option_context('display.max_rows', None, 'display.max_columns', None):\n",
    "    print(df)\n",
    "\"\"\"\n",
    "\n",
    "i = 1\n",
    "print (f\"  N                 I\")\n",
    "while i <= N_Max / Chart_Div:\n",
    "    print(N_arr[int(Chart_Div * i - 1)], \"   \", result_arr[int(Chart_Div * i - 1)])\n",
    "    i += 1\n"
   ]
  },
  {
   "cell_type": "markdown",
   "id": "fb751d16-fba3-4aaf-a317-05676e0c1b98",
   "metadata": {},
   "source": [
    "By observing the above table, I can see clearly that at N = 3392, the integral approximation (I) reaches 1st sig-fig \n",
    "precision. The table also includes when I reaches 2nd sig-fig precision at N = 4496, but to go further than that I have \n",
    "thought to do the code below that will find the nth sig-fig precision based on the observation that I continues to decrease \n",
    "from the 1st sig-fig precision point onwards."
   ]
  },
  {
   "cell_type": "code",
   "execution_count": 1,
   "id": "109a6207-f80f-4708-bc5a-35d71736dca4",
   "metadata": {},
   "outputs": [
    {
     "name": "stdout",
     "output_type": "stream",
     "text": [
      "195000 0.631420009194518\n",
      "195200 0.6314200049180951\n",
      "195400 0.6314200006548049\n",
      "195431 0.631419999995218\n"
     ]
    }
   ],
   "source": [
    "#part c)\n",
    "%reset -f\n",
    "\n",
    "import numpy as np\n",
    "\n",
    "a = 0\n",
    "b = 100\n",
    "N = 195000\n",
    "result = 0.63142\n",
    "\n",
    "def midpoint(f,a,b,N):\n",
    "    h   = (b - a) / N\n",
    "    mysum = 0\n",
    "    n = 0\n",
    "    while n < N:\n",
    "        xn = a + n * h\n",
    "        mysum += f(pow(xn, 2) + xn * h + pow(h, 2) / 4) * h\n",
    "        n += 1             \n",
    "    return mysum\n",
    "\n",
    "while result >= 0.63142:       \n",
    "    result= midpoint(np.sin, a, b, N)\n",
    "    if int(N / 200) == N / 200: \n",
    "        print(N, result)\n",
    "    N += 1\n",
    "\n",
    "print(N - 1, result)"
   ]
  },
  {
   "cell_type": "markdown",
   "id": "89079f69-4e8f-469f-930a-4878e4a52863",
   "metadata": {},
   "source": [
    "By guessing around using part a), I have found the starting point for the code above and used this to find the following:\n",
    "3rd is N = 12162, 4th is N = 31279, and 5th is N = 195431"
   ]
  },
  {
   "cell_type": "markdown",
   "id": "f2b64761-2e56-47a7-af05-290dde60fecb",
   "metadata": {},
   "source": [
    "Now I will do homework 3.3 below, with steps labeled at the top:"
   ]
  },
  {
   "cell_type": "code",
   "execution_count": 2,
   "id": "9a4664bc-bbdd-4228-a77b-2124a448be2d",
   "metadata": {},
   "outputs": [
    {
     "name": "stdout",
     "output_type": "stream",
     "text": [
      "1.5553993554825278\n"
     ]
    }
   ],
   "source": [
    "%reset -f\n",
    "import numpy as np\n",
    "\n",
    "N = 20000\n",
    "a = -1\n",
    "b = 1\n",
    "h = (b - a) / N\n",
    "\n",
    "def midpoint(f,a,b,N):\n",
    "    mysum = 0\n",
    "    n = 0\n",
    "    while n < N:\n",
    "        xn = a + (n + 1 / 2) * h\n",
    "        mysum += f(pow(xn, 2) - xn) * h\n",
    "        n += 1\n",
    "    return mysum\n",
    "\n",
    "def leftpoint(f,a,b,N):\n",
    "    mysum = 0\n",
    "    n = 0\n",
    "    while n < N:\n",
    "        xn = a + n * h\n",
    "        mysum += f(pow(xn, 2) - xn) * h\n",
    "        n += 1\n",
    "    return mysum\n",
    "\n",
    "def rightpoint(f, a, b, N):\n",
    "    mysum = 0\n",
    "    n = 0\n",
    "    while n < N:\n",
    "        xn = a + (n + 1) * h\n",
    "        mysum += f(pow(xn, 2) - xn) * h\n",
    "        n += 1\n",
    "    return mysum\n",
    "\n",
    "def avgpoint(f, a, b, N):\n",
    "    return 1 / 2 * (leftpoint(np.cos, a, b, N) + rightpoint(np.cos, a, b, N))\n",
    "\n",
    "ans = leftpoint(np.cos, a, b, N)\n",
    "print(ans)"
   ]
  },
  {
   "cell_type": "markdown",
   "id": "a9c227a0-940a-4be6-a8ff-525e466e11e5",
   "metadata": {},
   "source": [
    "For leftpoint, 20184 subdivisions are required, with only 1 function call needed\n",
    "\n",
    "For midpoint, 124 subdivisions are required, with only 1 function call needed\n",
    "\n",
    "For Trapezoid rule (avgpoint), 114 subdivisions are required, with 3 function calls required,\n",
    "    although this could be made into 2 calls very easily"
   ]
  },
  {
   "cell_type": "markdown",
   "id": "cf8ca001-7672-4df4-b886-946649f0c63e",
   "metadata": {},
   "source": [
    "Now I will do the Simpson HW below"
   ]
  },
  {
   "cell_type": "code",
   "execution_count": 32,
   "id": "a66026bc-cd84-47ec-8c06-2215f7c4d8c2",
   "metadata": {},
   "outputs": [
    {
     "name": "stdout",
     "output_type": "stream",
     "text": [
      "0.9953222650189542\n"
     ]
    }
   ],
   "source": [
    "#part a)\n",
    "%reset -f\n",
    "import numpy as np\n",
    "import pylab as py\n",
    "\n",
    "N = 10000\n",
    "x = 2\n",
    "h = x / N\n",
    "\n",
    "def midpoint(f, a, b, N):\n",
    "    mysum = 0\n",
    "    n = 0\n",
    "    while n < N:\n",
    "        t = a + (n + 1 / 2) * h\n",
    "        mysum += f(-pow(t, 2)) * h\n",
    "        n += 1\n",
    "    return mysum\n",
    "\n",
    "def leftpoint(f, a, b, N):\n",
    "    mysum = 0\n",
    "    n = 0\n",
    "    while n < N:\n",
    "        t = a + n * h\n",
    "        mysum += f(-pow(t, 2)) * h\n",
    "        n += 1\n",
    "    return mysum\n",
    "\n",
    "def rightpoint(f, a, b, N):\n",
    "    mysum = 0\n",
    "    n = 0\n",
    "    while n < N:\n",
    "        t = a + (n + 1) * h\n",
    "        mysum += f(-pow(t, 2)) * h\n",
    "        n += 1\n",
    "    return mysum\n",
    "\n",
    "def avgpoint(f, a, b, N):\n",
    "    return 1 / 2 * (leftpoint(f, a, b, N) + rightpoint(f, a, b, N))\n",
    "\n",
    "def SimpErf(x):\n",
    "    return 2 / np.sqrt(np.pi) * (1 / 3 * avgpoint(np.exp, 0, x, N) + 2 / 3 * midpoint(np.exp, 0, x, N))\n",
    "\n",
    "ans = SimpErf(x)\n",
    "print(ans)"
   ]
  },
  {
   "cell_type": "code",
   "execution_count": 35,
   "id": "d3291bee-4657-4fc9-9301-31662d9ca8a5",
   "metadata": {},
   "outputs": [
    {
     "data": {
      "image/png": "[encoded data removed]",
      "text/plain": [
       "<Figure size 640x480 with 1 Axes>"
      ]
     },
     "metadata": {},
     "output_type": "display_data"
    }
   ],
   "source": [
    "#part b)\n",
    "%reset -f\n",
    "import numpy as np\n",
    "import pylab as py\n",
    "\n",
    "N = 10000\n",
    "\n",
    "def midpoint(f, a, b, N):\n",
    "    mysum = 0\n",
    "    n = 0\n",
    "    while n < N:\n",
    "        t = a + (n + 1 / 2) * h\n",
    "        mysum += f(-pow(t, 2)) * h\n",
    "        n += 1\n",
    "    return mysum\n",
    "\n",
    "def leftpoint(f, a, b, N):\n",
    "    mysum = 0\n",
    "    n = 0\n",
    "    while n < N:\n",
    "        t = a + n * h\n",
    "        mysum += f(-pow(t, 2)) * h\n",
    "        n += 1\n",
    "    return mysum\n",
    "\n",
    "def rightpoint(f, a, b, N):\n",
    "    mysum = 0\n",
    "    n = 0\n",
    "    while n < N:\n",
    "        t = a + (n + 1) * h\n",
    "        mysum += f(-pow(t, 2)) * h\n",
    "        n += 1\n",
    "    return mysum\n",
    "\n",
    "def avgpoint(f, a, b, N):\n",
    "    return 1 / 2 * (leftpoint(f, a, b, N) + rightpoint(f, a, b, N))\n",
    "\n",
    "def SimpErf(x):\n",
    "    return 2 / np.sqrt(np.pi) * (1 / 3 * avgpoint(np.exp, 0, x, N) + 2 / 3 * midpoint(np.exp, 0, x, N))\n",
    "\n",
    "points = 120\n",
    "x0 = np.zeros([points])\n",
    "y0 = np.zeros([points])\n",
    "\n",
    "i = 0\n",
    "while i < points:\n",
    "    h = (3 * i / points) / N\n",
    "    x0[i] = 3 * i / points\n",
    "    y0[i] = SimpErf(3 * i / points)\n",
    "    i += 1\n",
    "\n",
    "py.plot(x0, y0,'-o')\n",
    "py.xlabel('x')\n",
    "py.ylabel('SimpErf(x)')\n",
    "py.show()\n",
    "    "
   ]
  },
  {
   "cell_type": "code",
   "execution_count": 39,
   "id": "c6086fe9-3550-4c09-b6ac-9ebdaf52b9a8",
   "metadata": {},
   "outputs": [],
   "source": [
    "#part c)\n",
    "from scipy.integrate import quad\n",
    "\n",
    "def Sq(x):\n",
    "    return pow(x, 2)\n",
    "\n",
    "def SqInt(a, b):\n",
    "    return quad(Sq, a, b)"
   ]
  },
  {
   "cell_type": "code",
   "execution_count": null,
   "id": "e72add91-019d-445d-a8d9-ba8f8f84159f",
   "metadata": {},
   "outputs": [],
   "source": []
  }
 ],
 "metadata": {
  "kernelspec": {
   "display_name": "Python 3 (ipykernel)",
   "language": "python",
   "name": "python3"
  },
  "language_info": {
   "codemirror_mode": {
    "name": "ipython",
    "version": 3
   },
   "file_extension": ".py",
   "mimetype": "text/x-python",
   "name": "python",
   "nbconvert_exporter": "python",
   "pygments_lexer": "ipython3",
   "version": "3.12.8"
  }
 },
 "nbformat": 4,
 "nbformat_minor": 5
}
