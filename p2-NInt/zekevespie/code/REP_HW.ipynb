{
 "cells": [
  {
   "cell_type": "code",
   "execution_count": 72,
   "id": "d1ba903d-8826-46e4-b36b-260f7e76294b",
   "metadata": {},
   "outputs": [
    {
     "name": "stdout",
     "output_type": "stream",
     "text": [
      "2046\n"
     ]
    }
   ],
   "source": [
    "#1\n",
    "import numpy as np\n",
    "def my_bin_2_dec(b):\n",
    "    d = 0\n",
    "    length = len(b)\n",
    "    i = 0\n",
    "    while i < length:\n",
    "        if b[i] == 1:\n",
    "            d += pow(2, length - 1 - i)\n",
    "        i += 1\n",
    "        #print(d)\n",
    "    return d\n",
    "\n",
    "print(my_bin_2_dec([1,1,1,1,1,1,1,1,1,1,0]))"
   ]
  },
  {
   "cell_type": "code",
   "execution_count": 74,
   "id": "6abed3bf-0881-49c7-b6ce-e636f1f20f67",
   "metadata": {},
   "outputs": [
    {
     "name": "stdout",
     "output_type": "stream",
     "text": [
      "[1 1 1 1 1 0 1 0 0 0 0 0 0 0]\n"
     ]
    }
   ],
   "source": [
    "#2\n",
    "def my_dec_2_bin(d):\n",
    "    if d == 0:\n",
    "        return [0]\n",
    "    length = int(np.log2(d) + 1) # Found this by recognizing that d <= 2^(n_max + 1) = 2^length\n",
    "    b = np.full(length, 0, dtype = int)\n",
    "    i = 0\n",
    "    while i < length:\n",
    "        if d / pow(2, length - 1 - i) >= 1:\n",
    "            b[i] = 1\n",
    "            d -= pow(2, length - 1 - i)\n",
    "        i += 1\n",
    "    return b\n",
    "\n",
    "print(my_dec_2_bin(16000))"
   ]
  },
  {
   "cell_type": "code",
   "execution_count": 45,
   "id": "93cc8334-8fcd-4eb6-8c25-f5d6342f283a",
   "metadata": {},
   "outputs": [
    {
     "name": "stdout",
     "output_type": "stream",
     "text": [
      "12654\n"
     ]
    }
   ],
   "source": [
    "#3\n",
    "print(my_bin_2_dec(my_dec_2_bin(12654)))\n",
    "#Yes I do get the same number"
   ]
  },
  {
   "cell_type": "code",
   "execution_count": 62,
   "id": "244985ad-b6a8-4267-913e-dd8a51d38d9e",
   "metadata": {},
   "outputs": [
    {
     "name": "stdout",
     "output_type": "stream",
     "text": [
      "[1 1 1 0 0 1 1]\n"
     ]
    }
   ],
   "source": [
    "#4\n",
    "def my_bin_adder(b1, b2):\n",
    "    length1 = len(b1)\n",
    "    length2 = len(b2)\n",
    "    if length1 - length2 > 0: #Make the output array length 1 larger than the largest input array\n",
    "        length = length1 + 1  \n",
    "    else:\n",
    "        length = length2 + 1\n",
    "\n",
    "    x = length1 #Make both input arrays the same length\n",
    "    y = length2\n",
    "    while x < length:\n",
    "        b1 = [0] + b1\n",
    "        x += 1\n",
    "    while y < length:\n",
    "        b2 = [0] + b2\n",
    "        y += 1\n",
    "    \n",
    "    b = np.full(length, 0, dtype = int)\n",
    "    i = 0\n",
    "    while i < length: #Do some binary adding\n",
    "        if b1[length - 1 - i] + b2[length - 1 - i] + b[length - 1 - i] == 1:\n",
    "            b[length - 1 - i] = 1\n",
    "        elif b1[length - 1 - i] + b2[length - 1 - i] + b[length - 1 - i] == 2:\n",
    "            b[length - 1 - i] = 0\n",
    "            b[length - 2 - i] = 1\n",
    "        elif b1[length - 1 - i] + b2[length - 1 - i] + b[length - 1 - i] == 3:\n",
    "            b[length - 1 - i] = 1\n",
    "            b[length - 2 - i] = 1\n",
    "        i += 1\n",
    "\n",
    "    if b[0] == 0:\n",
    "        b = np.delete(b, 0)\n",
    "    return b\n",
    "\n",
    "print(my_bin_adder([1, 1, 1, 1, 1], [1, 0, 1, 0, 1, 0, 0]))"
   ]
  },
  {
   "cell_type": "markdown",
   "id": "1944db0f-a49c-469b-92d2-635b33517191",
   "metadata": {},
   "source": [
    "#5\n",
    "Adding more bits to the sign is obviously just useless / worse than useless, since it is a binary operation. Adding bits to \n",
    "the characteristic allows for larger numbers to be producible, and adding bits to the fraction makes the spacing between \n",
    "values smaller (relativeto the size of the number that is being observed)."
   ]
  },
  {
   "cell_type": "code",
   "execution_count": 30,
   "id": "50e4eefe-86de-4595-833a-48c665f70b67",
   "metadata": {},
   "outputs": [
    {
     "name": "stdout",
     "output_type": "stream",
     "text": [
      "15.18484199625\n"
     ]
    }
   ],
   "source": [
    "#6\n",
    "def my_ieee_2_dec(ieee):\n",
    "    arr = [int(x) for x in ieee] #Make into array of 0s and 1s\n",
    "    s = arr[0]\n",
    "    \n",
    "    e = 0\n",
    "    i = 1\n",
    "    while i < 12:\n",
    "        if arr[i] == 1:\n",
    "            e += pow(2, 11 - i)\n",
    "        i += 1\n",
    "    \n",
    "    f = 0\n",
    "    while i < 64:\n",
    "        if arr[i] == 1:\n",
    "            f += 1 / pow(2, i - 11)\n",
    "        i += 1\n",
    "\n",
    "    d = pow(-1, s) * pow(2, e - 1023) * (1 + f)        \n",
    "    return d\n",
    "\n",
    "d = my_ieee_2_dec('0100000000101110010111101010001110011100001100011010010001101000')\n",
    "#print(\"{:.29f}\".format(d)) #Necessary if you want to see down to a certain number of sig-figs\n",
    "print(d)"
   ]
  },
  {
   "cell_type": "code",
   "execution_count": 39,
   "id": "5bd5a40f-ade4-439b-bfa4-f3a02a52c69c",
   "metadata": {},
   "outputs": [
    {
     "name": "stdout",
     "output_type": "stream",
     "text": [
      "1100000001110011010100100100010010010001001010011000100010010000\n"
     ]
    }
   ],
   "source": [
    "#7\n",
    "import numpy as np\n",
    "def my_dec_2_ieee(d):\n",
    "    ieee = [0] * 64\n",
    "    if d < 0:\n",
    "        ieee[0] = 1\n",
    "    elif d > 0:\n",
    "        ieee[0] = 0\n",
    "\n",
    "    i = 1\n",
    "    e = 0\n",
    "    exp = np.log2(np.abs(d))\n",
    "    while i < 12:\n",
    "        if exp > pow(2, 11 - i) + e - 1023:\n",
    "            e += pow(2, 11 - i)\n",
    "            ieee[i] = 1\n",
    "        i += 1\n",
    "\n",
    "    d2 = pow(2, e - 1023)\n",
    "    f = 0\n",
    "    while i < 64:\n",
    "        if d2 * (1 + f + pow(2, -(i - 11))) < np.abs(d):\n",
    "            f += pow(2, -(i - 11))\n",
    "            ieee[i] = 1\n",
    "        elif d2 * (1 + f + pow(2, -(i - 11))) == np.abs(d):\n",
    "            f += pow(2, -(i - 11))\n",
    "            ieee[i] = 1\n",
    "            break\n",
    "        i += 1\n",
    "    \n",
    "    return ieee\n",
    "\n",
    "ieee = my_dec_2_ieee(-309.141740)\n",
    "string = ''\n",
    "for i in ieee:\n",
    "    string += str(i)\n",
    "print(string)"
   ]
  },
  {
   "cell_type": "code",
   "execution_count": 42,
   "id": "29c83161-132b-429f-b0d8-af65549b2907",
   "metadata": {},
   "outputs": [
    {
     "name": "stdout",
     "output_type": "stream",
     "text": [
      "000100\n"
     ]
    }
   ],
   "source": [
    "#8\n",
    "%reset -f\n",
    "import numpy as np\n",
    "def ieee_baby(d):\n",
    "    ieee = [0] * 6\n",
    "    if d < 0:\n",
    "        ieee[0] = 1\n",
    "    elif d > 0:\n",
    "        ieee[0] = 0\n",
    "\n",
    "    i = 1\n",
    "    e = 0\n",
    "    exp = np.log2(np.abs(d))\n",
    "    while i < 3:\n",
    "        if exp > pow(2, 2 - i) + e - 1:\n",
    "            e += pow(2, 2 - i)\n",
    "            ieee[i] = 1\n",
    "        i += 1\n",
    "\n",
    "    d2 = pow(2, e - 1)\n",
    "    f = 0\n",
    "    while i < 6:\n",
    "        if d2 * (1 + f + pow(2, -(i - 2))) < np.abs(d):\n",
    "            f += pow(2, -(i - 11))\n",
    "            ieee[i] = 1\n",
    "        elif d2 * (1 + f + pow(2, -(i - 2))) == np.abs(d):\n",
    "            f += pow(2, -(i - 2))\n",
    "            ieee[i] = 1\n",
    "            break\n",
    "        i += 1\n",
    "    \n",
    "    return ieee\n",
    "\n",
    "ieee = ieee_baby(1)\n",
    "string = ''\n",
    "for i in ieee:\n",
    "    string += str(i)\n",
    "print(string)"
   ]
  },
  {
   "cell_type": "markdown",
   "id": "2f5b007a-3303-4dc4-b704-0c899fa0e936",
   "metadata": {},
   "source": [
    "Tried messing around with the code to make it work for 6 bit, but I couldn't figure it out.\n",
    "However, in general there are 3 possible values of the characteristic part: 1, 2, and 3.\n",
    "There are 7 possible values for the fraction, which are 0.5, 0.25, 0.125, 0.75, 0.625, 0.375, and 0.875.\n",
    "This allows for the following possibilities:"
   ]
  },
  {
   "cell_type": "code",
   "execution_count": 50,
   "id": "9b101e0d-c3a1-4f21-a8e4-7591a002818d",
   "metadata": {},
   "outputs": [
    {
     "name": "stdout",
     "output_type": "stream",
     "text": [
      "0.5\n",
      "0.25\n",
      "0.125\n",
      "0.75\n",
      "0.625\n",
      "0.375\n",
      "0.875\n",
      "1.0\n",
      "0.5\n",
      "0.25\n",
      "1.5\n",
      "1.25\n",
      "0.75\n",
      "1.75\n",
      "1.5\n",
      "0.75\n",
      "0.375\n",
      "2.25\n",
      "1.875\n",
      "1.125\n",
      "2.625\n"
     ]
    }
   ],
   "source": [
    "arr1 = [1, 2, 3]\n",
    "arr2 = [0.5, 0.25, 0.125, 0.75, 0.625, 0.375, 0.875]\n",
    "\n",
    "i = 0\n",
    "while i < 3:\n",
    "    j = 0\n",
    "    while j < 7:\n",
    "        a = arr1[i] * arr2[j]\n",
    "        print(a)\n",
    "        j += 1\n",
    "    i += 1\n",
    "        "
   ]
  },
  {
   "cell_type": "markdown",
   "id": "2c252be7-dd95-4b98-8cf8-344e502762b9",
   "metadata": {},
   "source": [
    "This leaves (in ascending order and after removing duplicates): \n",
    "0.125, 0.25, 0.375, 0.5, 0.625, 0.75, 0.875, 1.0, 1.125, 1.25, 1.5, 1.75, 1.875, 2.25, and 2.625\n",
    "Which means the smallest gap is 0.125 and the largest is 0.375"
   ]
  },
  {
   "cell_type": "code",
   "execution_count": 70,
   "id": "631b9084-ae2a-43ec-ba8c-cb6b31b5ac70",
   "metadata": {},
   "outputs": [
    {
     "name": "stdout",
     "output_type": "stream",
     "text": [
      "4503599627370496 1.0\n"
     ]
    }
   ],
   "source": [
    "#9\n",
    "%reset -f\n",
    "import numpy as np\n",
    "i = 4503599627300000\n",
    "while i > -1:\n",
    "    if np.spacing(i) >= 1:\n",
    "        print(i)\n",
    "        break\n",
    "    i += 1"
   ]
  },
  {
   "cell_type": "markdown",
   "id": "da59e1fa-a75a-48d8-9c1f-4a64a36aadb5",
   "metadata": {},
   "source": [
    "By altering the incrementing of i, I was able to find this. I started i=1 and multiplied by 2 with every iteration,\n",
    "then I started from 4E15 and did i += 1000000, then I started at 4.4...E15 and did i += 10000, then i += 1 from \n",
    "4503599627300000. The final answer is 4503599627370496."
   ]
  },
  {
   "cell_type": "markdown",
   "id": "5cd13608-4962-4c3b-93d3-7b4e81cb889f",
   "metadata": {},
   "source": [
    "#10\n",
    "Well binary is more efficient computationally, and logically I suppose it may be marginally more efficient for\n",
    "everyday use as well, though to a much less significant degree (we aren't doing millions of calculations a second).\n",
    "However, numbers take less physical space to write in base10, for example, 16 in base10 is 10000 in binary.\n",
    "Base10 also allows for greater distinction in orders of magnitude, though I don't really know if this is necessarily\n",
    "a good thing."
   ]
  },
  {
   "cell_type": "markdown",
   "id": "eae335ae-2833-492c-bf25-097debbf5af6",
   "metadata": {},
   "source": [
    "#11\n",
    "0000000000000 would be 13 in base1, since it is literally just the number in base10 written as individual\n",
    "0s for every integer in [1,13]. To add, you just add the number of 0s in both numbers and smush them together.\n",
    "To multiply, for every 0 in the first number write however many zeros there are in the second until you've gone\n",
    "through all the zeros in both."
   ]
  },
  {
   "cell_type": "markdown",
   "id": "19632ee2-631e-417e-bfb3-0699abb02d98",
   "metadata": {},
   "source": [
    "#12\n",
    "Well I've got ten fingers, so that's 10 1s, or 1111111111, which according to my binary number calculator is 1023"
   ]
  },
  {
   "cell_type": "markdown",
   "id": "466a7b38-de43-435a-a69e-6dbf171af113",
   "metadata": {},
   "source": [
    "#13\n",
    "Just like how in base10 you can multiply by 10 by just adding a zero at the end of the number (or technically shifting\n",
    "the decimal place once to the right), the same thing can happen when multiplying by 2 in base2, i.e. 2 : 1, 4 : 10, 8 : 100, etc.\n",
    "I made sure this was the case with my binary number calculator and it is so."
   ]
  }
 ],
 "metadata": {
  "kernelspec": {
   "display_name": "Python 3 (ipykernel)",
   "language": "python",
   "name": "python3"
  },
  "language_info": {
   "codemirror_mode": {
    "name": "ipython",
    "version": 3
   },
   "file_extension": ".py",
   "mimetype": "text/x-python",
   "name": "python",
   "nbconvert_exporter": "python",
   "pygments_lexer": "ipython3",
   "version": "3.12.8"
  }
 },
 "nbformat": 4,
 "nbformat_minor": 5
}
