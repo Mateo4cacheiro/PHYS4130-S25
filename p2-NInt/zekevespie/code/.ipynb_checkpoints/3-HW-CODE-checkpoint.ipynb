{
 "cells": [
  {
   "cell_type": "code",
   "execution_count": 4,
   "id": "45af3be9-186a-4ea7-b207-e9ac8c0a550f",
   "metadata": {},
   "outputs": [
    {
     "name": "stdout",
     "output_type": "stream",
     "text": [
      "[1, 2, 3, 4, 5, 6, 7, 8, 9, 10]\n",
      "55\n"
     ]
    }
   ],
   "source": [
    "#METHOD 1:\n",
    "xarray = [1,2,3,4,5,6,7,8,9,10]\n",
    "print(xarray)\n",
    "\n",
    "# Prepare a variable to store the sum\n",
    "mysum=0\n",
    "\n",
    "# Loop over indices\n",
    "for i in range(len(xarray)):\n",
    "    mysum = mysum + xarray[i]\n",
    "\n",
    "print(mysum)"
   ]
  },
  {
   "cell_type": "code",
   "execution_count": 26,
   "id": "bc507ba8-f98f-421d-8a6f-77f94a4fd04d",
   "metadata": {},
   "outputs": [
    {
     "name": "stdout",
     "output_type": "stream",
     "text": [
      "[1, 2, 3, 4, 5, 6, 7, 8, 9, 10]\n",
      "150 ns ± 4.72 ns per loop (mean ± std. dev. of 7 runs, 10,000,000 loops each)\n"
     ]
    }
   ],
   "source": [
    "#METHOD 2:\n",
    "xarray = [1,2,3,4,5,6,7,8,9,10]\n",
    "print(xarray)\n",
    "\n",
    "# Prepare a variable to store the sum\n",
    "mysum=0\n",
    "\n",
    "# Loop over values\n",
    "def func():\n",
    "    mysum = 0\n",
    "    for x in xarray: mysum = mysum + x\n",
    "\n",
    "%timeit func()\n",
    "#print(mysum)"
   ]
  },
  {
   "cell_type": "code",
   "execution_count": 5,
   "id": "4ec16a24-6462-4fcd-8f5d-1db68b7e9340",
   "metadata": {},
   "outputs": [
    {
     "name": "stdout",
     "output_type": "stream",
     "text": [
      "[1, 2, 3, 4, 5, 6, 7, 8, 9, 10]\n",
      "55\n"
     ]
    }
   ],
   "source": [
    "#METHOD 3:\n",
    "import numpy as np\n",
    "xarray = [1,2,3,4,5,6,7,8,9,10]\n",
    "print(xarray)\n",
    "\n",
    "mysum = np.sum( xarray )\n",
    "\n",
    "print(mysum)"
   ]
  },
  {
   "cell_type": "code",
   "execution_count": null,
   "id": "4768e166-af6b-4cde-8ed7-bbc5278ed5f4",
   "metadata": {},
   "outputs": [],
   "source": [
    "import numpy as np\n",
    "\n",
    "# Hint: for development/debugging,\n",
    "# you may want to pick a set of $x_i$ that you know.  Print them to the screen to ensure\n",
    "# you know that x-axis is correct. For example, a=1, b=2, N = 10.\n",
    "\n",
    "a = 0\n",
    "b = np.pi/2\n",
    "N = 1000\n",
    "\n",
    "def leftpoint(f,a,b,N):\n",
    "    h   = (b - a) / N #So x_n = a + n*h for some integer n\n",
    "    \n",
    "    mysum = 0\n",
    "\n",
    "    \n",
    "\n",
    "    return mysum   # Note that we need this to tell the code outside of the function about the result\n",
    "    \n",
    "N = 1000\n",
    "result=leftpoint(np.sin,0,np.pi/2,N)\n",
    "print(\"The result of the integral for \",N,\" intervals is\",result)"
   ]
  }
 ],
 "metadata": {
  "kernelspec": {
   "display_name": "Python 3 (ipykernel)",
   "language": "python",
   "name": "python3"
  },
  "language_info": {
   "codemirror_mode": {
    "name": "ipython",
    "version": 3
   },
   "file_extension": ".py",
   "mimetype": "text/x-python",
   "name": "python",
   "nbconvert_exporter": "python",
   "pygments_lexer": "ipython3",
   "version": "3.12.8"
  }
 },
 "nbformat": 4,
 "nbformat_minor": 5
}
