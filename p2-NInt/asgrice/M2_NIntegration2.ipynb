{
 "cells": [
  {
   "cell_type": "markdown",
   "metadata": {
    "id": "WcARsSOXyD0C"
   },
   "source": [
    "# Module 2 Numerical Integration (2 of n)\n",
    "\n",
    "\n",
    "## Learning objectives\n",
    "\n",
    "- improve the efficiency of our integration algorithms by using the trapezoid and Simpson's method\n",
    "- utilize a published library to compute integrals"
   ]
  },
  {
   "cell_type": "markdown",
   "metadata": {
    "id": "qALvpm_cyD0G"
   },
   "source": [
    "# Pre-class\n",
    "\n",
    "* be ready to share your work on M2 ~~with your group~~, and discuss\n",
    "* watch [Video 3.2](https://youtu.be/TzXShbDDE_o) (on log plots and exponents, will help with HW)\n",
    "* read the text of this module, and be ready to ask questions and discuss the mathematics\n"
   ]
  },
  {
   "cell_type": "markdown",
   "metadata": {
    "id": "hviwIbOlyD0G"
   },
   "source": [
    "## Group discussion: Numerical errors in integration methods \n",
    "\n",
    "Examine your work on previous HW problems: you should be able to observe that the errors in the left and right endpoint rules for numerical integration are proportional to $1/N$, where $N$ is the \n",
    "number of subintervals. The width of each subinterval is $h = (b-a)/N$, so we say the error in these methods \"scales like\" (is proportional to) $h$.\n",
    "\n",
    "*If you don't observe this in your log-log plots .... ask an instructor ...*\n",
    "\n",
    "Thus, if you want to reduce the error in a calculation by a factor of $10^6$, you must increase the number of subintervals \n",
    "by a factor of $10^6$. This requires $10^6$ times as many evaluations of the integrand $f(x)$. This might be fine for simple problems, \n",
    "with simple integrands. \n",
    "But for complicated integrands that require a lot of computer time to evaluate, this can be a problem. In those cases \n",
    "we need a more efficient integration scheme. \n",
    "\n",
    "The midpoint rule is better than the left or right endpoint rules; the errors in this method are proportional to $1/N^2$, \n",
    "or $h^2$. With the midpoint rule we can reduce the error by a factor of $10^6$ by increasing the number of subintervals \n",
    "by a factor of $1000$. This requires \"only\" $1000$ times as many evaluations of $f(x)$. \n",
    "\n",
    "Today, we'll find out: *can we do even better?* and what are the pros/cons of the different methods?\n",
    "\n"
   ]
  },
  {
   "cell_type": "markdown",
   "metadata": {
    "id": "GEakLMqZyD0H"
   },
   "source": [
    "## Trapezoid rule\n",
    "\n",
    "The errors for the left endpoint rule and the right endpoint rule are similar. To be precise, \n",
    "the order $h^2$ terms are the same apart from the overall sign, and the point of evaluation of $f''(x)$. The point of evaluation should \n",
    "not make much difference, assuming $h$ is small. This suggests that the errors in the left and right endpoint rules should be\n",
    "approximately equal in magnitude but opposite in sign.  You might have noticed this from working with the \n",
    "left and right endpoint rules in the previous lesson. \n",
    "\n",
    "This observation leads us to the trapezoid rule for numerical integration. The trapezoid rule is obtained by \n",
    "taking the _average_ of the left and right endpoint rules. That is, we approximate the integral \n",
    "\n",
    "$$\n",
    "\tI = \\int_a^b f(x)\\,dx\n",
    "$$\n",
    "\n",
    "by \n",
    "\n",
    "$$\n",
    "\tI_T = \\frac{1}{2} \\left( I_L + I_R\\right) = \\sum_{i=0}^{N-1} \\frac{1}{2} \\left[ f(a + ih) + f(a + ih + h) \\right] h\n",
    "$$\n",
    "\n",
    "![Integration trapezoids](https://upload.wikimedia.org/wikipedia/commons/a/a8/Calkowanie_numeryczne-metoda_trapezow.png)\n",
    "\n",
    "Geometrically, the area for each subinterval is approximated as the area of a trapezoid that touches the curve $f(x)$ at both \n",
    "endpoints. Note that the trapezoid rule can be rearranged in this way:\n",
    "\n",
    "$$\n",
    "\tI_T = \\frac{h}{2}\\left[ f(a) + f(b)\\right] + \\sum_{i=1}^{N-1} f(a+ih) h\n",
    "$$\n",
    "\n",
    "This result is important because it shows that the trapezoid rule requires only $N+1$ evaluations of the function $f(x)$. This is essentially the same as the number of evaluations required for the left endpoint, right endpoint, and midpoint rules, \n",
    "namely $N$. \n",
    "\n",
    "**Note:** In the second version, can you see how the $i=0$ and $i=N-1$ contributions to the sum are moved out of the sum? \n",
    "\n",
    "\n"
   ]
  },
  {
   "cell_type": "markdown",
   "metadata": {
    "id": "IPVrnCyDyD0I"
   },
   "source": [
    "## Homework 3.3 ($\\LaTeX{}$)\n",
    "\n",
    "Consider the integral\n",
    "\n",
    "$$\n",
    "\tI = \\int_{-1}^1 \\cos(x^2 - x) \\, dx\n",
    "$$\n",
    "\n",
    "For the left endpoint rule, midpoint rule, and trapezoid rule, find (approximately) the number \n",
    "of subintervals required to achieve an error of about $\\pm 10^{-4}$. In each case, how many function evaluations \n",
    "are required? "
   ]
  },
  {
   "cell_type": "code",
   "execution_count": 55,
   "metadata": {
    "id": "kXy66wJUyD0I"
   },
   "outputs": [
    {
     "name": "stdout",
     "output_type": "stream",
     "text": [
      "T = 1.5553034921175397\n",
      "M = 1.5553035015888022\n",
      "L = 1.5553074893772576\n"
     ]
    }
   ],
   "source": [
    "import numpy as np\n",
    "\n",
    "def traprule(f, a, b, N):\n",
    "    I = 0\n",
    "    h = (b - a)/N\n",
    "    \n",
    "    for i in range(N - 1):\n",
    "        x1 = (a + (i*h))\n",
    "        x2 = (a + (i*h) + h)\n",
    "        I += (h/2) * ((f((x1**2) - x1)  + f((x2**2) - x2)))\n",
    "\n",
    "    return I\n",
    "\n",
    "def midpoint(f, a, b, N):\n",
    "    h = (b-a)/N\n",
    "    I = 0\n",
    "    for i in range (N-1):\n",
    "        x = (a + (i+(1/2))*h)\n",
    "        I += f((x**2) - x)*h\n",
    "    return I\n",
    "    \n",
    "def leftpoint(f, a, b, N):\n",
    "    h = (b-a)/N\n",
    "    I = 0\n",
    "    for i in range (N-1):\n",
    "        x = (a + (i*h))\n",
    "        I += f((x**2) - x)*h\n",
    "    return I\n",
    "T = traprule(np.cos, -1, 1, 12000)\n",
    "\n",
    "M = midpoint(np.cos, -1, 1, 12000)\n",
    "\n",
    "L = leftpoint(np.cos, -1, 1, 21000)\n",
    "\n",
    "print('T =',T)\n",
    "print('M =',M)\n",
    "print('L =',L)"
   ]
  },
  {
   "cell_type": "markdown",
   "metadata": {},
   "source": [
    "The trapezoid rule and midpoint rule both needed approximately 12000 subintervals to get within $10^{-4}$, and the leftpoint rule needed\n",
    "21000 subintervals."
   ]
  },
  {
   "cell_type": "markdown",
   "metadata": {
    "id": "RTGBglBtyD0J"
   },
   "source": [
    "## Simpson's Rule\n",
    "\n",
    "We have now identified two integration methods with errors (per subinterval) of order $h^3$. The midpoint rule has error \n",
    "${\\cal E}_M$ in each subinterval. The trapezoid rule has error ${\\cal E}_T$\n",
    "in each subinterval. \n",
    "Some math would show that to leading order, ${\\cal E}_T = -2{\\cal E}_M$. This suggests \n",
    "that we can define a new integration method as a weighted sum of the midpoint and trapezoid rules, designed \n",
    "to cancel the order $h^3$ terms in the error. This leads to *Simpson's rule*:\n",
    "\n",
    "$$\n",
    "\tI_S = \\frac{1}{3} I_T + \\frac{2}{3} I_M\n",
    "$$\n",
    "\n",
    "which can be written explicitly as\n",
    "\n",
    "$$\n",
    "\tI_S = \\frac{h}{6}\\left\\{ f(a) + f(b) + 2\\sum_{i=1}^{N-1} f(a + ih) + 4\\sum_{i=1}^N f(a+ih - h/2) \\right\\}\n",
    "$$\n",
    "\n",
    "Note that for implementation purposes, you could simply call the trapezoid and midpoint functions you've already written.\n",
    "\n",
    "For Simpson's rule, the errors of order $h^3$ from the midpoint and trapezoid rules cancel. A complete analysis \n",
    "shows that the order $h^4$ terms in the error actually vanish as well. The leading non--zero term in the error is proportional \n",
    "to $h^5$. That is, for Simpson's rule, the error in each \n",
    "subinterval is order $h^5$. The total error for $N\\sim 1/h$ subintervals \n",
    "is proportional to $Nh^5 \\sim h^4$. \n",
    "\n",
    "Geometrically, Simpson's rule is obtained by approximating the area in each subinterval as the area under \n",
    "a parabola that matches the function $f(x)$ at each endpoint and at the midpoint. \n",
    "Simpson's rule is more efficient than any of the other integration methods we have discussed. If we want to reduce \n",
    "the error by a factor of $10^6$, we must increase the number of subintervals by a factor of \n",
    "$10^{6/4}\\approx 32$. Note that Simpson's rule requires $2N + 1$ function evaluations. This is roughly twice as \n",
    "many evaluations as our other methods. However, the rapid reduction of error with a relatively small increase in $N$ \n",
    "will usually offset the extra function calls.  "
   ]
  },
  {
   "cell_type": "markdown",
   "metadata": {},
   "source": [
    "# Homework"
   ]
  },
  {
   "cell_type": "markdown",
   "metadata": {
    "id": "dU_UcptYyD0K"
   },
   "source": [
    "The error function is defined by \n",
    "\n",
    "$$\n",
    "\t{\\rm erf}(x) \\equiv \\frac{2}{\\sqrt{\\pi}} \\int_0^x e^{-t^2} dt\n",
    "$$\n",
    "\n",
    "### a) Write a function `SimpErf` to evaluate the error function using Simpson's rule\n",
    "\n",
    "- Input: x\n",
    "- Output: the right hand side of the equation above\n",
    "\n",
    "Hint: for each value $0 \\le x \\le 3$,  you will need to evaluate the integral over $t$."
   ]
  },
  {
   "cell_type": "code",
   "execution_count": 86,
   "metadata": {},
   "outputs": [
    {
     "data": {
      "text/plain": [
       "0.9999778905061775"
      ]
     },
     "execution_count": 86,
     "metadata": {},
     "output_type": "execute_result"
    }
   ],
   "source": [
    "def traprule(f, a, b, N):\n",
    "    I = 0\n",
    "    h = (b - a)/N\n",
    "    \n",
    "    for i in range(N - 1):\n",
    "        x1 = (a + (i*h))\n",
    "        x2 = (a + (i*h) + h)\n",
    "        I += (h/2) * (f(-(x1**2))  + f(-(x2**2)))\n",
    "\n",
    "    return I\n",
    "\n",
    "def midpoint(f, a, b, N):\n",
    "    h = (b-a)/N\n",
    "    I = 0\n",
    "    for i in range (N-1):\n",
    "        x = (a + (i+(1/2))*h)\n",
    "        I += f((-(x**2)))*h\n",
    "    return I\n",
    "    \n",
    "\n",
    "def SimpErf(f, a, b, N):\n",
    "    c = 2/(np.sqrt(np.pi))\n",
    "    trap = traprule(f, a, b, N)\n",
    "    mid = midpoint(f, a, b, N)\n",
    "    I = c * ((trap/3) + 2*(mid/3))\n",
    "\n",
    "    return I\n",
    "\n",
    "SimpErf(np.exp, 0, 3, 22000)\n",
    "\n"
   ]
  },
  {
   "cell_type": "markdown",
   "metadata": {
    "id": "dU_UcptYyD0K"
   },
   "source": [
    "### b) Make a labelled plot of ${\\rm erf}(x)$ versus $x$ for $0 \\le x \\le 3$."
   ]
  },
  {
   "cell_type": "code",
   "execution_count": 102,
   "metadata": {},
   "outputs": [
    {
     "data": {
      "image/png": "[encoded data removed]",
      "text/plain": [
       "<Figure size 640x480 with 1 Axes>"
      ]
     },
     "metadata": {},
     "output_type": "display_data"
    }
   ],
   "source": [
    "import scipy as sc\n",
    "import matplotlib.pyplot as plt\n",
    "\n",
    "x = np.linspace(0, 3)\n",
    "plt.plot(x, sc.special.erf(x))\n",
    "plt.xlabel('x')\n",
    "plt.ylabel('erf(x)')\n",
    "plt.show()"
   ]
  },
  {
   "cell_type": "markdown",
   "metadata": {
    "id": "JNj4ujhhyD0L"
   },
   "source": [
    "### c) Using `scipy.integrate`\n",
    "\n",
    "Fortunately, people have been working on numerical integration for a long time and have several more advanced methods.  Often, it's not worth reinventing the wheel, and it's better to simply call an already written _library_ function.  In scipy, we can use the `quad` function for this -- it's found in the `scipy.integrate` module.\n",
    "\n",
    "- https://docs.scipy.org/doc/scipy/reference/integrate.html\n",
    "- https://docs.scipy.org/doc/scipy/reference/generated/scipy.integrate.quad.html#scipy.integrate.quad\n",
    "\n",
    "In the simplest form, it takes a function and the limits as arguments:\n",
    "\n",
    "    from scipy.integrate import quad\n",
    "\n",
    "    answer = quad(f, a, b)\n",
    "    \n",
    "`a` and `b` are numbers, and `f` is a function (either one that you define, or one that is already defined. It returns the answer, and an estimate of what the error in the answer is.\n",
    "\n",
    "Define two functions: function `Sq` that returns the square of input $x$ and function `SqInt` that computes the integral of $x^2$ from $a$ to $b$ using the `Sq` and the `quad` function. This problem will be autograded by nbgrader.\n",
    "\n",
    "**Bonus Challenge:** can you make it so that each function has only a `def` line and a `return` line?"
   ]
  },
  {
   "cell_type": "code",
   "execution_count": 104,
   "metadata": {},
   "outputs": [
    {
     "data": {
      "text/plain": [
       "(2.6666666666666665, 2.9605947323337504e-14)"
      ]
     },
     "execution_count": 104,
     "metadata": {},
     "output_type": "execute_result"
    }
   ],
   "source": [
    "from scipy.integrate import quad\n",
    "\n",
    "def Sq(x):\n",
    "    return (x**2)\n",
    "\n",
    "def SqInt(f, a, b):\n",
    "    return(quad(f, a, b))\n",
    "\n",
    "SqInt(Sq, 0, 2)"
   ]
  },
  {
   "cell_type": "code",
   "execution_count": null,
   "metadata": {},
   "outputs": [],
   "source": []
  }
 ],
 "metadata": {
  "colab": {
   "provenance": []
  },
  "kernelspec": {
   "display_name": "Python [conda env:base] *",
   "language": "python",
   "name": "conda-base-py"
  },
  "language_info": {
   "codemirror_mode": {
    "name": "ipython",
    "version": 3
   },
   "file_extension": ".py",
   "mimetype": "text/x-python",
   "name": "python",
   "nbconvert_exporter": "python",
   "pygments_lexer": "ipython3",
   "version": "3.12.7"
  }
 },
 "nbformat": 4,
 "nbformat_minor": 4
}
