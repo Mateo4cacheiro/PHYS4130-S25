{
 "cells": [
  {
   "cell_type": "markdown",
   "metadata": {
    "id": "WcARsSOXyD0C"
   },
   "source": [
    "# Module 2 Numerical Integration (2 of n)\n",
    "\n",
    "\n",
    "## Learning objectives\n",
    "\n",
    "- improve the efficiency of our integration algorithms by using the trapezoid and Simpson's method\n",
    "- utilize a published library to compute integrals"
   ]
  },
  {
   "cell_type": "markdown",
   "metadata": {
    "id": "qALvpm_cyD0G"
   },
   "source": [
    "# Pre-class\n",
    "\n",
    "* be ready to share your work on M2 ~~with your group~~, and discuss\n",
    "* watch [Video 3.2](https://youtu.be/TzXShbDDE_o) (on log plots and exponents, will help with HW)\n",
    "* read the text of this module, and be ready to ask questions and discuss the mathematics\n"
   ]
  },
  {
   "cell_type": "markdown",
   "metadata": {
    "id": "hviwIbOlyD0G"
   },
   "source": [
    "## Group discussion: Numerical errors in integration methods \n",
    "\n",
    "Examine your work on previous HW problems: you should be able to observe that the errors in the left and right endpoint rules for numerical integration are proportional to $1/N$, where $N$ is the \n",
    "number of subintervals. The width of each subinterval is $h = (b-a)/N$, so we say the error in these methods \"scales like\" (is proportional to) $h$.\n",
    "\n",
    "*If you don't observe this in your log-log plots .... ask an instructor ...*\n",
    "\n",
    "Thus, if you want to reduce the error in a calculation by a factor of $10^6$, you must increase the number of subintervals \n",
    "by a factor of $10^6$. This requires $10^6$ times as many evaluations of the integrand $f(x)$. This might be fine for simple problems, \n",
    "with simple integrands. \n",
    "But for complicated integrands that require a lot of computer time to evaluate, this can be a problem. In those cases \n",
    "we need a more efficient integration scheme. \n",
    "\n",
    "The midpoint rule is better than the left or right endpoint rules; the errors in this method are proportional to $1/N^2$, \n",
    "or $h^2$. With the midpoint rule we can reduce the error by a factor of $10^6$ by increasing the number of subintervals \n",
    "by a factor of $1000$. This requires \"only\" $1000$ times as many evaluations of $f(x)$. \n",
    "\n",
    "Today, we'll find out: *can we do even better?* and what are the pros/cons of the different methods?\n",
    "\n"
   ]
  },
  {
   "cell_type": "markdown",
   "metadata": {
    "id": "GEakLMqZyD0H"
   },
   "source": [
    "## Trapezoid rule\n",
    "\n",
    "The errors for the left endpoint rule and the right endpoint rule are similar. To be precise, \n",
    "the order $h^2$ terms are the same apart from the overall sign, and the point of evaluation of $f''(x)$. The point of evaluation should \n",
    "not make much difference, assuming $h$ is small. This suggests that the errors in the left and right endpoint rules should be\n",
    "approximately equal in magnitude but opposite in sign.  You might have noticed this from working with the \n",
    "left and right endpoint rules in the previous lesson. \n",
    "\n",
    "This observation leads us to the trapezoid rule for numerical integration. The trapezoid rule is obtained by \n",
    "taking the _average_ of the left and right endpoint rules. That is, we approximate the integral \n",
    "\n",
    "$$\n",
    "\tI = \\int_a^b f(x)\\,dx\n",
    "$$\n",
    "\n",
    "by \n",
    "\n",
    "$$\n",
    "\tI_T = \\frac{1}{2} \\left( I_L + I_R\\right) = \\sum_{i=0}^{N-1} \\frac{1}{2} \\left[ f(a + ih) + f(a + ih + h) \\right] h\n",
    "$$\n",
    "\n",
    "![Integration trapezoids](https://upload.wikimedia.org/wikipedia/commons/a/a8/Calkowanie_numeryczne-metoda_trapezow.png)\n",
    "\n",
    "Geometrically, the area for each subinterval is approximated as the area of a trapezoid that touches the curve $f(x)$ at both \n",
    "endpoints. Note that the trapezoid rule can be rearranged in this way:\n",
    "\n",
    "$$\n",
    "\tI_T = \\frac{h}{2}\\left[ f(a) + f(b)\\right] + \\sum_{i=1}^{N-1} f(a+ih) h\n",
    "$$\n",
    "\n",
    "This result is important because it shows that the trapezoid rule requires only $N+1$ evaluations of the function $f(x)$. This is essentially the same as the number of evaluations required for the left endpoint, right endpoint, and midpoint rules, \n",
    "namely $N$. \n",
    "\n",
    "**Note:** In the second version, can you see how the $i=0$ and $i=N-1$ contributions to the sum are moved out of the sum? \n",
    "\n",
    "\n"
   ]
  },
  {
   "cell_type": "markdown",
   "metadata": {
    "id": "IPVrnCyDyD0I"
   },
   "source": [
    "## Homework 3.3 ($\\LaTeX{}$)\n",
    "\n",
    "Consider the integral\n",
    "\n",
    "$$\n",
    "\tI = \\int_{-1}^1 \\cos(x^2 - x) \\, dx\n",
    "$$\n",
    "\n",
    "For the left endpoint rule, midpoint rule, and trapezoid rule, find (approximately) the number \n",
    "of subintervals required to achieve an error of about $\\pm 10^{-4}$. In each case, how many function evaluations \n",
    "are required? "
   ]
  },
  {
   "cell_type": "code",
   "execution_count": 9,
   "metadata": {
    "id": "kXy66wJUyD0I"
   },
   "outputs": [
    {
     "name": "stdout",
     "output_type": "stream",
     "text": [
      "         N  Leftpoint Riemann\n",
      "0      1.0          -0.832294\n",
      "1      2.0           0.583853\n",
      "2      3.0           1.641409\n",
      "3      4.0           1.142227\n",
      "4      5.0           1.234911\n",
      "..     ...                ...\n",
      "595  596.0           1.553092\n",
      "596  597.0           1.556446\n",
      "597  598.0           1.556444\n",
      "598  599.0           1.556442\n",
      "599  600.0           1.556441\n",
      "\n",
      "[600 rows x 2 columns]\n",
      "         N  Leftpoint Riemann\n",
      "582  583.0           1.556469\n",
      "584  585.0           1.556466\n",
      "589  590.0           1.556457\n",
      "593  594.0           1.556451\n",
      "594  595.0           1.556449\n",
      "596  597.0           1.556446\n",
      "597  598.0           1.556444\n",
      "598  599.0           1.556442\n",
      "599  600.0           1.556441\n"
     ]
    },
    {
     "data": {
      "image/png": "[encoded data removed]",
      "text/plain": [
       "<Figure size 640x480 with 1 Axes>"
      ]
     },
     "metadata": {},
     "output_type": "display_data"
    },
    {
     "name": "stdout",
     "output_type": "stream",
     "text": [
      "       N  Midpoint Riemann\n",
      "0    1.0          2.000000\n",
      "1    2.0          1.700601\n",
      "2    3.0          1.612717\n",
      "3    4.0          1.585974\n",
      "4    5.0          1.574498\n",
      "5    6.0          1.568501\n",
      "6    7.0          1.564964\n",
      "7    8.0          1.562700\n",
      "8    9.0          1.561161\n",
      "9   10.0          1.560068\n",
      "10  11.0          1.559262\n",
      "11  12.0          1.558652\n",
      "12  13.0          1.558178\n",
      "13  14.0          1.557803\n",
      "14  15.0          1.557501\n",
      "15  16.0          1.557254\n",
      "16  17.0          1.557049\n",
      "17  18.0          1.556878\n",
      "18  19.0          1.556733\n",
      "19  20.0          1.556610\n",
      "20  21.0          1.556504\n",
      "21  22.0          1.556412\n",
      "22  23.0          1.556331\n",
      "23  24.0          1.556261\n",
      "24  25.0          1.556199\n",
      "25  26.0          1.556144\n",
      "26  27.0          1.556095\n",
      "27  28.0          1.556051\n",
      "28  29.0          1.556011\n",
      "29  30.0          1.555976\n",
      "30  31.0          1.555944\n",
      "31  32.0          1.555915\n",
      "32  33.0          1.555888\n",
      "33  34.0          1.555864\n",
      "34  35.0          1.555842\n",
      "35  36.0          1.555821\n",
      "36  37.0          1.555803\n",
      "37  38.0          1.555785\n",
      "38  39.0          1.555769\n",
      "39  40.0          1.555755\n",
      "40  41.0          1.555741\n",
      "41  42.0          1.555728\n",
      "42  43.0          1.555716\n",
      "43  44.0          1.555705\n",
      "44  45.0          1.555695\n",
      "45  46.0          1.555685\n",
      "46  47.0          1.555676\n",
      "47  48.0          1.555668\n",
      "48  49.0          1.555660\n",
      "49  50.0          1.555652\n",
      "       N  Midpoint Riemann\n",
      "21  22.0          1.556412\n",
      "22  23.0          1.556331\n",
      "23  24.0          1.556261\n",
      "24  25.0          1.556199\n",
      "25  26.0          1.556144\n",
      "26  27.0          1.556095\n",
      "27  28.0          1.556051\n",
      "28  29.0          1.556011\n",
      "29  30.0          1.555976\n",
      "30  31.0          1.555944\n",
      "31  32.0          1.555915\n",
      "32  33.0          1.555888\n",
      "33  34.0          1.555864\n",
      "34  35.0          1.555842\n",
      "35  36.0          1.555821\n",
      "36  37.0          1.555803\n",
      "37  38.0          1.555785\n",
      "38  39.0          1.555769\n",
      "39  40.0          1.555755\n",
      "40  41.0          1.555741\n",
      "41  42.0          1.555728\n",
      "42  43.0          1.555716\n",
      "43  44.0          1.555705\n",
      "44  45.0          1.555695\n",
      "45  46.0          1.555685\n",
      "46  47.0          1.555676\n",
      "47  48.0          1.555668\n",
      "48  49.0          1.555660\n",
      "49  50.0          1.555652\n"
     ]
    },
    {
     "data": {
      "image/png": "[encoded data removed]",
      "text/plain": [
       "<Figure size 640x480 with 1 Axes>"
      ]
     },
     "metadata": {},
     "output_type": "display_data"
    },
    {
     "name": "stdout",
     "output_type": "stream",
     "text": [
      "       N  Trapezoid Riemann\n",
      "0    1.0           0.583853\n",
      "1    2.0           1.291927\n",
      "2    3.0           1.446791\n",
      "3    4.0           1.496264\n",
      "4    5.0           1.518140\n",
      "5    6.0           1.529754\n",
      "6    7.0           1.536668\n",
      "7    8.0           1.541119\n",
      "8    9.0           1.544155\n",
      "9   10.0           1.546319\n",
      "10  11.0           1.547915\n",
      "11  12.0           1.549128\n",
      "12  13.0           1.550069\n",
      "13  14.0           1.550816\n",
      "14  15.0           1.551417\n",
      "15  16.0           1.551909\n",
      "16  17.0           1.552317\n",
      "17  18.0           1.552658\n",
      "18  19.0           1.552947\n",
      "19  20.0           1.553193\n",
      "20  21.0           1.553405\n",
      "21  22.0           1.553589\n",
      "22  23.0           1.553749\n",
      "23  24.0           1.553890\n",
      "24  25.0           1.554014\n",
      "25  26.0           1.554124\n",
      "26  27.0           1.554222\n",
      "27  28.0           1.554309\n",
      "28  29.0           1.554388\n",
      "29  30.0           1.554459\n",
      "30  31.0           1.554523\n",
      "31  32.0           1.554582\n",
      "32  33.0           1.554635\n",
      "33  34.0           1.554683\n",
      "34  35.0           1.554727\n",
      "35  36.0           1.554768\n",
      "36  37.0           1.554806\n",
      "37  38.0           1.554840\n",
      "38  39.0           1.554872\n",
      "39  40.0           1.554902\n",
      "40  41.0           1.554929\n",
      "41  42.0           1.554955\n",
      "42  43.0           1.554978\n",
      "43  44.0           1.555000\n",
      "44  45.0           1.555021\n",
      "45  46.0           1.555040\n",
      "46  47.0           1.555058\n",
      "47  48.0           1.555075\n",
      "48  49.0           1.555091\n",
      "49  50.0           1.555106\n",
      "       N  Trapezoid Riemann\n",
      "30  31.0           1.554523\n",
      "31  32.0           1.554582\n",
      "32  33.0           1.554635\n",
      "33  34.0           1.554683\n",
      "34  35.0           1.554727\n",
      "35  36.0           1.554768\n",
      "36  37.0           1.554806\n",
      "37  38.0           1.554840\n",
      "38  39.0           1.554872\n",
      "39  40.0           1.554902\n",
      "40  41.0           1.554929\n",
      "41  42.0           1.554955\n",
      "42  43.0           1.554978\n",
      "43  44.0           1.555000\n",
      "44  45.0           1.555021\n",
      "45  46.0           1.555040\n",
      "46  47.0           1.555058\n",
      "47  48.0           1.555075\n",
      "48  49.0           1.555091\n",
      "49  50.0           1.555106\n"
     ]
    },
    {
     "data": {
      "image/png": "[encoded data removed]",
      "text/plain": [
       "<Figure size 640x480 with 1 Axes>"
      ]
     },
     "metadata": {},
     "output_type": "display_data"
    }
   ],
   "source": [
    "correct_value=1.555470165097609\n",
    "import numpy as np\n",
    "import pandas as pd\n",
    "import matplotlib.pyplot as plt\n",
    "import pylab as py\n",
    "\n",
    "\n",
    "def leftpoint(f,a,b,N):\n",
    "    h = (b-a)/N #calculate width of box\n",
    "    x = a #set starting left point as 0\n",
    "    Sum = 0 #start sum as 0\n",
    "    while x < b:\n",
    "        Sum += f(x)*h #add area\n",
    "        x += h #move left point\n",
    "\n",
    "    return Sum   # Note that we need this to tell the code outside of the function about the result\n",
    "\n",
    "def midpoint(f,a,b,N):\n",
    "    h = (b-a)/N #calculate width of box\n",
    "    x = a+h/2 #set starting mid point as halfway through a rectangle\n",
    "    Sum = 0 #start sum as 0\n",
    "    while x < b:\n",
    "        Sum += f(x)*h #add area\n",
    "        x += h #move left point\n",
    "    return Sum\n",
    "\n",
    "def rightpoint(f,a,b,N):\n",
    "    h = (b-a)/N #calculate width of box\n",
    "    x = h #set starting right point as h\n",
    "    Sum = 0 #start sum as 0\n",
    "    while x <= b:\n",
    "        Sum+=f(x)*h #add area\n",
    "        x+=h #move right point\n",
    "\n",
    "    return Sum   # Note that we need this to tell the code outside of the function about the result\n",
    "    \n",
    "def trapezoid(f,a,b,N):\n",
    "    h = (b-a)/N\n",
    "    Sum= 0\n",
    "    Sum+=(h/2)*(f(a)+f(b))\n",
    "    i=1\n",
    "    while i <= N-1:\n",
    "        Sum+=(h*f(a+i*h))\n",
    "        i+=1\n",
    "    return Sum\n",
    "        \n",
    "def function(x):\n",
    "    #return(np.sin(x**2))\n",
    "    return(np.cos(x**2-x)) \n",
    "\n",
    "\n",
    "SigFig = 0.001\n",
    "f,a,b=function,-1,1\n",
    "\n",
    "\n",
    "NlistL = np.zeros(600)\n",
    "anslist_L = np.zeros(600)\n",
    "for i in range(600):\n",
    "    N=i+1\n",
    "    NlistL[i]=N\n",
    "    anslist_L[i] = leftpoint(f,a,b,N)\n",
    "valuesL = {'N': NlistL, 'Leftpoint Riemann': anslist_L}\n",
    "dfL = pd.DataFrame(valuesL)\n",
    "\n",
    "df2L=dfL[abs(correct_value-dfL['Leftpoint Riemann']) < SigFig]\n",
    "\n",
    "print(dfL)\n",
    "print(df2L)\n",
    "py.plot(NlistL, anslist_L)\n",
    "py.xlabel('N')\n",
    "py.ylabel('I')\n",
    "py.show()\n",
    "\n",
    "\n",
    "\n",
    "NlistM = np.zeros(50)\n",
    "anslist_M = np.zeros(50)\n",
    "for i in range(50):\n",
    "    N=i+1\n",
    "    NlistM[i]=N\n",
    "    anslist_M[i] = midpoint(f,a,b,N)\n",
    "valuesM = {'N': NlistM, 'Midpoint Riemann': anslist_M}\n",
    "dfM = pd.DataFrame(valuesM)\n",
    "\n",
    "df2M=dfM[abs(correct_value-dfM['Midpoint Riemann']) < SigFig]\n",
    "\n",
    "print(dfM)\n",
    "print(df2M)\n",
    "py.plot(NlistM, anslist_M,'-')\n",
    "py.xlabel('N')\n",
    "py.ylabel('I')\n",
    "py.show()\n",
    "\n",
    "\n",
    "NlistT = np.zeros(50)\n",
    "anslist_T = np.zeros(50)\n",
    "for i in range(50):\n",
    "    N=i+1\n",
    "    NlistT[i]=N\n",
    "    anslist_T[i] = trapezoid(f,a,b,N)\n",
    "valuesT = {'N': NlistT, 'Trapezoid Riemann': anslist_T}\n",
    "dfT = pd.DataFrame(valuesT)\n",
    "\n",
    "df2T=dfT[abs(correct_value-dfT['Trapezoid Riemann']) < SigFig]\n",
    "\n",
    "print(dfT)\n",
    "print(df2T)\n",
    "py.plot(NlistT, anslist_T,'-')\n",
    "py.xlabel('N')\n",
    "py.ylabel('I')\n",
    "py.show()"
   ]
  },
  {
   "cell_type": "markdown",
   "metadata": {},
   "source": [
    "Leftpoint N: 595\n",
    "    Calls f 595\n",
    "Midpoint N: 22\n",
    "    Calls f: 22\n",
    "Trapezoid N: 31\n",
    "    Calls f: 32"
   ]
  },
  {
   "cell_type": "markdown",
   "metadata": {
    "id": "RTGBglBtyD0J"
   },
   "source": [
    "## Simpson's Rule\n",
    "\n",
    "We have now identified two integration methods with errors (per subinterval) of order $h^3$. The midpoint rule has error \n",
    "${\\cal E}_M$ in each subinterval. The trapezoid rule has error ${\\cal E}_T$\n",
    "in each subinterval. \n",
    "Some math would show that to leading order, ${\\cal E}_T = -2{\\cal E}_M$. This suggests \n",
    "that we can define a new integration method as a weighted sum of the midpoint and trapezoid rules, designed \n",
    "to cancel the order $h^3$ terms in the error. This leads to *Simpson's rule*:\n",
    "\n",
    "$$\n",
    "\tI_S = \\frac{1}{3} I_T + \\frac{2}{3} I_M\n",
    "$$\n",
    "\n",
    "which can be written explicitly as\n",
    "\n",
    "$$\n",
    "\tI_S = \\frac{h}{6}\\left\\{ f(a) + f(b) + 2\\sum_{i=1}^{N-1} f(a + ih) + 4\\sum_{i=1}^N f(a+ih - h/2) \\right\\}\n",
    "$$\n",
    "\n",
    "Note that for implementation purposes, you could simply call the trapezoid and midpoint functions you've already written.\n",
    "\n",
    "For Simpson's rule, the errors of order $h^3$ from the midpoint and trapezoid rules cancel. A complete analysis \n",
    "shows that the order $h^4$ terms in the error actually vanish as well. The leading non--zero term in the error is proportional \n",
    "to $h^5$. That is, for Simpson's rule, the error in each \n",
    "subinterval is order $h^5$. The total error for $N\\sim 1/h$ subintervals \n",
    "is proportional to $Nh^5 \\sim h^4$. \n",
    "\n",
    "Geometrically, Simpson's rule is obtained by approximating the area in each subinterval as the area under \n",
    "a parabola that matches the function $f(x)$ at each endpoint and at the midpoint. \n",
    "Simpson's rule is more efficient than any of the other integration methods we have discussed. If we want to reduce \n",
    "the error by a factor of $10^6$, we must increase the number of subintervals by a factor of \n",
    "$10^{6/4}\\approx 32$. Note that Simpson's rule requires $2N + 1$ function evaluations. This is roughly twice as \n",
    "many evaluations as our other methods. However, the rapid reduction of error with a relatively small increase in $N$ \n",
    "will usually offset the extra function calls.  "
   ]
  },
  {
   "cell_type": "markdown",
   "metadata": {},
   "source": [
    "# Homework"
   ]
  },
  {
   "cell_type": "markdown",
   "metadata": {
    "id": "dU_UcptYyD0K"
   },
   "source": [
    "The error function is defined by \n",
    "\n",
    "$$\n",
    "\t{\\rm erf}(x) \\equiv \\frac{2}{\\sqrt{\\pi}} \\int_0^x e^{-t^2} dt\n",
    "$$\n",
    "\n",
    "### a) Write a function `SimpErf` to evaluate the error function using Simpson's rule\n",
    "\n",
    "- Input: x\n",
    "- Output: the right hand side of the equation above\n",
    "\n",
    "Hint: for each value $0 \\le x \\le 3$,  you will need to evaluate the integral over $t$."
   ]
  },
  {
   "cell_type": "code",
   "execution_count": 61,
   "metadata": {},
   "outputs": [],
   "source": [
    "def Erf(t):\n",
    "    return(2/np.sqrt(np.pi)*np.exp(-t**2))\n",
    "    \n",
    "def SimpErf(x,N):\n",
    "    f,a,b=Erf,0,x\n",
    "    I=1/3*trapezoid(f,a,b,N)+2/3*midpoint(f,a,b,N)\n",
    "    return(I)\n"
   ]
  },
  {
   "cell_type": "markdown",
   "metadata": {
    "id": "dU_UcptYyD0K"
   },
   "source": [
    "### b) Make a labelled plot of ${\\rm erf}(x)$ versus $x$ for $0 \\le x \\le 3$."
   ]
  },
  {
   "cell_type": "code",
   "execution_count": 59,
   "metadata": {},
   "outputs": [
    {
     "data": {
      "image/png": "[encoded data removed]",
      "text/plain": [
       "<Figure size 640x480 with 1 Axes>"
      ]
     },
     "metadata": {},
     "output_type": "display_data"
    },
    {
     "data": {
      "image/png": "[encoded data removed]",
      "text/plain": [
       "<Figure size 640x480 with 1 Axes>"
      ]
     },
     "metadata": {},
     "output_type": "display_data"
    }
   ],
   "source": [
    "x=np.linspace(0, 3, 100)\n",
    "y=Erf(x)\n",
    "\n",
    "plt.plot(x, y, label='Error fucntion')\n",
    "plt.xlabel('x')\n",
    "plt.ylabel('erf(x)')\n",
    "plt.title('Plot of Error Function')\n",
    "plt.legend()\n",
    "plt.show()\n",
    "\n",
    "#below section creates a plot of int(erf(x)) vs x. I did this first because I mis read the question\n",
    "Count=100\n",
    "Max = 3\n",
    "Width = Max/Count\n",
    "N=1000\n",
    "Xlist = np.zeros(Count)\n",
    "erf = np.zeros(Count)\n",
    "\n",
    "for i in range(Count):\n",
    "    Xlist[i]=Width*(i+1)\n",
    "    erf[i] = SimpErf(Xlist[i],N)\n",
    "valuesErf = {'X': Xlist, 'erf(x)': erf}\n",
    "dfS = pd.DataFrame(valuesErf)\n",
    "plt.plot(Xlist, erf, label='Integral from 0 to x')\n",
    "plt.xlabel('x')\n",
    "plt.ylabel('sum')\n",
    "plt.title('Plot of the integral of the error function as x increases')\n",
    "plt.legend()\n",
    "plt.show()\n"
   ]
  },
  {
   "cell_type": "markdown",
   "metadata": {
    "id": "JNj4ujhhyD0L"
   },
   "source": [
    "### c) Using `scipy.integrate`\n",
    "\n",
    "Fortunately, people have been working on numerical integration for a long time and have several more advanced methods.  Often, it's not worth reinventing the wheel, and it's better to simply call an already written _library_ function.  In scipy, we can use the `quad` function for this -- it's found in the `scipy.integrate` module.\n",
    "\n",
    "- https://docs.scipy.org/doc/scipy/reference/integrate.html\n",
    "- https://docs.scipy.org/doc/scipy/reference/generated/scipy.integrate.quad.html#scipy.integrate.quad\n",
    "\n",
    "In the simplest form, it takes a function and the limits as arguments:\n",
    "\n",
    "    from scipy.integrate import quad\n",
    "\n",
    "    answer = quad(f, a, b)\n",
    "    \n",
    "`a` and `b` are numbers, and `f` is a function (either one that you define, or one that is already defined. It returns the answer, and an estimate of what the error in the answer is.\n",
    "\n",
    "Define two functions: function `Sq` that returns the square of input $x$ and function `SqInt` that computes the integral of $x^2$ from $a$ to $b$ using the `Sq` and the `quad` function. This problem will be autograded by nbgrader.\n",
    "\n",
    "**Bonus Challenge:** can you make it so that each function has only a `def` line and a `return` line?"
   ]
  },
  {
   "cell_type": "code",
   "execution_count": 81,
   "metadata": {},
   "outputs": [
    {
     "name": "stdout",
     "output_type": "stream",
     "text": [
      "(0.33333333333333337, 3.700743415417189e-15)\n",
      "(0.33333333333333337, 3.700743415417189e-15)\n",
      "0.3333333333333333\n"
     ]
    }
   ],
   "source": [
    "from scipy.integrate import quad\n",
    "\n",
    "def SimpErf(f,x,N):\n",
    "    a,b=0,x\n",
    "    I=1/3*trapezoid(f,a,b,N)+2/3*midpoint(f,a,b,N)\n",
    "    return(I)\n",
    "\n",
    "def Sq(x):\n",
    "    return(x*x)\n",
    "\n",
    "def SqInt(a,b):\n",
    "    return(quad(Sq,a,b))\n",
    "    \n",
    "print(SqInt(0,1))\n",
    "print(quad(Sq,0,1))\n",
    "print(SimpErf(Sq,1,10))"
   ]
  }
 ],
 "metadata": {
  "colab": {
   "provenance": []
  },
  "kernelspec": {
   "display_name": "Python 3 (ipykernel)",
   "language": "python",
   "name": "python3"
  },
  "language_info": {
   "codemirror_mode": {
    "name": "ipython",
    "version": 3
   },
   "file_extension": ".py",
   "mimetype": "text/x-python",
   "name": "python",
   "nbconvert_exporter": "python",
   "pygments_lexer": "ipython3",
   "version": "3.12.8"
  }
 },
 "nbformat": 4,
 "nbformat_minor": 4
}
