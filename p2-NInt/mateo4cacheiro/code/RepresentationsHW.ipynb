{
 "cells": [
  {
   "cell_type": "markdown",
   "metadata": {
    "button": false,
    "new_sheet": false,
    "run_control": {
     "read_only": false
    }
   },
   "source": [
    "<!--BOOK_INFORMATION-->\n",
    "*This notebook contains an excerpt from the [Python Programming and Numerical Methods - A Guide for Engineers and Scientists](https://www.elsevier.com/books/python-programming-and-numerical-methods/kong/978-0-12-819549-9), the content is also available at [Berkeley Python Numerical Methods](https://pythonnumericalmethods.berkeley.edu/notebooks/Index.html).*\n",
    "\n",
    "*The copyright of the book belongs to Elsevier. We also have this interactive book online for a better learning experience. The code is released under the [MIT license](https://opensource.org/licenses/MIT). If you find this content useful, please consider supporting the work on [Elsevier](https://www.elsevier.com/books/python-programming-and-numerical-methods/kong/978-0-12-819549-9) or [Amazon](https://www.amazon.com/Python-Programming-Numerical-Methods-Scientists/dp/0128195495/ref=sr_1_1?dchild=1&keywords=Python+Programming+and+Numerical+Methods+-+A+Guide+for+Engineers+and+Scientists&qid=1604761352&sr=8-1)!*"
   ]
  },
  {
   "cell_type": "markdown",
   "metadata": {},
   "source": [
    "# Reading\n",
    "Python Programming and Numerical Methods, \n",
    "[Chapter 9. Representation of Numbers](https://pythonnumericalmethods.studentorg.berkeley.edu/notebooks/chapter09.00-Representation-of-Numbers.html)"
   ]
  },
  {
   "cell_type": "markdown",
   "metadata": {
    "button": false,
    "new_sheet": false,
    "run_control": {
     "read_only": false
    }
   },
   "source": [
    "# Problems\n",
    "\n",
    "## 1. Write a function *my_bin_2_dec(b)*\n",
    "where *b* is binary number represented by a list of ones and zeros. The last element of *b* represents the coefficient of $2^0$, the second-to-last element of b represents the coefficient of $2^1$, and so on. The output variable, *d*, should be the decimal representation of b. The test cases are provided below. "
   ]
  },
  {
   "cell_type": "code",
   "execution_count": 1,
   "metadata": {},
   "outputs": [],
   "source": [
    "def my_bin_2_dec(b):\n",
    "    Max = len(b)\n",
    "    d=0\n",
    "    i = Max-1\n",
    "    while i >= 0:\n",
    "        d+=b[i]*2**(Max-1-i)\n",
    "        i-=1 \n",
    "    d = int(d)\n",
    "    return d"
   ]
  },
  {
   "cell_type": "code",
   "execution_count": 2,
   "metadata": {},
   "outputs": [
    {
     "data": {
      "text/plain": [
       "7"
      ]
     },
     "execution_count": 2,
     "metadata": {},
     "output_type": "execute_result"
    }
   ],
   "source": [
    "# Output: 7\n",
    "my_bin_2_dec([1,1,1])"
   ]
  },
  {
   "cell_type": "code",
   "execution_count": 3,
   "metadata": {},
   "outputs": [
    {
     "data": {
      "text/plain": [
       "85"
      ]
     },
     "execution_count": 3,
     "metadata": {},
     "output_type": "execute_result"
    }
   ],
   "source": [
    "# Output: 85\n",
    "my_bin_2_dec([1, 0, 1, 0, 1, 0, 1])"
   ]
  },
  {
   "cell_type": "code",
   "execution_count": 4,
   "metadata": {},
   "outputs": [
    {
     "data": {
      "text/plain": [
       "33554431"
      ]
     },
     "execution_count": 4,
     "metadata": {},
     "output_type": "execute_result"
    }
   ],
   "source": [
    "# Output: 33554431\n",
    "my_bin_2_dec([1]*25)"
   ]
  },
  {
   "cell_type": "markdown",
   "metadata": {},
   "source": [
    "## 2. Write a function *my_dec_2_bin(d)*\n",
    "where *d* is a positive integer in decimal, and *b* is the binary representation of *d*. The output *b* must be a list of ones and zeros, and the leading term must be a 1 unless the decimal input value is 0. The test cases are provided below. "
   ]
  },
  {
   "cell_type": "code",
   "execution_count": 5,
   "metadata": {},
   "outputs": [],
   "source": [
    "import numpy as np\n",
    "def my_dec_2_bin(d):\n",
    "    test=d\n",
    "    if test == 0:\n",
    "        i=1    \n",
    "    else: \n",
    "        i=0\n",
    "    while test > 0:\n",
    "        test=np.floor(test/2)\n",
    "        i+=1\n",
    "    b=np.zeros(i)\n",
    "    while i > 0:\n",
    "        b[i-1]=(d%2)\n",
    "        d=int(d/2)\n",
    "        i-=1\n",
    "    return b"
   ]
  },
  {
   "cell_type": "code",
   "execution_count": 28,
   "metadata": {},
   "outputs": [
    {
     "name": "stdout",
     "output_type": "stream",
     "text": [
      "[0.]\n"
     ]
    }
   ],
   "source": [
    "# Output: [0]\n",
    "print(my_dec_2_bin(0))"
   ]
  },
  {
   "cell_type": "code",
   "execution_count": 7,
   "metadata": {},
   "outputs": [
    {
     "name": "stdout",
     "output_type": "stream",
     "text": [
      "[1. 0. 1. 1. 1.]\n"
     ]
    }
   ],
   "source": [
    "# Output: [1, 0, 1, 1, 1]\n",
    "print(my_dec_2_bin(23))"
   ]
  },
  {
   "cell_type": "code",
   "execution_count": 8,
   "metadata": {},
   "outputs": [
    {
     "name": "stdout",
     "output_type": "stream",
     "text": [
      "[1. 0. 0. 0. 0. 0. 1. 1. 0. 0. 0. 1.]\n"
     ]
    }
   ],
   "source": [
    "# Output: [1, 0, 0, 0, 0, 0, 1, 1, 0, 0, 0, 1]\n",
    "print(my_dec_2_bin(2097))"
   ]
  },
  {
   "cell_type": "markdown",
   "metadata": {},
   "source": [
    "## 3. Compute *d = my_bin_2_dec(my_dec_2_bin(12654))*\n",
    "Use the two functions you wrote in problems 1 and 2. Do you get the same number?"
   ]
  },
  {
   "cell_type": "code",
   "execution_count": 9,
   "metadata": {},
   "outputs": [
    {
     "name": "stdout",
     "output_type": "stream",
     "text": [
      "12654\n"
     ]
    }
   ],
   "source": [
    "d = my_bin_2_dec(my_dec_2_bin(12654))\n",
    "print(d)"
   ]
  },
  {
   "cell_type": "markdown",
   "metadata": {},
   "source": [
    "## 4. Write a function *my_bin_adder(b1,b2)*\n",
    "where *b1*, *b2* and the output variable *b* are binary numbers represented as in problem 1. The output variable should be computed as *b = b1 + b2*. Do not use your functions from problems 1 and 2 to write this function (i.e., do not convert *b1* and *b2* to decimal; add them, and then convert the result back to binary). This function should be able to accept inputs *b1* and *b2* of any length (i.e., very long binary numbers), and *b1* and *b2* may not necessarily be the same length."
   ]
  },
  {
   "cell_type": "code",
   "execution_count": 10,
   "metadata": {},
   "outputs": [],
   "source": [
    "def my_bin_adder(b1, b2):\n",
    "    w1=len(b1)\n",
    "    w2=len(b2)\n",
    "    if w1!=w2:\n",
    "        if w1>=w2:\n",
    "            w=w1\n",
    "            main=b1\n",
    "        else:\n",
    "            w=w2\n",
    "            main=b2\n",
    "        B=np.zeros(w)\n",
    "        if w1>=w2:\n",
    "            for i in range(w2):\n",
    "                B[i]=b2[i]\n",
    "        else:\n",
    "            for i in range(w1):\n",
    "                B[i]=b1[i]\n",
    "        B=B[::-1]\n",
    "        print(B)\n",
    "        print(main)\n",
    "    else: \n",
    "        main=b1\n",
    "        w=w1\n",
    "        B=b2\n",
    "    Sum=np.zeros(w+1)\n",
    "    extra = 0\n",
    "    for i in range(w):\n",
    "        opt=B[w-i-1] + main[w-1-i] + extra\n",
    "        if opt == 0:\n",
    "            Sum[w-i]=0\n",
    "            extra = 0\n",
    "        if opt == 1:\n",
    "            Sum[w-i]=1\n",
    "            extra = 0\n",
    "        if opt == 2:\n",
    "            Sum[w-i]=0\n",
    "            extra = 1\n",
    "        if opt == 3:\n",
    "            Sum[w-i]=1\n",
    "            extra =1\n",
    "    if opt == 2 or opt == 3:\n",
    "        Sum[0]=1\n",
    "    b=Sum\n",
    "    return b"
   ]
  },
  {
   "cell_type": "code",
   "execution_count": 11,
   "metadata": {},
   "outputs": [
    {
     "name": "stdout",
     "output_type": "stream",
     "text": [
      "[0. 0. 0. 0. 1.]\n",
      "[1, 1, 1, 1, 1]\n"
     ]
    },
    {
     "data": {
      "text/plain": [
       "array([1., 0., 0., 0., 0., 0.])"
      ]
     },
     "execution_count": 11,
     "metadata": {},
     "output_type": "execute_result"
    }
   ],
   "source": [
    "# Output: [1, 0, 0, 0, 0, 0]\n",
    "my_bin_adder([1, 1, 1, 1, 1], [1])"
   ]
  },
  {
   "cell_type": "code",
   "execution_count": 12,
   "metadata": {},
   "outputs": [
    {
     "name": "stdout",
     "output_type": "stream",
     "text": [
      "[0. 0. 1. 1. 1. 1. 1.]\n",
      "[1, 0, 1, 0, 1, 0, 0]\n"
     ]
    },
    {
     "data": {
      "text/plain": [
       "array([0., 1., 1., 1., 0., 0., 1., 1.])"
      ]
     },
     "execution_count": 12,
     "metadata": {},
     "output_type": "execute_result"
    }
   ],
   "source": [
    "# Output: [1, 1, 1, 0, 0, 1, 1]\n",
    "my_bin_adder([1, 1, 1, 1, 1], [1, 0, 1, 0, 1, 0, 0])"
   ]
  },
  {
   "cell_type": "code",
   "execution_count": 13,
   "metadata": {},
   "outputs": [
    {
     "data": {
      "text/plain": [
       "array([1., 0., 1., 1.])"
      ]
     },
     "execution_count": 13,
     "metadata": {},
     "output_type": "execute_result"
    }
   ],
   "source": [
    "# Output: [1, 0, 1, 1]\n",
    "my_bin_adder([1, 1, 0], [1, 0, 1])"
   ]
  },
  {
   "cell_type": "markdown",
   "metadata": {},
   "source": [
    "## 5. What is the effect of allocating more bits to the fraction versus the characteristic and vice versa? What is the effect of allocating more bits to the sign?"
   ]
  },
  {
   "cell_type": "markdown",
   "metadata": {},
   "source": [
    "Adding more bits to the fraction will allow for more precise determination of a number. (the value of f+1 can access more values between 1 and 2).\n",
    "\n",
    "Adding more bits to the characteristic will allow the total range of the number to increase. \n",
    "\n",
    "Adding more bits to the sign will do nothing. (at least nothing helpful)"
   ]
  },
  {
   "cell_type": "markdown",
   "metadata": {},
   "source": [
    "## 6. Write a function *my_ieee_2_dec(ieee)*\n",
    "where *ieee* is a string contains 64 characters of ones and zeros representing a 64-bit IEEE754 number. The output should be *d*, the equivalent decimal representation of *ieee*. The input variable *ieee* will always be a 64-element string of ones and zeros defining a 64-bit float. "
   ]
  },
  {
   "cell_type": "code",
   "execution_count": 14,
   "metadata": {},
   "outputs": [],
   "source": [
    "import decimal\n",
    "decimal.getcontext().prec=40\n",
    "def Frac(b):\n",
    "    Max = len(b)\n",
    "    d=0\n",
    "    i = 0\n",
    "    while i < Max:\n",
    "        d+=decimal.Decimal(b[i]*2**-(i+1))\n",
    "        i+=1\n",
    "    return d\n",
    "    \n",
    "def my_ieee_2_dec(ieee):\n",
    "    ieee=list(ieee)\n",
    "    Num=0\n",
    "    e=np.zeros(11)\n",
    "    f=np.zeros(52)\n",
    "    if ieee[0]=='1':\n",
    "        Neg=True\n",
    "    else:\n",
    "        Neg=False\n",
    "    for i in range(11):\n",
    "        e[i]=ieee[i+1]\n",
    "\n",
    "    for i in range(52):\n",
    "        f[i]=ieee[12+i]\n",
    "    e=my_bin_2_dec(e)\n",
    "    f=Frac(f)\n",
    "    d=(2**(e-1023))*(1+f)\n",
    "    if Neg==True:\n",
    "        d=-d  \n",
    "    return d"
   ]
  },
  {
   "cell_type": "code",
   "execution_count": 15,
   "metadata": {},
   "outputs": [
    {
     "data": {
      "text/plain": [
       "Decimal('-48.0')"
      ]
     },
     "execution_count": 15,
     "metadata": {},
     "output_type": "execute_result"
    }
   ],
   "source": [
    "# Output: -48\n",
    "ieee = '1100000001001000000000000000000000000000000000000000000000000000'\n",
    "my_ieee_2_dec(ieee)"
   ]
  },
  {
   "cell_type": "code",
   "execution_count": 16,
   "metadata": {},
   "outputs": [
    {
     "data": {
      "text/plain": [
       "Decimal('3.399999999999999911182158029987476766110')"
      ]
     },
     "execution_count": 16,
     "metadata": {},
     "output_type": "execute_result"
    }
   ],
   "source": [
    "# Output: 3.39999999999999991118215802999\n",
    "ieee = '0100000000001011001100110011001100110011001100110011001100110011'\n",
    "my_ieee_2_dec(ieee)"
   ]
  },
  {
   "cell_type": "markdown",
   "metadata": {},
   "source": [
    "## 7. Write a function *my_dec_2_ieee(d)*\n",
    "where *d* is a number in decimal and output variable *ieee* is a string with 64 characters of ones and zeros representing the 64-bit IEEE754 closest to *d*. You can assume that *d* will not cause an overflow for 64-bit *ieee* numbers."
   ]
  },
  {
   "cell_type": "code",
   "execution_count": 17,
   "metadata": {},
   "outputs": [
    {
     "data": {
      "text/plain": [
       "array([0., 0., 1., 1., 1., 1., 1., 1., 1., 1., 1., 1., 1., 0., 0., 0., 0.,\n",
       "       0., 0., 0., 0., 0., 0., 0., 0., 0., 0., 0., 0., 0., 0., 0., 0., 0.,\n",
       "       0., 0., 0., 0., 0., 0., 0., 0., 0., 0., 0., 0., 0., 0., 0., 0., 0.,\n",
       "       0., 0., 0., 0., 0., 0., 0., 0., 0., 0., 0., 0., 0.])"
      ]
     },
     "execution_count": 17,
     "metadata": {},
     "output_type": "execute_result"
    }
   ],
   "source": [
    "def my_dec_2_neg(d):\n",
    "    val=0\n",
    "    if d == 0:\n",
    "        return(np.zeros(52))    \n",
    "    b=np.zeros(52)\n",
    "    for i in range(52):\n",
    "        val += 1/(2**(1+i))\n",
    "        if val <= d:\n",
    "            b[i]=1\n",
    "        else:\n",
    "            val-=1/(2**(1+i))\n",
    "            b[i]=0\n",
    "\n",
    "    return b\n",
    "\n",
    "\n",
    "def my_dec_2_ieee(d):\n",
    "    ieee=np.zeros(64)\n",
    "    if d<0:\n",
    "        ieee[0] = 1\n",
    "    power=0\n",
    "    cont=True\n",
    "    while cont:\n",
    "        if 2**(power+1)<=abs(d):\n",
    "            power+=1\n",
    "        else:\n",
    "            cont=False\n",
    "    c=power+1023\n",
    "    c=my_dec_2_bin(c)\n",
    "    w=len(c)\n",
    "    if w!= 11:\n",
    "        W=11-w\n",
    "        extra=np.zeros(11)      \n",
    "        for i in range(w):\n",
    "            extra[W+i]=c[i]\n",
    "        c=extra\n",
    "        \n",
    "    for i in range(11):\n",
    "        ieee[i+1]=c[i]\n",
    "\n",
    "    f=abs(d)/(2**power)-1\n",
    "    f=my_dec_2_neg(f)\n",
    "\n",
    "    for i in range(52):\n",
    "        ieee[12+i]=f[i]\n",
    "    \n",
    "    return ieee\n",
    "\n",
    "my_dec_2_ieee(1.5)"
   ]
  },
  {
   "cell_type": "code",
   "execution_count": 18,
   "metadata": {},
   "outputs": [
    {
     "data": {
      "text/plain": [
       "Decimal('1.518484199625000030664523364976048469544')"
      ]
     },
     "execution_count": 18,
     "metadata": {},
     "output_type": "execute_result"
    }
   ],
   "source": [
    "# Output: '0100000000101110010111101010001110011100001100011010010001101000'\n",
    "#I am convinced the suggested solution is wrong\n",
    "d = 1.518484199625\n",
    "my_dec_2_ieee(d)\n",
    "my_ieee_2_dec(my_dec_2_ieee(d))"
   ]
  },
  {
   "cell_type": "code",
   "execution_count": 19,
   "metadata": {},
   "outputs": [
    {
     "data": {
      "text/plain": [
       "array([1., 1., 0., 0., 0., 0., 0., 0., 0., 1., 1., 1., 0., 0., 1., 1., 0.,\n",
       "       1., 0., 1., 0., 0., 1., 0., 0., 1., 0., 0., 0., 1., 0., 0., 1., 0.,\n",
       "       0., 1., 0., 0., 0., 1., 0., 0., 1., 0., 1., 0., 0., 1., 1., 0., 0.,\n",
       "       0., 1., 0., 0., 0., 1., 0., 0., 1., 0., 0., 0., 0.])"
      ]
     },
     "execution_count": 19,
     "metadata": {},
     "output_type": "execute_result"
    }
   ],
   "source": [
    "# Output: '1100000001110011010100100100010010010001001010011000100010010000'\n",
    "\n",
    "d = -309.141740\n",
    "my_dec_2_ieee(d)"
   ]
  },
  {
   "cell_type": "code",
   "execution_count": 20,
   "metadata": {},
   "outputs": [
    {
     "data": {
      "text/plain": [
       "array([1., 1., 0., 0., 0., 0., 0., 0., 1., 1., 0., 1., 1., 0., 0., 0., 1.,\n",
       "       0., 1., 0., 1., 0., 0., 1., 0., 0., 0., 0., 0., 0., 0., 0., 0., 0.,\n",
       "       0., 0., 0., 0., 0., 0., 0., 0., 0., 0., 0., 0., 0., 0., 0., 0., 0.,\n",
       "       0., 0., 0., 0., 0., 0., 0., 0., 0., 0., 0., 0., 0.])"
      ]
     },
     "execution_count": 20,
     "metadata": {},
     "output_type": "execute_result"
    }
   ],
   "source": [
    "# Output: '1100000011011000101010010000000000000000000000000000000000000000'\n",
    "\n",
    "d = -25252\n",
    "my_dec_2_ieee(d)"
   ]
  },
  {
   "cell_type": "markdown",
   "metadata": {},
   "source": [
    "## 8. Define *ieee_baby*\n",
    "to be a representation of numbers using 6 bits where the first bit is the sign bit, the second and third bits are allocated to the characteristic, and the fourth, fifth, and sixth bits are allocated to the fraction. The normalization for the characteristic is 1.\n",
    "\n",
    " - Write all the decimal numbers that can be represented by *ieee_baby*. \n",
    " - What is the largest/smallest gap in *ieee_baby*?"
   ]
  },
  {
   "cell_type": "markdown",
   "metadata": {},
   "source": [
    "Using two bits 4 values can be set as the characteristic value (0,1,2,3).\n",
    "\n",
    "Using 3 bits the fractions can be 8 values (0,1,2,3,4,5,6,7).\n",
    "\n",
    "The sign bit works the same as before\n",
    "\n",
    "$$n=(-1)^s*2^{e-2}(1-f)$$"
   ]
  },
  {
   "cell_type": "code",
   "execution_count": 21,
   "metadata": {},
   "outputs": [
    {
     "name": "stdout",
     "output_type": "stream",
     "text": [
      "the baby ieee can make  64  numbers\n",
      "0.03125\n",
      "0.03125\n",
      "0.03125\n",
      "0.03125\n",
      "0.03125\n",
      "0.03125\n",
      "0.03125\n",
      "0.03125\n",
      "0.0625\n",
      "0.0625\n",
      "0.0625\n",
      "0.0625\n",
      "0.0625\n",
      "0.0625\n",
      "0.0625\n",
      "0.0625\n",
      "0.125\n",
      "0.125\n",
      "0.125\n",
      "0.125\n",
      "0.125\n",
      "0.125\n",
      "0.125\n",
      "0.125\n",
      "0.25\n",
      "0.25\n",
      "0.25\n",
      "0.25\n",
      "0.25\n",
      "0.25\n",
      "0.25\n",
      "4.0\n",
      "0.03125\n",
      "0.03125\n",
      "0.03125\n",
      "0.03125\n",
      "0.03125\n",
      "0.03125\n",
      "0.03125\n",
      "0.03125\n",
      "0.0625\n",
      "0.0625\n",
      "0.0625\n",
      "0.0625\n",
      "0.0625\n",
      "0.0625\n",
      "0.0625\n",
      "0.0625\n",
      "0.125\n",
      "0.125\n",
      "0.125\n",
      "0.125\n",
      "0.125\n",
      "0.125\n",
      "0.125\n",
      "0.125\n",
      "0.25\n",
      "0.25\n",
      "0.25\n",
      "0.25\n",
      "0.25\n",
      "0.25\n",
      "0.25\n",
      "     number\n",
      "0   0.25000\n",
      "1   0.28125\n",
      "2   0.31250\n",
      "3   0.34375\n",
      "4   0.37500\n",
      "5   0.40625\n",
      "6   0.43750\n",
      "7   0.46875\n",
      "8   0.50000\n",
      "9   0.56250\n",
      "10  0.62500\n",
      "11  0.68750\n",
      "12  0.75000\n",
      "13  0.81250\n",
      "14  0.87500\n",
      "15  0.93750\n",
      "16  1.00000\n",
      "17  1.12500\n",
      "18  1.25000\n",
      "19  1.37500\n",
      "20  1.50000\n",
      "21  1.62500\n",
      "22  1.75000\n",
      "23  1.87500\n",
      "24  2.00000\n",
      "25  2.25000\n",
      "26  2.50000\n",
      "27  2.75000\n",
      "28  3.00000\n",
      "29  3.25000\n",
      "30  3.50000\n",
      "31  3.75000\n",
      "32 -0.25000\n",
      "33 -0.28125\n",
      "34 -0.31250\n",
      "35 -0.34375\n",
      "36 -0.37500\n",
      "37 -0.40625\n",
      "38 -0.43750\n",
      "39 -0.46875\n",
      "40 -0.50000\n",
      "41 -0.56250\n",
      "42 -0.62500\n",
      "43 -0.68750\n",
      "44 -0.75000\n",
      "45 -0.81250\n",
      "46 -0.87500\n",
      "47 -0.93750\n",
      "48 -1.00000\n",
      "49 -1.12500\n",
      "50 -1.25000\n",
      "51 -1.37500\n",
      "52 -1.50000\n",
      "53 -1.62500\n",
      "54 -1.75000\n",
      "55 -1.87500\n",
      "56 -2.00000\n",
      "57 -2.25000\n",
      "58 -2.50000\n",
      "59 -2.75000\n",
      "60 -3.00000\n",
      "61 -3.25000\n",
      "62 -3.50000\n",
      "63 -3.75000\n",
      "the maximum space betwen values is 0.5 and the miniumum gap between the values is  0.03125\n"
     ]
    }
   ],
   "source": [
    "import pandas as pd\n",
    "pd.set_option('display.max_rows', None)\n",
    "pd.set_option('display.max_columns', None)\n",
    "\n",
    "def Frac(b):\n",
    "    Max = len(b)\n",
    "    d=0\n",
    "    i = 0\n",
    "    while i < Max:\n",
    "        d+=(b[i]*2**-(i+1))\n",
    "        i+=1\n",
    "    return d\n",
    "    \n",
    "def my_ieee_baby(ieee):\n",
    "    Num=0\n",
    "    e=np.zeros(2)\n",
    "    f=np.zeros(3)\n",
    "    if ieee[0]==1:\n",
    "        Neg=True\n",
    "    else:\n",
    "        Neg=False\n",
    "    for i in range(2):\n",
    "        e[i]=ieee[i+1]\n",
    "\n",
    "    for i in range(3):\n",
    "        f[i]=ieee[3+i]\n",
    "    e=my_bin_2_dec(e)\n",
    "    f=Frac(f)\n",
    "    d=(2**(e-2))*(1+f)\n",
    "    if Neg==True:\n",
    "        d=-d  \n",
    "    return d\n",
    "\n",
    "count =0\n",
    "array=np.zeros(64)\n",
    "for z in range(2):\n",
    "    for y in range(2):\n",
    "        for x in range(2):\n",
    "            for i in range(2):\n",
    "                for j in range(2):\n",
    "                    for k in range(2):\n",
    "                        array[count]=my_ieee_baby([z,y,x,i,j,k])\n",
    "                        count+=1\n",
    "print(\"the baby ieee can make \", count, \" numbers\")\n",
    "\n",
    "Maxgap=0\n",
    "Mingap=10\n",
    "for i in range(63):\n",
    "    dif=abs(array[i]-array[i+1])\n",
    "    if dif < Mingap:\n",
    "        Mingap=dif\n",
    "    print(dif)\n",
    "    \n",
    "values = {'number': array}\n",
    "dfS = pd.DataFrame(values)\n",
    "print(dfS)\n",
    "print(\"the maximum space betwen values is 0.5 and the miniumum gap between the values is \", Mingap)"
   ]
  },
  {
   "cell_type": "markdown",
   "metadata": {},
   "source": [
    "## 9. Use the *np.spacing* function to determine the smallest number such that the gap is 1."
   ]
  },
  {
   "cell_type": "markdown",
   "metadata": {},
   "source": [
    "I don't really understand what this means. What gap?"
   ]
  },
  {
   "cell_type": "markdown",
   "metadata": {},
   "source": [
    "## 10. What are some of the advantages and disadvantages of using binary versus decimal?"
   ]
  },
  {
   "cell_type": "markdown",
   "metadata": {},
   "source": [
    "Binary is usful in computation. Because computers work with bits, expressing a number with its binary representaion allows the computer to store and manipulate it. On the other hand decimal is much more effective for humans. Changes between neighboring numbers in decimal make it very easy to interpret a number and quickly understand its value, meanwhile a small change in value of a binary number can cause the string to look significantly different. "
   ]
  },
  {
   "cell_type": "markdown",
   "metadata": {},
   "source": [
    "## 11. Write the number 13 (base10) in base1. How would you do addition and multiplication in base1?"
   ]
  },
  {
   "cell_type": "markdown",
   "metadata": {},
   "source": [
    "$$1111111111111$$\n",
    "In base 1 integers have no meaning within the string since they all must be the same.\n",
    "$$111+11111=11111111$$\n",
    "$$111*11=111111$$"
   ]
  },
  {
   "cell_type": "markdown",
   "metadata": {},
   "source": [
    "## 12. How high can you count on your fingers if you count in binary?"
   ]
  },
  {
   "cell_type": "code",
   "execution_count": 24,
   "metadata": {},
   "outputs": [
    {
     "name": "stdout",
     "output_type": "stream",
     "text": [
      "I could hypothetically count to  1024 .\n"
     ]
    }
   ],
   "source": [
    "count =0\n",
    "for z in range(2):\n",
    "    for y in range(2):\n",
    "        for x in range(2):\n",
    "            for i in range(2):\n",
    "                for j in range(2):\n",
    "                    for k in range(2):\n",
    "                        for q in range(2):\n",
    "                            for w in range(2):\n",
    "                                for e in range(2):\n",
    "                                    for r in range(2):\n",
    "                                        count+=1\n",
    "\n",
    "print(\"I could hypothetically count to \", count, \".\")\n",
    "\n"
   ]
  },
  {
   "cell_type": "markdown",
   "metadata": {},
   "source": [
    "## 13. Let *b* be a binary number having *n* digits. Can you think of ways to multiply and divide *b* by 2 that does not involve any arithmetic? Hint: Think about how you multiply and divide a decimal number by 10."
   ]
  },
  {
   "cell_type": "markdown",
   "metadata": {},
   "source": [
    "In decimal:$$2*2=4$$\n",
    "In Binary(this is a bad example since this looks like 10^2 in decimal):$$10*10=100$$\n",
    "Another example:$$20*2=40$$\n",
    "$$10100*10=101000$$\n",
    "Therefore, $$b\\times2^n=b+{0}$$\n",
    "and,$$b/2^n=b-{0}$$\n",
    "I don't know how to properly write this but hopefuly you can understand what I am saying. You would just always add or remove the zero of the far right of the string. (it will always be a 0 if the number is a multiple of 2.)"
   ]
  },
  {
   "cell_type": "code",
   "execution_count": null,
   "metadata": {},
   "outputs": [],
   "source": []
  }
 ],
 "metadata": {
  "kernelspec": {
   "display_name": "Python 3 (ipykernel)",
   "language": "python",
   "name": "python3"
  },
  "language_info": {
   "codemirror_mode": {
    "name": "ipython",
    "version": 3
   },
   "file_extension": ".py",
   "mimetype": "text/x-python",
   "name": "python",
   "nbconvert_exporter": "python",
   "pygments_lexer": "ipython3",
   "version": "3.12.8"
  }
 },
 "nbformat": 4,
 "nbformat_minor": 4
}
