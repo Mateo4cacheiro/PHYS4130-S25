{
 "cells": [
  {
   "cell_type": "markdown",
   "metadata": {
    "button": false,
    "new_sheet": false,
    "run_control": {
     "read_only": false
    }
   },
   "source": [
    "<!--BOOK_INFORMATION-->\n",
    "*This notebook contains an excerpt from the [Python Programming and Numerical Methods - A Guide for Engineers and Scientists](https://www.elsevier.com/books/python-programming-and-numerical-methods/kong/978-0-12-819549-9), the content is also available at [Berkeley Python Numerical Methods](https://pythonnumericalmethods.berkeley.edu/notebooks/Index.html).*\n",
    "\n",
    "*The copyright of the book belongs to Elsevier. We also have this interactive book online for a better learning experience. The code is released under the [MIT license](https://opensource.org/licenses/MIT). If you find this content useful, please consider supporting the work on [Elsevier](https://www.elsevier.com/books/python-programming-and-numerical-methods/kong/978-0-12-819549-9) or [Amazon](https://www.amazon.com/Python-Programming-Numerical-Methods-Scientists/dp/0128195495/ref=sr_1_1?dchild=1&keywords=Python+Programming+and+Numerical+Methods+-+A+Guide+for+Engineers+and+Scientists&qid=1604761352&sr=8-1)!*"
   ]
  },
  {
   "cell_type": "markdown",
   "metadata": {},
   "source": [
    "# Reading\n",
    "Python Programming and Numerical Methods, \n",
    "[Chapter 9. Representation of Numbers](https://pythonnumericalmethods.studentorg.berkeley.edu/notebooks/chapter09.00-Representation-of-Numbers.html)"
   ]
  },
  {
   "cell_type": "markdown",
   "metadata": {
    "button": false,
    "new_sheet": false,
    "run_control": {
     "read_only": false
    }
   },
   "source": [
    "# Problems\n",
    "\n",
    "## 1. Write a function *my_bin_2_dec(b)*\n",
    "where *b* is binary number represented by a list of ones and zeros. The last element of *b* represents the coefficient of $2^0$, the second-to-last element of b represents the coefficient of $2^1$, and so on. The output variable, *d*, should be the decimal representation of b. The test cases are provided below. "
   ]
  },
  {
   "cell_type": "code",
   "execution_count": 1,
   "metadata": {},
   "outputs": [],
   "source": [
    "def my_bin_2_dec(b):\n",
    "    n = len(b)\n",
    "    d = 0\n",
    "    for i in range(n):\n",
    "        d+=(b[-n + i]) * (2**(n-1-i))\n",
    "    return d"
   ]
  },
  {
   "cell_type": "code",
   "execution_count": 3,
   "metadata": {},
   "outputs": [
    {
     "data": {
      "text/plain": [
       "7"
      ]
     },
     "execution_count": 3,
     "metadata": {},
     "output_type": "execute_result"
    }
   ],
   "source": [
    "# Output: 7\n",
    "my_bin_2_dec([1, 1, 1])\n"
   ]
  },
  {
   "cell_type": "code",
   "execution_count": 5,
   "metadata": {},
   "outputs": [
    {
     "data": {
      "text/plain": [
       "85"
      ]
     },
     "execution_count": 5,
     "metadata": {},
     "output_type": "execute_result"
    }
   ],
   "source": [
    "# Output: 85\n",
    "my_bin_2_dec([1, 0, 1, 0, 1, 0, 1])"
   ]
  },
  {
   "cell_type": "code",
   "execution_count": 7,
   "metadata": {},
   "outputs": [
    {
     "data": {
      "text/plain": [
       "33554431"
      ]
     },
     "execution_count": 7,
     "metadata": {},
     "output_type": "execute_result"
    }
   ],
   "source": [
    "# Output: 33554431\n",
    "my_bin_2_dec([1]*25)"
   ]
  },
  {
   "cell_type": "markdown",
   "metadata": {},
   "source": [
    "## 2. Write a function *my_dec_2_bin(d)*\n",
    "where *d* is a positive integer in decimal, and *b* is the binary representation of *d*. The output *b* must be a list of ones and zeros, and the leading term must be a 1 unless the decimal input value is 0. The test cases are provided below. "
   ]
  },
  {
   "cell_type": "code",
   "execution_count": 49,
   "metadata": {},
   "outputs": [],
   "source": [
    "import numpy as np\n",
    "def my_dec_2_bin(d):\n",
    "    if(d == 0):\n",
    "        l = 1\n",
    "    else:\n",
    "        l = int(np.floor(np.log2(d)) + 1)\n",
    "    b = np.zeros(l)\n",
    "    for i in range(l -1, -1, -1):\n",
    "        r = d % 2\n",
    "        d = d//2\n",
    "        b[i] = int(r)\n",
    "    return b"
   ]
  },
  {
   "cell_type": "code",
   "execution_count": 51,
   "metadata": {},
   "outputs": [
    {
     "data": {
      "text/plain": [
       "array([0.])"
      ]
     },
     "execution_count": 51,
     "metadata": {},
     "output_type": "execute_result"
    }
   ],
   "source": [
    "# Output: [0]\n",
    "my_dec_2_bin(0)"
   ]
  },
  {
   "cell_type": "code",
   "execution_count": 53,
   "metadata": {},
   "outputs": [
    {
     "data": {
      "text/plain": [
       "array([1., 0., 1., 1., 1.])"
      ]
     },
     "execution_count": 53,
     "metadata": {},
     "output_type": "execute_result"
    }
   ],
   "source": [
    "# Output: [1, 0, 1, 1, 1]\n",
    "my_dec_2_bin(23)"
   ]
  },
  {
   "cell_type": "code",
   "execution_count": 55,
   "metadata": {},
   "outputs": [
    {
     "data": {
      "text/plain": [
       "array([1., 0., 0., 0., 0., 0., 1., 1., 0., 0., 0., 1.])"
      ]
     },
     "execution_count": 55,
     "metadata": {},
     "output_type": "execute_result"
    }
   ],
   "source": [
    "# Output: [1, 0, 0, 0, 0, 0, 1, 1, 0, 0, 0, 1]\n",
    "my_dec_2_bin(2097)"
   ]
  },
  {
   "cell_type": "markdown",
   "metadata": {},
   "source": [
    "## 3. Compute *d = my_bin_2_dec(my_dec_2_bin(12654))*\n",
    "Use the two functions you wrote in problems 1 and 2. Do you get the same number?"
   ]
  },
  {
   "cell_type": "code",
   "execution_count": 58,
   "metadata": {},
   "outputs": [
    {
     "name": "stdout",
     "output_type": "stream",
     "text": [
      "12654.0\n"
     ]
    }
   ],
   "source": [
    "d = my_bin_2_dec(my_dec_2_bin(12654))\n",
    "print(d)"
   ]
  },
  {
   "cell_type": "markdown",
   "metadata": {},
   "source": [
    "## 4. Write a function *my_bin_adder(b1,b2)*\n",
    "where *b1*, *b2* and the output variable *b* are binary numbers represented as in problem 1. The output variable should be computed as *b = b1 + b2*. Do not use your functions from problems 1 and 2 to write this function (i.e., do not convert *b1* and *b2* to decimal; add them, and then convert the result back to binary). This function should be able to accept inputs *b1* and *b2* of any length (i.e., very long binary numbers), and *b1* and *b2* may not necessarily be the same length."
   ]
  },
  {
   "cell_type": "code",
   "execution_count": null,
   "metadata": {},
   "outputs": [],
   "source": [
    "def my_bin_adder(b1, b2):\n",
    "    l1 = len(b1)\n",
    "    l2 = len(b2)\n",
    "    if (l1 <= l2):\n",
    "        l = l1\n",
    "    elif(l2 < l1):\n",
    "        l = l2\n",
    "    \n",
    "        \n",
    "    return b"
   ]
  },
  {
   "cell_type": "code",
   "execution_count": null,
   "metadata": {},
   "outputs": [],
   "source": [
    "# Output: [1, 0, 0, 0, 0, 0]\n",
    "my_bin_adder([1, 1, 1, 1, 1], [1])"
   ]
  },
  {
   "cell_type": "code",
   "execution_count": null,
   "metadata": {},
   "outputs": [],
   "source": [
    "# Output: [1, 1, 1, 0, 0, 1, 1]\n",
    "my_bin_adder([1, 1, 1, 1, 1], [1, 0, 1, 0, 1, 0, 0])"
   ]
  },
  {
   "cell_type": "code",
   "execution_count": null,
   "metadata": {},
   "outputs": [],
   "source": [
    "# Output: [1, 0, 1, 1]\n",
    "my_bin_adder([1, 1, 0], [1, 0, 1])"
   ]
  },
  {
   "cell_type": "markdown",
   "metadata": {},
   "source": [
    "## 5. What is the effect of allocating more bits to the fraction versus the characteristic and vice versa? What is the effect of allocating more bits to the sign?"
   ]
  },
  {
   "cell_type": "code",
   "execution_count": null,
   "metadata": {},
   "outputs": [],
   "source": []
  },
  {
   "cell_type": "markdown",
   "metadata": {},
   "source": [
    "## 6. Write a function *my_ieee_2_dec(ieee)*\n",
    "where *ieee* is a string contains 64 characters of ones and zeros representing a 64-bit IEEE754 number. The output should be *d*, the equivalent decimal representation of *ieee*. The input variable *ieee* will always be a 64-element string of ones and zeros defining a 64-bit float. "
   ]
  },
  {
   "cell_type": "code",
   "execution_count": null,
   "metadata": {},
   "outputs": [],
   "source": [
    "def my_ieee_2_dec(ieee):\n",
    "    # Write your function here\n",
    "    return d"
   ]
  },
  {
   "cell_type": "code",
   "execution_count": null,
   "metadata": {},
   "outputs": [],
   "source": [
    "# Output: -48\n",
    "ieee = '1100000001001000000000000000000000000000000000000000000000000000'\n",
    "my_ieee_2_dec(ieee)"
   ]
  },
  {
   "cell_type": "code",
   "execution_count": null,
   "metadata": {},
   "outputs": [],
   "source": [
    "# Output: 3.39999999999999991118215802999\n",
    "ieee = '0100000000001011001100110011001100110011001100110011001100110011'\n",
    "my_ieee_2_dec(ieee)"
   ]
  },
  {
   "cell_type": "markdown",
   "metadata": {},
   "source": [
    "## 7. Write a function *my_dec_2_ieee(d)*\n",
    "where *d* is a number in decimal and output variable *ieee* is a string with 64 characters of ones and zeros representing the 64-bit IEEE754 closest to *d*. You can assume that *d* will not cause an overflow for 64-bit *ieee* numbers."
   ]
  },
  {
   "cell_type": "code",
   "execution_count": null,
   "metadata": {},
   "outputs": [],
   "source": [
    "def my_dec_2_ieee(d):\n",
    "    # write your function code here\n",
    "    return ieee"
   ]
  },
  {
   "cell_type": "code",
   "execution_count": null,
   "metadata": {},
   "outputs": [],
   "source": [
    "# Output: '0100000000101110010111101010001110011100001100011010010001101000'\n",
    "\n",
    "d = 1.518484199625\n",
    "my_dec_2_ieee(d)"
   ]
  },
  {
   "cell_type": "code",
   "execution_count": null,
   "metadata": {},
   "outputs": [],
   "source": [
    "# Output: '1100000001110011010100100100010010010001001010011000100010010000'\n",
    "\n",
    "d = -309.141740\n",
    "my_dec_2_ieee(d)"
   ]
  },
  {
   "cell_type": "code",
   "execution_count": null,
   "metadata": {},
   "outputs": [],
   "source": [
    "# Output: '1100000011011000101010010000000000000000000000000000000000000000'\n",
    "\n",
    "d = -25252\n",
    "my_dec_2_ieee(d)"
   ]
  },
  {
   "cell_type": "markdown",
   "metadata": {},
   "source": [
    "## 8. Define *ieee_baby*\n",
    "to be a representation of numbers using 6 bits where the first bit is the sign bit, the second and third bits are allocated to the characteristic, and the fourth, fifth, and sixth bits are allocated to the fraction. The normalization for the characteristic is 1.\n",
    "\n",
    " - Write all the decimal numbers that can be represented by *ieee_baby*. \n",
    " - What is the largest/smallest gap in *ieee_baby*?"
   ]
  },
  {
   "cell_type": "code",
   "execution_count": null,
   "metadata": {},
   "outputs": [],
   "source": []
  },
  {
   "cell_type": "markdown",
   "metadata": {},
   "source": [
    "## 9. Use the *np.spacing* function to determine the smallest number such that the gap is 1."
   ]
  },
  {
   "cell_type": "code",
   "execution_count": null,
   "metadata": {},
   "outputs": [],
   "source": []
  },
  {
   "cell_type": "markdown",
   "metadata": {},
   "source": [
    "## 10. What are some of the advantages and disadvantages of using binary versus decimal?"
   ]
  },
  {
   "cell_type": "code",
   "execution_count": null,
   "metadata": {},
   "outputs": [],
   "source": []
  },
  {
   "cell_type": "markdown",
   "metadata": {},
   "source": [
    "## 11. Write the number 13 (base10) in base1. How would you do addition and multiplication in base1?"
   ]
  },
  {
   "cell_type": "code",
   "execution_count": null,
   "metadata": {},
   "outputs": [],
   "source": []
  },
  {
   "cell_type": "markdown",
   "metadata": {},
   "source": [
    "## 12. How high can you count on your fingers if you count in binary?"
   ]
  },
  {
   "cell_type": "code",
   "execution_count": null,
   "metadata": {},
   "outputs": [],
   "source": []
  },
  {
   "cell_type": "markdown",
   "metadata": {},
   "source": [
    "## 13. Let *b* be a binary number having *n* digits. Can you think of ways to multiply and divide *b* by 2 that does not involve any arithmetic? Hint: Think about how you multiply and divide a decimal number by 10."
   ]
  },
  {
   "cell_type": "code",
   "execution_count": null,
   "metadata": {},
   "outputs": [],
   "source": []
  }
 ],
 "metadata": {
  "kernelspec": {
   "display_name": "Python [conda env:base] *",
   "language": "python",
   "name": "conda-base-py"
  },
  "language_info": {
   "codemirror_mode": {
    "name": "ipython",
    "version": 3
   },
   "file_extension": ".py",
   "mimetype": "text/x-python",
   "name": "python",
   "nbconvert_exporter": "python",
   "pygments_lexer": "ipython3",
   "version": "3.12.7"
  }
 },
 "nbformat": 4,
 "nbformat_minor": 4
}
