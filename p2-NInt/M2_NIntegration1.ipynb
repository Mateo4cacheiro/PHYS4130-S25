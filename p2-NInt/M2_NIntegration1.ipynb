{
 "cells": [
  {
   "cell_type": "markdown",
   "metadata": {
    "id": "KBIjrAeyx0yU"
   },
   "source": [
    "# Module 3.1 Numerical Integration (1 of 2)\n",
    "\n",
    "Throughout physics we encounter the need to evaluate integrals. \n",
    "For example, work is the line integral of a force along a path, Gauss' law relates the surface\n",
    "integral of the electric field to the enclosed charge, the action is the integral of the Lagrangian,\n",
    "_etc_. \n",
    "\n",
    "## Learning objectives:\n",
    "* Be able to numerically compute an integral using left/right/midpoint methods.\n",
    "* Make an assessment of the accuracy of the integral and plot the error as a function of the number of intervals"
   ]
  },
  {
   "cell_type": "markdown",
   "metadata": {
    "id": "wbtpEFj_x0yX"
   },
   "source": [
    "# Pre-class\n",
    "\n",
    "Remind yourself of Reimann sums, either through your calculus textbook and/or this [video](https://youtu.be/rfG8ce4nNh0)\n",
    "\n",
    "Download the PDF of [TAK](https://catalog.lib.ncsu.edu/record/NCSU4441969) and read Sec 3.3, up to at least page 53. You will probably find it helpful to read along using a paper/pencil, and/or be able to draw on your PDF.\n"
   ]
  },
  {
   "cell_type": "markdown",
   "metadata": {
    "id": "qQO2GECGx0yY"
   },
   "source": [
    "# In-class\n"
   ]
  },
  {
   "cell_type": "markdown",
   "metadata": {
    "id": "1BuSm5lNx0yY"
   },
   "source": [
    "## Preliminary: computing sums\n",
    "\n",
    "As part of this section, we'll need to know how to compute some sums.  Recall that there are a few ways of doing that.  Recall that we computed the sum of an array of numbers `xarray` using:\n",
    "\n",
    "    # ################################################\n",
    "    # For loop type 1\n",
    "    \n",
    "    # Prepare a variable to store the sum\n",
    "    mysum=0\n",
    "    \n",
    "    # Loop over indices\n",
    "    for i in range(len(xarray)):\n",
    "        mysum = mysum + xarray[i]\n",
    "        \n",
    "    # ################################################\n",
    "    # For loop type 2 \n",
    "    # Prepare a variable to store the sum\n",
    "    mysum=0\n",
    "    \n",
    "    # Loop over values\n",
    "    for x in xarray:\n",
    "        mysum = mysum + x\n",
    "    \n",
    "    # ################################################\n",
    "    # No loops -- use the built-in `sum` function\n",
    "    mysum = np.sum( xarray )\n",
    "    \n",
    "If you're ever confused about what a numpy function does, Google is your friend:\n",
    "https://docs.scipy.org/doc/numpy-1.15.0/reference/generated/numpy.sum.html. Although the documentation may be somewhat overwhelming at times, there is usually a simple example or two at the bottom of the page.\n",
    "\n",
    "**Exercise**: Compute the sum of the numbers ``1.0`` through ``10.0`` (inclusive) separated by ``1`` using all three the methods above.  You'll need to generate the `xarray`.  Print it before you sum, just to make sure you have it right."
   ]
  },
  {
   "cell_type": "code",
   "execution_count": 5,
   "metadata": {
    "id": "m7AI8mKBx0yZ"
   },
   "outputs": [
    {
     "name": "stdout",
     "output_type": "stream",
     "text": [
      "[1, 2, 3, 4, 5, 6, 7, 8, 9, 10]\n"
     ]
    }
   ],
   "source": [
    "# Method 1\n",
    "xarray = [1, 2, 3, 4, 5, 6, 7, 8, 9, 10]\n",
    "print(xarray)\n",
    "\n",
    "# Now copy the for loop from above"
   ]
  },
  {
   "cell_type": "code",
   "execution_count": null,
   "metadata": {
    "id": "C3zsUH-1x0ya"
   },
   "outputs": [],
   "source": [
    "# Method 2"
   ]
  },
  {
   "cell_type": "code",
   "execution_count": null,
   "metadata": {
    "id": "34VQ6odSx0ya"
   },
   "outputs": [],
   "source": [
    "# Method 3"
   ]
  },
  {
   "cell_type": "markdown",
   "metadata": {
    "id": "b2BEAF7Hx0yb"
   },
   "source": [
    "## Rectangle Methods\n",
    "\n",
    "\n",
    "The integral of a function is the \"area under the curve\". (This is the case for most functions we encounter in \n",
    "physics. Some exotic functions require a more sophisticated definition of the integral.) The area under the \n",
    "curve $f(x)$ from $x=a$ to $x=b$ can be approximated as the sum of the areas of the rectangles shown in the figure:\n",
    "\n",
    "![Integration rectangles](https://upload.wikimedia.org/wikipedia/commons/e/ea/Integration_rectangle.png)\n",
    "\n",
    "The rectangles are formed by dividing the interval $[a,b]$ into $N$ subintervals, from $[x_0,x_1]$, to \n",
    "$[x_{N-1},x_N]$. (Note that $x_0 = a$ and $x_N = b$.) The height of each rectangle is the value of the function \n",
    "at some point $\\bar x_i$ within the subinterval\n",
    "$[x_{i-1},x_i]$. The area of the $i$th rectangle is the product of the height $f(t_i)$ and the width $x_{i} - x_{i-1}$. \n",
    "Then the integral \n",
    "\n",
    "$$\n",
    "I = \\int_a^b f(x)\\, dx\n",
    "$$\n",
    "\n",
    "is approximated by the sum of the areas of the rectangles:\n",
    "\n",
    "$$\n",
    "I \\approx \\sum_{i=0}^{N-1} f(\\bar x_i)\\,(x_i - x_{i-1})\n",
    "$$\n",
    "\n",
    "This approximation is called the Riemann sum. The exact value for $I$ is obtained by taking the limit $N\\to \\infty$.\n",
    "\n",
    "In practice we must choose where to place the $x_i$'s and  $\\bar x_i$'s before using the Riemann sum to \n",
    "approximate the integral $I$. Different choices lead to different numerical integration methods.\n",
    "The simplest choice for the $x_i$'s is to make them equally spaced between the endpoints. That is, \n",
    "let $h = (b-a)/N$ denote the width of each subinterval, with\n",
    "\n",
    "$$\n",
    "x_i = a + ih\n",
    "$$\n",
    "\n",
    "for $i = 0,\\ldots N-1$. There are three obvious choices for the $\\bar x_i$'s:\n",
    "\n",
    "1) With $\\bar x_i = x_{i} = a + ih $, the height of each rectangle \n",
    "is the value of the function at the left side of the subinterval. This yields the _left endpoint rule_ approximation to $I$:\n",
    "\n",
    "$$\n",
    "I_L =  \\sum_{i=0}^{N-1} f(a + ih) \\, h\n",
    "$$\n",
    "\n",
    "2) With $\\bar x_i = x_{i+1} = a + (i+1)h$, the height of each rectangle is the value of the function at the right side of the subinterval. This \n",
    "is the _right endpoint rule_\n",
    "\n",
    "$$\n",
    "I_R =  \\sum_{i=0}^{N-1} f(a + (i+1)h) \\, h\n",
    "$$\n",
    "\n",
    "3) With $\\bar x_i = (x_i + x_{i+1})/2 = a + ih +h/2$, the height of each rectangle is the value of the \n",
    "function at the midpoint of the subinterval. This yields \n",
    "\n",
    "$$\n",
    "I_M =  \\sum_{i=0}^{N-1} f(a + (i+1/2)h) \\, h\n",
    "$$\n",
    "\n",
    "which is called the \"midpoint rule\". "
   ]
  },
  {
   "cell_type": "markdown",
   "metadata": {
    "id": "OAUZHGkHx0yc"
   },
   "source": [
    "Exercise\n",
    "----------\n",
    "Write a code some integrate the function $f(x) = \\sin x$ between $a=0$ and $b=\\pi/2$ using both \n",
    "the left and right endpoint rules. Structure your code so that it's easy to change $f(x)$, $a$, $b$, and the \n",
    "number of subintervals $N$. I suggest that you make a function of the form:\n",
    "\n",
    "    def leftpoint(f, a, b, N):\n",
    "\n",
    "where you may pass in the function `f` (defined elsewhere), and the variables `a`, `b` and `N`.\n",
    "\n",
    "Compare your results of left/right endpoint to each other, and to the correct value.\n",
    "Your results should become more accurate as you increase the number of subintervals $N$. "
   ]
  },
  {
   "cell_type": "code",
   "execution_count": null,
   "metadata": {
    "collapsed": false,
    "id": "HW_gbxWkx0yc",
    "jupyter": {
     "outputs_hidden": false
    }
   },
   "outputs": [],
   "source": [
    "import numpy as np\n",
    "\n",
    "# Hint: for development/debugging,\n",
    "# you may want to pick a set of $x_i$ that you know.  Print them to the screen to ensure\n",
    "# you know that x-axis is correct. For example, a=1, b=2, N = 10.\n",
    "\n",
    "def leftpoint(f,a,b,N):\n",
    "    h   = # What goes here?\n",
    "    \n",
    "    mysum = 0\n",
    "\n",
    "    # Compute the sum somehow.  Maybe one of the loops above?\n",
    "    #\n",
    "    \n",
    "\n",
    "    return mysum   # Note that we need this to tell the code outside of the function about the result\n",
    "    \n",
    "N = 1000\n",
    "result=leftpoint(np.sin,0,np.pi/2,N)\n",
    "print(\"The result of the integral for \",N,\" intervals is\",result)\n"
   ]
  },
  {
   "cell_type": "markdown",
   "metadata": {
    "id": "IrWCjKzGx0yd"
   },
   "source": [
    "You may notice that the answer is not exactly close to the real answer.  Let's investigate how poorly we're doing.  We can do this here by computing the integral for a variable number of intervals ($N_1, N_2, N_3, ...$).  Suppose we do this for $m$ intervals.  We'll need some storage space, and to compute the integral for each $N_m$.\n",
    "\n",
    "Exercise\n",
    "--------\n",
    "Compute the integral of $sin(x)$ from $x=0$ to $x=\\pi/2$ using the leftpoint rule using $N=2,4,8,16,32,64,128,256,512,1024$.  Make a plot of the answer as a function of $N_m$.\n",
    "\n",
    "import pylab as py\n",
    "import numpy as np\n",
    "\n",
    "Nlist = [2,4,8,16,32,64,128,256,512,1024]\n",
    "anslist = # An array of zeros the same size as Nlist\n",
    "\n",
    "# Note the use of `enumerate` here.  We'll want to store the result in a\n",
    "# different array than the one we're looping over, so `enumerate`\n",
    "# makes sense.\n",
    "for iN, N in enumerate(Nlist):\n",
    "    anslist[iN] = leftpoint(....) # Evaluate the integral using the function you defined\n",
    "\n",
    "py.plot(Nlist, anslist,'o-')\n",
    "py.xlabel('x axis label')\n",
    "py.ylabel('y axis label')\n",
    "py.show()\n",
    "\n",
    "Eventually, for large N, it looks like we approach the right answer.  It's somewhat hard to see exactly how\n",
    "close we get on these scales,\n",
    "so let's adjust.  Make a plot of $\\log(|$calculated answer - real answer$|)$ vs $\\log(N_m)$. $|x|$ indicates the absolute value of $x$, and it's implemented in `numpy` as `numpy.abs()`.\n",
    "\n",
    "_Question:_ Which base is the logarithm computed in?  How could you change it?  (Google is your friend)\n",
    "\n",
    "_Note:_ you can probably re-use your array of answers from above!"
   ]
  },
  {
   "cell_type": "code",
   "execution_count": null,
   "metadata": {
    "id": "oWSBd1pyx0ye"
   },
   "outputs": [],
   "source": [
    "py.plot(## Some stuff ##)\n",
    "py.xlabel('x axis label')\n",
    "py.ylabel('y axis label')\n",
    "py.show()"
   ]
  },
  {
   "cell_type": "markdown",
   "metadata": {
    "id": "DB9WDE9Vx0ye"
   },
   "source": [
    "If all went well, you got a straight line.  What is the slope?\n",
    "\n",
    "Intuitively, we expect the midpoint rule to give a better approximation to the area under the curve than the left or right \n",
    "endpoint rules. "
   ]
  },
  {
   "cell_type": "markdown",
   "metadata": {
    "id": "ewnQXMsbx0ye"
   },
   "source": [
    "# Post-class\n",
    "\n",
    "If you didn't make it to the end (that's fine!), the remaining exercises (above) are to be completed on your own time, so that you are ready to start Module 3.2 which picks up where this one left off. Because these two modules work together, you will benefit most from Module 3.2 if you have draft versions of HW 3.1 and 3.2 (below) done beforehand.\n",
    "\n",
    "If you feel like you can't make it the rest of the way through on your own, please get HELP! from the instructors or your groupmates or on the Forum.\n",
    "\n",
    "If you make it to the end of the Module before the end of class: great! You have time to start work on the homework problems for this module. "
   ]
  },
  {
   "cell_type": "markdown",
   "metadata": {
    "id": "owHCSVJdx0yf"
   },
   "source": [
    "## Homework 3.1 (JHub + $\\LaTeX{}$)\n",
    "\n",
    "a) Write a function `midpoint` which integrates a function `f` from $a$ to $b$, using $N$ intervals. This function will take the form:\n",
    "* Input: f,a,b,N\n",
    "* Output: the integration\n",
    "\n",
    "For this problem, JHub nbgrader will auto-check that your `midpoint` function generates the correct output. You will need to have the exact input/output specified in this problem. Please also include a copy of your code in your $\\LaTeX{}$ writeup.\n",
    "\n",
    "b) For the definite integral of $f(x) = \\sin x$ from $a$ to $b$  from $a=0$ and $b=\\pi/2$, compute the error for $N = 2,4,8,16,32, 64, 128, 256$ and make a log-log plot of the absolute value of the error versus $N$. \n",
    "\n",
    "c) The error is proportional to some power of $N$. What is that power? \n",
    "\n",
    "d) **On the same plot**, show the results from the leftpoint integration  (Make sure to properly label the figure!). Hint: you can just change the name of the function call from `midpoint` to `leftpoint`, and rerun the same code! Include a copy of your `leftpoint` code in your $\\LaTeX{}$ writeup.  \n",
    "\n",
    "e) Which method is better?  And, how much better?"
   ]
  },
  {
   "cell_type": "code",
   "execution_count": 255,
   "metadata": {
    "collapsed": false,
    "id": "qDDIyx4Lx0yf",
    "jupyter": {
     "outputs_hidden": false
    }
   },
   "outputs": [
    {
     "data": {
      "image/png": "[encoded data removed]",
      "text/plain": [
       "<Figure size 640x480 with 1 Axes>"
      ]
     },
     "metadata": {},
     "output_type": "display_data"
    }
   ],
   "source": [
    "import matplotlib.pyplot as plt\n",
    "import numpy as np\n",
    "\n",
    "Nlist = [2,4,8,16,32,64,128,256]\n",
    "anslist = np.zeros(len(Nlist))\n",
    "anslist2 = np.zeros(len(Nlist))\n",
    "\n",
    "def midpoint(f, a, b, N):\n",
    "    h = (b-a)/N\n",
    "    I = 0\n",
    "    for i in range (N-1):\n",
    "        I += f(a + (i+(1/2))*h)*h\n",
    "    return I\n",
    "    \n",
    "def leftpoint(f, a, b, N):\n",
    "    h = (b-a)/N\n",
    "    I = 0\n",
    "    for i in range (N-1):\n",
    "        I += f(a + (i*h))*h\n",
    "    return I\n",
    "\n",
    "for iN, N in enumerate(Nlist):\n",
    "    anslist[iN] = midpoint(np.sin, 0, np.pi/2, N)\n",
    "    \n",
    "for iN, N in enumerate(Nlist):\n",
    "    anslist2[iN] = leftpoint(np.sin, 0, np.pi/2, N)\n",
    "\n",
    "\n",
    "plt.plot(np.log(np.abs(Nlist)), np.log(np.abs(1-anslist)), '-o', label = \"Midpoint\")\n",
    "plt.plot(np.log(np.abs(Nlist)), np.log(np.abs(1-anslist2)), '-o', label = \"Leftpoint\")\n",
    "plt.legend()\n",
    "plt.xlabel('log(N)')\n",
    "plt.ylabel('Error')\n",
    "plt.show()\n",
    "\n"
   ]
  },
  {
   "cell_type": "markdown",
   "metadata": {},
   "source": [
    "a) See code above for function.\n",
    "\n",
    "b) See plot above.\n",
    "\n",
    "c) I think the error is proportional to $\\frac{1}{N}$\n",
    "\n",
    "d) See plot above.\n",
    "\n",
    "e) I think that the leftpoint sum is slightly better but I don't have a good basis for that and I'm probably wrong anyway.\n"
   ]
  },
  {
   "cell_type": "markdown",
   "metadata": {
    "id": "5uQ_KU3Fx0yf"
   },
   "source": [
    "## Homework 3.2 ($\\LaTeX{}$)\n",
    "\n",
    "a) Use the midpoint rule to evaluate the integral \n",
    "    \n",
    "$$\n",
    "I =  \\int_0^{100} \\sin(x^2)\\,dx\n",
    "$$\n",
    "\n",
    "b) Make a table showing $N$ and $I$ for increasing values of $N$. We may consider a value accurate to a certain number of digits if the answer doesn't change when you increase $N$. **Hint:** Plot the function on the array you're planning on evaluating the integral on to see whether you capture what the function is doing.\n",
    "\n",
    "c) Approximately how many subintervals are required for your answer to be \n",
    "accurate to 3 significant figures? 4 significant figures? 5 significant figures? How did you decide this?"
   ]
  },
  {
   "cell_type": "markdown",
   "metadata": {
    "collapsed": false,
    "id": "4J2ExuwYx0yf",
    "jupyter": {
     "outputs_hidden": false
    }
   },
   "source": [
    "# Acknowledgements\n",
    "\n",
    "This module was developed by Karen Daniels at NCSU for PY251."
   ]
  },
  {
   "cell_type": "code",
   "execution_count": 296,
   "metadata": {},
   "outputs": [
    {
     "name": "stdout",
     "output_type": "stream",
     "text": [
      "      Integral       N\n",
      "0     0.908657     0.0\n",
      "1     0.892939     1.0\n",
      "2     0.857023     2.0\n",
      "3     0.844204     3.0\n",
      "4     0.838346     4.0\n",
      "...        ...     ...\n",
      "3195  0.828116  3195.0\n",
      "3196  0.828116  3196.0\n",
      "3197  0.828116  3197.0\n",
      "3198  0.828116  3198.0\n",
      "3199  0.828116  3199.0\n",
      "\n",
      "[3200 rows x 2 columns]\n"
     ]
    }
   ],
   "source": [
    "import matplotlib.pyplot as plt\n",
    "import numpy as np\n",
    "import pandas as pd\n",
    "\n",
    "\n",
    "Nlist = [2,4,8,16,32,64,128,256]\n",
    "anslist = np.zeros(len(Nlist))\n",
    "maxNum = 3200\n",
    "list1 = np.zeros(maxNum)\n",
    "list2 = np.zeros(maxNum)\n",
    "\n",
    "def midpoint(f, a, b, N):\n",
    "    h = (b-a)/N\n",
    "    I = 0\n",
    "    for i in range (N):\n",
    "        I += (f( (a + ( i+(1/2) )*h )**2) )*h\n",
    "    return I\n",
    "\n",
    "for iN, N in enumerate(Nlist):\n",
    "    anslist[iN] = midpoint(np.sin, 0, np.pi/2, N)\n",
    "\n",
    "for i in range(maxNum):\n",
    "    list1[i] = midpoint(np.sin, 0, np.pi/2, i+1)\n",
    "    list2[i] = i\n",
    "\n",
    "tableValues = {\n",
    "    'Integral' : list1,\n",
    "    'N' : list2\n",
    "}\n",
    "df = pd.DataFrame(tableValues)\n",
    "    \n",
    "        \n",
    "\n",
    "print(df)"
   ]
  },
  {
   "cell_type": "markdown",
   "metadata": {},
   "source": [
    "This code doesn't quite work right and I don't have time to fix it. At 3200 subintervals the (wrong) answers I am getting are consistent t"
   ]
  }
 ],
 "metadata": {
  "celltoolbar": "Slideshow",
  "colab": {
   "provenance": []
  },
  "kernelspec": {
   "display_name": "Python [conda env:base] *",
   "language": "python",
   "name": "conda-base-py"
  },
  "language_info": {
   "codemirror_mode": {
    "name": "ipython",
    "version": 3
   },
   "file_extension": ".py",
   "mimetype": "text/x-python",
   "name": "python",
   "nbconvert_exporter": "python",
   "pygments_lexer": "ipython3",
   "version": "3.12.7"
  }
 },
 "nbformat": 4,
 "nbformat_minor": 4
}
